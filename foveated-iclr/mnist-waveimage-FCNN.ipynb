{
 "cells": [
  {
   "cell_type": "markdown",
   "metadata": {},
   "source": [
    "TODO : generaliser à images 32x32, etc."
   ]
  },
  {
   "cell_type": "code",
   "execution_count": 3,
   "metadata": {},
   "outputs": [],
   "source": [
    "%matplotlib inline"
   ]
  },
  {
   "cell_type": "code",
   "execution_count": 4,
   "metadata": {},
   "outputs": [],
   "source": [
    "import numpy as np\n",
    "import scipy as sp\n",
    "import matplotlib.pyplot as plt\n",
    "import tensorflow as tf"
   ]
  },
  {
   "cell_type": "code",
   "execution_count": 5,
   "metadata": {},
   "outputs": [],
   "source": [
    "from waveimage import WaveImage, calc_dim, calc_U, mnist_reshape_32"
   ]
  },
  {
   "cell_type": "code",
   "execution_count": 6,
   "metadata": {},
   "outputs": [],
   "source": [
    "from scipy.stats import multivariate_normal"
   ]
  },
  {
   "cell_type": "code",
   "execution_count": 7,
   "metadata": {},
   "outputs": [],
   "source": [
    "import math"
   ]
  },
  {
   "cell_type": "code",
   "execution_count": 8,
   "metadata": {},
   "outputs": [],
   "source": [
    "import sys, os"
   ]
  },
  {
   "cell_type": "code",
   "execution_count": 9,
   "metadata": {},
   "outputs": [],
   "source": [
    "import pickle"
   ]
  },
  {
   "cell_type": "code",
   "execution_count": 10,
   "metadata": {},
   "outputs": [
    {
     "name": "stdout",
     "output_type": "stream",
     "text": [
      "Extracting MNIST_data/train-images-idx3-ubyte.gz\n",
      "Extracting MNIST_data/train-labels-idx1-ubyte.gz\n",
      "Extracting MNIST_data/t10k-images-idx3-ubyte.gz\n",
      "Extracting MNIST_data/t10k-labels-idx1-ubyte.gz\n"
     ]
    }
   ],
   "source": [
    "from tensorflow.examples.tutorials.mnist import input_data\n",
    "mnist = input_data.read_data_sets(\"MNIST_data/\")\n"
   ]
  },
  {
   "cell_type": "code",
   "execution_count": 11,
   "metadata": {},
   "outputs": [],
   "source": [
    "def mnist_reshape_32_buf(x):\n",
    "    assert x.shape == (28 * 28,)\n",
    "    image = x.reshape(28,28)\n",
    "    image = np.append(np.zeros((2,28)), image, axis = 0)\n",
    "    image = np.append(image, np.zeros((2,28)), axis = 0)\n",
    "    image = np.append(np.zeros((32,2)), image, axis = 1)\n",
    "    image = np.append(image, np.zeros((32,2)), axis = 1)\n",
    "    return image\n",
    "\n"
   ]
  },
  {
   "cell_type": "markdown",
   "metadata": {
    "collapsed": true
   },
   "source": [
    "## Creation de la base d'apprentissage"
   ]
  },
  {
   "cell_type": "code",
   "execution_count": 12,
   "metadata": {},
   "outputs": [],
   "source": [
    "if not os.path.isfile(\"mnist-waveimage-train-mu-Sigma-rho.pkl\"):\n",
    "    \n",
    "    B_train = []\n",
    "    for i in range(len(mnist.train.images)):\n",
    "        if i % 1000 == 0 :\n",
    "            sys.stdout.write('\\rstep %d' % i) \n",
    "            sys.stdout.flush()\n",
    "        c = mnist.train.labels[i]\n",
    "        image = mnist_reshape_32(mnist.train.images[i])\n",
    "        w = WaveImage(image = image)\n",
    "        data = w.get_data()\n",
    "        for h in range(w.get_h_max()):\n",
    "            data_h = w.get_data()[h]\n",
    "            for u in data_h:\n",
    "                v = data_h[u]\n",
    "                B_train += [(v,(c,h,u))]   \n",
    "                \n",
    "    ### Dictionnaire (Base d'apprentissage)    \n",
    "    \n",
    "    Data_train = [[],[],[],[],[],[],[],[],[],[]]\n",
    "    for c in range(10):\n",
    "        Data_train[c] = [{},{},{},{},{},{}] \n",
    "\n",
    "    for d in B_train:\n",
    "        v = d[0]\n",
    "        c = d[1][0]\n",
    "        h = d[1][1]\n",
    "        u = d[1][2]\n",
    "        if u in Data_train[c][h]:\n",
    "            Data_train[c][h][u] += [v]\n",
    "        else:\n",
    "            Data_train[c][h][u] = [v]\n",
    "            \n",
    "    ### Probas elementaires         \n",
    "    mu = []\n",
    "    Sigma = []\n",
    "    rho = []\n",
    "    for c in range(10):\n",
    "        mu += [{}]\n",
    "        Sigma += [{}]\n",
    "        rho += [{}]\n",
    "        for h in range(0,6):\n",
    "            mu[c][h] = {}\n",
    "            Sigma[c][h] = {}\n",
    "            rho[c][h] = {}\n",
    "            for u in calc_U((32, 32), h, 6):\n",
    "                if u in Data_train[c][h]:\n",
    "                    data = []\n",
    "                    cpt = 0\n",
    "                    for v in Data_train[c][h][u]:\n",
    "                        if np.linalg.norm(v) < 1e-16:\n",
    "                            cpt += 1\n",
    "                        else:\n",
    "                            data += [v]\n",
    "                    #if h == -1 :\n",
    "                    #    print len(data)\n",
    "                    if len(data) > 1:\n",
    "                        mu[c][h][u] = np.mean(data, 0) #Data[c][h][u],0)\n",
    "                        Sigma[c][h][u] = np.cov(np.array(data).T) #Data[c][h][u]).T)\n",
    "                        rho[c][h][u] = float(cpt) / len(Data_train[c][h][u])\n",
    "                    else:\n",
    "                        mu[c][h][u] = np.zeros(3)\n",
    "                        Sigma[c][h][u] = np.zeros((3,3))\n",
    "                        rho[c][h][u] = 1.\n",
    "    del B_train, Data_train \n",
    "    pickle.dump((mu, Sigma, rho),  open(\"mnist-waveimage-train-mu-Sigma-rho.pkl\", \"wb\"))\n",
    "else:\n",
    "    mu, Sigma, rho = pickle.load(open(\"mnist-waveimage-train-mu-Sigma-rho.pkl\", \"rb\"))"
   ]
  },
  {
   "cell_type": "markdown",
   "metadata": {},
   "source": [
    "nb_pos = 1 + 1 * 1 + 2 * 2 + 4 * 4 + 8 * 8 + 16 * 16\n",
    "print \"# weak classifiers (# pos):\", nb_pos\n",
    "print \"# total examples :\", len(B_train)\n",
    "print \"# total examples / weak classifier :\", len(B_train) / nb_pos\n",
    "\n",
    "# weak classifiers (# pos): 342\n",
    "# total examples : 18810000\n",
    "# total examples / weak classifier : 55000"
   ]
  },
  {
   "cell_type": "markdown",
   "metadata": {},
   "source": [
    "## Base de test"
   ]
  },
  {
   "cell_type": "code",
   "execution_count": 13,
   "metadata": {},
   "outputs": [
    {
     "name": "stdout",
     "output_type": "stream",
     "text": [
      "Extracting MNIST_data/train-images-idx3-ubyte.gz\n",
      "Extracting MNIST_data/train-labels-idx1-ubyte.gz\n",
      "Extracting MNIST_data/t10k-images-idx3-ubyte.gz\n",
      "Extracting MNIST_data/t10k-labels-idx1-ubyte.gz\n"
     ]
    }
   ],
   "source": [
    "from tensorflow.examples.tutorials.mnist import input_data\n",
    "mnist = input_data.read_data_sets(\"MNIST_data/\")"
   ]
  },
  {
   "cell_type": "code",
   "execution_count": 14,
   "metadata": {},
   "outputs": [],
   "source": [
    "if not os.path.isfile(\"mnist-waveimage-test-data.pkl\"):\n",
    "    B_test = []\n",
    "    for i in range(len(mnist.test.images)):\n",
    "        if i % 1000 == 0 :\n",
    "            sys.stdout.write('\\rstep %d' % i) \n",
    "            sys.stdout.flush()\n",
    "        c = mnist.test.labels[i]\n",
    "        image = mnist_reshape_32(mnist.test.images[i])\n",
    "        w = WaveImage(image = image)\n",
    "        data = w.get_data()\n",
    "        for h in range(w.get_h_max()):\n",
    "            data_h = w.get_data()[h]\n",
    "            for u in data_h:\n",
    "                v = data_h[u]\n",
    "                B_test += [(v,(c,h,u))]    \n",
    "                \n",
    "    Data_test = [[],[],[],[],[],[],[],[],[],[]]\n",
    "    for c in range(10):\n",
    "        Data_test[c] = [{},{},{},{},{},{}] \n",
    "\n",
    "    for d in B_test:\n",
    "        v = d[0]\n",
    "        c = d[1][0]\n",
    "        h = d[1][1]\n",
    "        u = d[1][2]\n",
    "        if u in Data_test[c][h]:\n",
    "            Data_test[c][h][u] += [v]\n",
    "        else:\n",
    "            Data_test[c][h][u] = [v]\n",
    "    del B_test, Data_test\n",
    "    pickle.dump(Data_test,  open(\"mnist-waveimage-test-data.pkl\", \"wb\"))\n",
    "else:\n",
    "    Data_test = pickle.load(open(\"mnist-waveimage-test-data.pkl\", \"rb\"))            "
   ]
  },
  {
   "cell_type": "markdown",
   "metadata": {
    "collapsed": true
   },
   "source": [
    "# Construction du réseau"
   ]
  },
  {
   "cell_type": "code",
   "execution_count": 15,
   "metadata": {},
   "outputs": [
    {
     "name": "stdout",
     "output_type": "stream",
     "text": [
      "Extracting MNIST_data/train-images-idx3-ubyte.gz\n",
      "Extracting MNIST_data/train-labels-idx1-ubyte.gz\n",
      "Extracting MNIST_data/t10k-images-idx3-ubyte.gz\n",
      "Extracting MNIST_data/t10k-labels-idx1-ubyte.gz\n"
     ]
    }
   ],
   "source": [
    "from tensorflow.examples.tutorials.mnist import input_data\n",
    "mnist = input_data.read_data_sets(\"MNIST_data/\", one_hot=True)"
   ]
  },
  {
   "cell_type": "code",
   "execution_count": 16,
   "metadata": {},
   "outputs": [],
   "source": [
    "def wave_tensor_flat(batch_x):\n",
    "    batch_size, _ = batch_x.shape\n",
    "    wave_tensor = np.zeros((batch_size, (16 * 16 + 8 * 8 + 4 * 4 + 2 * 2 + 1) * 3 + 1))\n",
    "    for num_batch in range(batch_size):\n",
    "        image = mnist_reshape_32(batch_x[num_batch])\n",
    "        w = WaveImage(image = image)\n",
    "        for h in range(w.get_h_max()):\n",
    "            data_h = w.get_data()[h]\n",
    "            if h == 0:\n",
    "                wave_tensor[num_batch][0] = data_h[(0,0)]\n",
    "                i_ref = 1\n",
    "            else:\n",
    "                for u in data_h:\n",
    "                    i_ref = 1\n",
    "                    for h_ in range(1, h):\n",
    "                        i_ref += 3 * ((2**(h_-1))**2)\n",
    "                    width_ref = 2**(h-1)\n",
    "                    i_ref += u[0] * width_ref * 3 + u[1] * 3\n",
    "                    wave_tensor[num_batch][i_ref:i_ref + 3] = data_h[u]\n",
    "                    #wave_tensor[num_batch][i_ref:i_ref + 3] = data_h[u]\n",
    "                    #i_ref += 3\n",
    "    return wave_tensor"
   ]
  },
  {
   "cell_type": "code",
   "execution_count": 17,
   "metadata": {},
   "outputs": [],
   "source": [
    "def init_test_tensor(BATCH_SIZE = 1):\n",
    "    return np.zeros((BATCH_SIZE, (16 * 16 + 8 * 8 + 4 * 4 + 2 * 2 + 1) * 3 + 1))"
   ]
  },
  {
   "cell_type": "code",
   "execution_count": 18,
   "metadata": {},
   "outputs": [],
   "source": [
    "def fill_test_tensor(v, h, u, test_tensor, BATCH_SIZE = 1):\n",
    "    if h == 0:\n",
    "        test_tensor[0][0] = v\n",
    "    else:\n",
    "        i_ref = 1\n",
    "        for h_ in range(1, h):\n",
    "            i_ref += 3 * ((2**(h_-1))**2)\n",
    "        width_ref = 2**(h-1)\n",
    "        i_ref += u[0] * width_ref * 3 + u[1] * 3\n",
    "        test_tensor[0][i_ref:i_ref + 3] = v"
   ]
  },
  {
   "cell_type": "markdown",
   "metadata": {},
   "source": [
    "h = 1\n",
    "i_ref = 1\n",
    "for h_ in range(1, h):\n",
    "    i_ref += 3 * ((2**(h_-1))**2)\n",
    "width_ref = 2**(h-1)\n",
    "i_ref += u[0] * width_ref * 3 + u[1] * 3\n",
    "print width_ref"
   ]
  },
  {
   "cell_type": "code",
   "execution_count": 19,
   "metadata": {},
   "outputs": [],
   "source": [
    "def copy_test_tensor(test_tensor):\n",
    "    return np.copy(test_tensor)"
   ]
  },
  {
   "cell_type": "code",
   "execution_count": 23,
   "metadata": {},
   "outputs": [],
   "source": [
    "class Obj:\n",
    "    pass"
   ]
  },
  {
   "cell_type": "code",
   "execution_count": 24,
   "metadata": {},
   "outputs": [],
   "source": [
    "params = Obj()\n",
    "params.batch_size = 100"
   ]
  },
  {
   "cell_type": "code",
   "execution_count": 25,
   "metadata": {},
   "outputs": [],
   "source": [
    "batch = mnist.train.next_batch(params.batch_size)\n",
    "wave_tensor = wave_tensor_flat(batch[0])"
   ]
  },
  {
   "cell_type": "code",
   "execution_count": 26,
   "metadata": {
    "scrolled": false
   },
   "outputs": [
    {
     "data": {
      "image/png": "[encoded data removed]",
      "text/plain": [
       "<matplotlib.figure.Figure at 0x7f5c27712950>"
      ]
     },
     "metadata": {},
     "output_type": "display_data"
    }
   ],
   "source": [
    "_ = plt.plot(wave_tensor.T)"
   ]
  },
  {
   "cell_type": "markdown",
   "metadata": {},
   "source": [
    "Construction \n"
   ]
  },
  {
   "cell_type": "code",
   "execution_count": 27,
   "metadata": {},
   "outputs": [],
   "source": [
    "DEPTH_WAV = 3\n",
    "DIM_WAV = (16 * 16 + 8 * 8 + 4 * 4 + 2 * 2 + 1) * 3 + 1\n",
    "DIM_HIDDEN = 512\n",
    "NB_LABEL = 10\n",
    "STD = 1. #1e-5"
   ]
  },
  {
   "cell_type": "code",
   "execution_count": 28,
   "metadata": {},
   "outputs": [],
   "source": [
    "def weight_variable(shape, stddev = 0.1, name = \"dummy\"):\n",
    "    #initial = tf.truncated_normal(shape, stddev=0.1)\n",
    "    #print stddev\n",
    "    initial = tf.random_normal(shape, stddev = stddev)\n",
    "    #initial = tf.zeros(shape)\n",
    "    return tf.Variable(initial, name = name)"
   ]
  },
  {
   "cell_type": "markdown",
   "metadata": {},
   "source": [
    "### placeholders"
   ]
  },
  {
   "cell_type": "code",
   "execution_count": 29,
   "metadata": {},
   "outputs": [],
   "source": [
    "x = tf.placeholder(tf.float32, shape=[None, DIM_WAV])\n",
    "y = tf.placeholder(tf.float32, shape=[None, 10])\n",
    "keep_prob = tf.placeholder(tf.float32)\n",
    "#batch_phase = tf.placeholder(tf.bool, name='bn_phase')"
   ]
  },
  {
   "cell_type": "markdown",
   "metadata": {},
   "source": [
    "### Layers"
   ]
  },
  {
   "cell_type": "code",
   "execution_count": 30,
   "metadata": {},
   "outputs": [],
   "source": [
    "# Paramètres\n",
    "W_input_hidden1 = weight_variable([DIM_WAV, DIM_HIDDEN], \\\n",
    "                            stddev = STD / DIM_WAV, \\\n",
    "                            name = \"W_input_hidden1\")\n",
    "# Graph construction\n",
    "h_hidden1 = tf.matmul(x, W_input_hidden1, name = 'h_hidden1')\n",
    "z_hidden1 = tf.nn.relu(h_hidden1)\n",
    "z_hidden1_drop = tf.nn.dropout(z_hidden1, keep_prob)\n",
    "\n",
    "\n",
    "# Paramètres\n",
    "W_hidden1_hidden2 = weight_variable([DIM_HIDDEN, DIM_HIDDEN], \\\n",
    "                            stddev = STD / DIM_HIDDEN, \\\n",
    "                            name = \"W_hidden1_hidden2\")\n",
    "# Graph construction\n",
    "h_hidden2 = tf.matmul(z_hidden1_drop, W_hidden1_hidden2, name = 'h_hidden2')\n",
    "z_hidden2 = tf.nn.relu(h_hidden2)\n",
    "z_hidden2_drop = tf.nn.dropout(z_hidden2, keep_prob)\n",
    "\n",
    "# Paramètres\n",
    "W_hidden2_out = weight_variable([DIM_HIDDEN, NB_LABEL], \\\n",
    "                            stddev = STD / DIM_HIDDEN, \\\n",
    "                            name = \"W_hidden2_out\")\n",
    "# Graph construction\n",
    "h_out = tf.matmul(z_hidden2_drop, W_hidden2_out, name = 'h_out')"
   ]
  },
  {
   "cell_type": "markdown",
   "metadata": {},
   "source": [
    "### Loss graph¶"
   ]
  },
  {
   "cell_type": "code",
   "execution_count": 31,
   "metadata": {},
   "outputs": [],
   "source": [
    "classif_loss = tf.reduce_mean(tf.nn.softmax_cross_entropy_with_logits(labels=y, logits=h_out))\n",
    "sigmoid_loss = tf.reduce_mean(tf.reduce_sum(tf.nn.sigmoid_cross_entropy_with_logits(labels=y, logits=h_out), reduction_indices=1))\n",
    "#KL_loss = -tf.reduce_mean(tf.nn.softmax_cross_entropy_with_logits(labels=tf.nn.softmax(h_out), logits=h_out))\n",
    "KL_loss = tf.reduce_mean(tf.log(NB_LABEL * 1.) + tf.reduce_sum(tf.nn.softmax(h_out) * tf.log(tf.nn.softmax(h_out)), reduction_indices=1) )"
   ]
  },
  {
   "cell_type": "markdown",
   "metadata": {},
   "source": [
    "### Train graph¶"
   ]
  },
  {
   "cell_type": "code",
   "execution_count": 32,
   "metadata": {},
   "outputs": [],
   "source": [
    "train = tf.train.AdamOptimizer(1e-4).minimize(classif_loss) # + KL_loss)"
   ]
  },
  {
   "cell_type": "markdown",
   "metadata": {},
   "source": [
    "### Evaluation graph"
   ]
  },
  {
   "cell_type": "code",
   "execution_count": 33,
   "metadata": {},
   "outputs": [],
   "source": [
    "correct_prediction = tf.equal(tf.argmax(h_out, 1), tf.argmax(y, 1))\n",
    "accuracy = tf.reduce_mean(tf.cast(correct_prediction, tf.float32))"
   ]
  },
  {
   "cell_type": "markdown",
   "metadata": {},
   "source": [
    "### Training session"
   ]
  },
  {
   "cell_type": "code",
   "execution_count": 34,
   "metadata": {},
   "outputs": [],
   "source": [
    "sess = tf.InteractiveSession()\n",
    "sess.run(tf.global_variables_initializer())\n",
    "saver = tf.train.Saver()"
   ]
  },
  {
   "cell_type": "code",
   "execution_count": 35,
   "metadata": {},
   "outputs": [],
   "source": [
    "mem = Obj()\n",
    "mem.num_epoch = []\n",
    "mem.classif_eval = []\n",
    "params.n_epochs = 100000"
   ]
  },
  {
   "cell_type": "code",
   "execution_count": 36,
   "metadata": {},
   "outputs": [
    {
     "name": "stdout",
     "output_type": "stream",
     "text": [
      "INFO:tensorflow:Restoring parameters from models/mnist-waveimage-FCNN-512.ckpt\n"
     ]
    }
   ],
   "source": [
    "file_name = \"models/mnist-waveimage-FCNN-512\"\n",
    "\n",
    "if not os.path.isfile(file_name + \".ckpt.index\"):\n",
    "    for num_epoch in range (params.n_epochs):\n",
    "        if num_epoch % 10 == 0:\n",
    "            mem.num_epoch += [num_epoch]\n",
    "            x_test, y_test = mnist.test.next_batch(params.batch_size)\n",
    "            wave_tensor = wave_tensor_flat(x_test)\n",
    "            classif_eval = accuracy.eval(feed_dict={x: wave_tensor,\\\n",
    "                                                    y: y_test,\\\n",
    "                                                    keep_prob: 1})\n",
    "                                                    #batch_phase:False})\n",
    "            mem.classif_eval += [classif_eval]\n",
    "            sys.stdout.write('\\rstep %d\\t classif : %.5f' \\\n",
    "                             % (num_epoch, \\\n",
    "                                classif_eval))\n",
    "            if num_epoch % 1000 == 0:\n",
    "                saver.save(sess,          file_name + \".ckpt\")\n",
    "                pickle.dump(mem,     open(file_name + \"_mem.pkl\", \"wb\"))\n",
    "\n",
    "        batch_x, batch_y = mnist.train.next_batch(params.batch_size) \n",
    "        wave_tensor = wave_tensor_flat(batch_x)\n",
    "        train.run(feed_dict={x: wave_tensor,\\\n",
    "                              y: batch_y,\\\n",
    "                              keep_prob: 1})\n",
    "                              #batch_phase:True})\n",
    "else:\n",
    "    saver.restore(sess,       file_name + \".ckpt\")\n",
    "    mem    = pickle.load(open(file_name + \"_mem.pkl\", \"rb\"))"
   ]
  },
  {
   "cell_type": "code",
   "execution_count": 33,
   "metadata": {},
   "outputs": [
    {
     "name": "stdout",
     "output_type": "stream",
     "text": [
      "\r",
      "classif : 0.98180"
     ]
    }
   ],
   "source": [
    "x_test, y_test = mnist.test.images, mnist.test.labels\n",
    "wave_tensor = wave_tensor_flat(x_test)\n",
    "classif_eval = accuracy.eval(feed_dict={x: wave_tensor,\\\n",
    "                                        y: y_test,\\\n",
    "                                        keep_prob:1})\n",
    "sys.stdout.write('\\rclassif : %.5f' \\\n",
    "                 % (classif_eval,))"
   ]
  },
  {
   "cell_type": "code",
   "execution_count": 36,
   "metadata": {},
   "outputs": [
    {
     "data": {
      "text/plain": [
       "0.80372351"
      ]
     },
     "execution_count": 36,
     "metadata": {},
     "output_type": "execute_result"
    }
   ],
   "source": [
    "sess.run(classif_loss, feed_dict={x: wave_tensor,\\\n",
    "                                                    y: y_test,\\\n",
    "                                                    keep_prob: 1})"
   ]
  },
  {
   "cell_type": "code",
   "execution_count": 37,
   "metadata": {},
   "outputs": [
    {
     "data": {
      "text/plain": [
       "0.43711787"
      ]
     },
     "execution_count": 37,
     "metadata": {},
     "output_type": "execute_result"
    }
   ],
   "source": [
    "sess.run(KL_loss, feed_dict={x: wave_tensor,\\\n",
    "                                                    y: y_test,\\\n",
    "                                                    keep_prob: 1})"
   ]
  },
  {
   "cell_type": "code",
   "execution_count": 38,
   "metadata": {},
   "outputs": [
    {
     "data": {
      "text/plain": [
       "3.3869207"
      ]
     },
     "execution_count": 38,
     "metadata": {},
     "output_type": "execute_result"
    }
   ],
   "source": [
    "sess.run(sigmoid_loss, feed_dict={x: wave_tensor,\\\n",
    "                                                    y: y_test,\\\n",
    "                                                    keep_prob: 1})"
   ]
  },
  {
   "cell_type": "code",
   "execution_count": 34,
   "metadata": {},
   "outputs": [
    {
     "data": {
      "text/plain": [
       "[<matplotlib.lines.Line2D at 0x7fd8d6a3fc10>]"
      ]
     },
     "execution_count": 34,
     "metadata": {},
     "output_type": "execute_result"
    },
    {
     "data": {
      "image/png": "[encoded data removed]",
      "text/plain": [
       "<matplotlib.figure.Figure at 0x7fd898a96650>"
      ]
     },
     "metadata": {},
     "output_type": "display_data"
    }
   ],
   "source": [
    "plt.plot(mem.classif_eval)"
   ]
  },
  {
   "cell_type": "markdown",
   "metadata": {},
   "source": [
    "## Tests single prediction"
   ]
  },
  {
   "cell_type": "code",
   "execution_count": 43,
   "metadata": {},
   "outputs": [
    {
     "name": "stdout",
     "output_type": "stream",
     "text": [
      "[[ 0.  0.  0.  0.  0.  0.  0.  0.  0.  0.]]\n"
     ]
    }
   ],
   "source": [
    "test_tensor = np.zeros((1, DIM_WAV))\n",
    "\n",
    "test = h_out.eval(feed_dict={x: test_tensor, keep_prob:1})\n",
    "\n",
    "print test"
   ]
  },
  {
   "cell_type": "code",
   "execution_count": 44,
   "metadata": {
    "scrolled": true
   },
   "outputs": [
    {
     "name": "stdout",
     "output_type": "stream",
     "text": [
      "[[-0.0066566  -0.00572316 -0.00381979 -0.01190897 -0.00598561  0.00114082\n",
      "  -0.00667713  0.00680717 -0.01397626 -0.01786012]]\n"
     ]
    },
    {
     "data": {
      "text/plain": [
       "[<matplotlib.lines.Line2D at 0x7ff2ac226890>]"
      ]
     },
     "execution_count": 44,
     "metadata": {},
     "output_type": "execute_result"
    },
    {
     "data": {
      "image/png": "[encoded data removed]",
      "text/plain": [
       "<matplotlib.figure.Figure at 0x7ff2ac314610>"
      ]
     },
     "metadata": {},
     "output_type": "display_data"
    }
   ],
   "source": [
    "c = 0\n",
    "ind_test = 0\n",
    "u_test = (7, 7)\n",
    "h_test = 5\n",
    "v = Data_test[c][h_test][u_test][ind_test]\n",
    "\n",
    "test_tensor = np.zeros((1, DIM_WAV))\n",
    "y_test = np.zeros((1, 10))\n",
    "y_test[0, c] = 1\n",
    "\n",
    "fill_test_tensor(v, h_test, u_test, test_tensor)\n",
    "test = h_out.eval(feed_dict={x: test_tensor, keep_prob:1})\n",
    "print test\n",
    "plt.plot(test_tensor[0])"
   ]
  },
  {
   "cell_type": "code",
   "execution_count": 45,
   "metadata": {},
   "outputs": [
    {
     "name": "stdout",
     "output_type": "stream",
     "text": [
      "[[ 0.  0.  0.  1.  0.  0.  0.  0.  0.  0.]] [[-1.12595606 -1.14728284 -1.14292693  1.13128233 -1.07892156 -1.17227411\n",
      "  -0.91522253 -1.2751075  -1.12907171 -1.17660153]]\n",
      "[[  1.13367289e-03   1.06341206e-03   1.07739912e-03   9.89478409e-01\n",
      "    1.30547443e-03   9.86599247e-04   2.13328609e-03   7.24704238e-04\n",
      "    1.12312601e-03   9.73873597e-04]]\n"
     ]
    },
    {
     "data": {
      "image/png": "[encoded data removed]",
      "text/plain": [
       "<matplotlib.figure.Figure at 0x7ff2fddc7510>"
      ]
     },
     "metadata": {},
     "output_type": "display_data"
    }
   ],
   "source": [
    "batch_test, c_test = mnist.test.next_batch(1)\n",
    "test_tensor_full = wave_tensor_flat(batch_test)\n",
    "test = h_out.eval(feed_dict={x: test_tensor_full, keep_prob:1})\n",
    "print c_test, test\n",
    "plt.plot(test_tensor_full[0])\n",
    "print sess.run(tf.nn.softmax(test * 3))"
   ]
  },
  {
   "cell_type": "code",
   "execution_count": 46,
   "metadata": {},
   "outputs": [
    {
     "name": "stdout",
     "output_type": "stream",
     "text": [
      "[ 3.9671571   0.06299021 -0.70196083  2.02279425 -2.67549036 -1.53137264\n",
      "  1.53137264 -1.35465694  1.35465694 -1.35465694]\n",
      "[ 3.9671571   0.06299021 -0.70196083  2.02279425 -2.67549036 -1.53137264\n",
      "  1.53137264 -1.35465694  1.35465694 -1.35465694]\n",
      "(1024,) (1024,)\n"
     ]
    },
    {
     "data": {
      "image/png": "[encoded data removed]",
      "text/plain": [
       "<matplotlib.figure.Figure at 0x7ff2ac0f3510>"
      ]
     },
     "metadata": {},
     "output_type": "display_data"
    }
   ],
   "source": [
    "test_tensor_full = wave_tensor_flat(np.array((batch_test[0],)))\n",
    "plt.plot(test_tensor_full[0])    \n",
    "\n",
    "w_test = WaveImage(image = mnist_reshape_32(batch_test[0]))\n",
    "w_zero = WaveImage()\n",
    "\n",
    "test_tensor = np.zeros((1, (16 * 16 + 8 * 8 + 4 * 4 + 2 * 2 + 1) * 3 + 1))\n",
    "image = mnist_reshape_32(batch_test[0])\n",
    "w = WaveImage(image = image)\n",
    "for h in range(4):\n",
    "    data_h = w.get_data()[h]\n",
    "    for u in data_h:\n",
    "        fill_test_tensor(data_h[u], h, u, test_tensor)\n",
    "        w_zero.set_data(h,u,data_h[u])\n",
    "\n",
    "plt.subplot(1,3,1)        \n",
    "plt.plot(test_tensor[0])        \n",
    "plt.subplot(1,3,2)\n",
    "plt.imshow(w_test.get_image(), interpolation='nearest', cmap='gray_r')\n",
    "plt.subplot(1,3,3)\n",
    "plt.imshow(w_zero.get_image(), interpolation='nearest', cmap='gray_r')\n",
    "\n",
    "print test_tensor[0][0:10] \n",
    "print test_tensor_full[0][0:10]\n",
    "print test_tensor[0].shape, test_tensor_full[0].shape\n"
   ]
  },
  {
   "cell_type": "code",
   "execution_count": 47,
   "metadata": {},
   "outputs": [
    {
     "data": {
      "text/plain": [
       "2.5834126"
      ]
     },
     "execution_count": 47,
     "metadata": {},
     "output_type": "execute_result"
    }
   ],
   "source": [
    "classif_loss.eval(feed_dict={x: test_tensor,\\\n",
    "                                y: y_test,\\\n",
    "                                keep_prob: 1})"
   ]
  },
  {
   "cell_type": "code",
   "execution_count": 48,
   "metadata": {},
   "outputs": [
    {
     "data": {
      "text/plain": [
       "array([[ 1.,  0.,  0.,  0.,  0.,  0.,  0.,  0.,  0.,  0.]])"
      ]
     },
     "execution_count": 48,
     "metadata": {},
     "output_type": "execute_result"
    }
   ],
   "source": [
    "y_test"
   ]
  },
  {
   "cell_type": "code",
   "execution_count": 49,
   "metadata": {},
   "outputs": [
    {
     "data": {
      "text/plain": [
       "0.66404802"
      ]
     },
     "execution_count": 49,
     "metadata": {},
     "output_type": "execute_result"
    }
   ],
   "source": [
    "classif_loss.eval(feed_dict={x: test_tensor_full,\\\n",
    "                                y: c_test,\\\n",
    "                                keep_prob: 1})"
   ]
  },
  {
   "cell_type": "code",
   "execution_count": 50,
   "metadata": {},
   "outputs": [
    {
     "name": "stdout",
     "output_type": "stream",
     "text": [
      "[[ 0.  0.  0.  1.  0.  0.  0.  0.  0.  0.]] [[ 0.07551584  0.08485645  0.08108424  0.23944736  0.07503367  0.0711219\n",
      "   0.08710137  0.09868617  0.0884757   0.09867734]]\n"
     ]
    },
    {
     "data": {
      "text/plain": [
       "[<matplotlib.lines.Line2D at 0x7ff2ac0f39d0>]"
      ]
     },
     "execution_count": 50,
     "metadata": {},
     "output_type": "execute_result"
    },
    {
     "data": {
      "image/png": "[encoded data removed]",
      "text/plain": [
       "<matplotlib.figure.Figure at 0x7ff2ac0d7f90>"
      ]
     },
     "metadata": {},
     "output_type": "display_data"
    }
   ],
   "source": [
    "test = h_out.eval(feed_dict={x: test_tensor, keep_prob:1})\n",
    "print c_test, sess.run(tf.nn.softmax(test))\n",
    "plt.plot(test_tensor[0])"
   ]
  },
  {
   "cell_type": "markdown",
   "metadata": {},
   "source": [
    "## Predictive model"
   ]
  },
  {
   "cell_type": "markdown",
   "metadata": {},
   "source": [
    "#### Liste des coordonnées par niveau : U[h], h $\\in$ 0..5"
   ]
  },
  {
   "cell_type": "code",
   "execution_count": 37,
   "metadata": {
    "scrolled": true
   },
   "outputs": [
    {
     "name": "stdout",
     "output_type": "stream",
     "text": [
      "Niveau  0  : \n",
      " U[ 0 ] : {(0, 0): 1}\n",
      "\n",
      "Niveau  1  : \n",
      " U[ 1 ] : {(0, 0): 1}\n",
      "\n",
      "Niveau  2  : \n",
      " U[ 2 ] : {(0, 1): 1, (1, 0): 1, (0, 0): 1, (1, 1): 1}\n",
      "\n",
      "Niveau  3  : \n",
      " U[ 3 ] : {(0, 1): 1, (1, 2): 1, (3, 2): 1, (0, 0): 1, (3, 3): 1, (3, 0): 1, (3, 1): 1, (2, 1): 1, (0, 2): 1, (2, 0): 1, (1, 3): 1, (2, 3): 1, (2, 2): 1, (1, 0): 1, (0, 3): 1, (1, 1): 1}\n",
      "\n",
      "Niveau  4  : \n",
      " U[ 4 ] : {(7, 3): 1, (4, 7): 1, (1, 3): 1, (6, 4): 1, (3, 0): 1, (5, 4): 1, (0, 7): 1, (5, 6): 1, (2, 6): 1, (1, 6): 1, (5, 1): 1, (3, 7): 1, (2, 5): 1, (0, 3): 1, (7, 2): 1, (4, 0): 1, (1, 2): 1, (6, 7): 1, (3, 3): 1, (2, 0): 1, (7, 6): 1, (4, 4): 1, (6, 3): 1, (1, 5): 1, (3, 6): 1, (2, 2): 1, (7, 7): 1, (5, 7): 1, (5, 3): 1, (4, 1): 1, (1, 1): 1, (2, 7): 1, (3, 2): 1, (0, 0): 1, (6, 6): 1, (5, 0): 1, (7, 1): 1, (4, 5): 1, (0, 4): 1, (5, 5): 1, (1, 4): 1, (6, 0): 1, (7, 5): 1, (2, 3): 1, (2, 1): 1, (4, 2): 1, (1, 0): 1, (6, 5): 1, (3, 5): 1, (0, 1): 1, (7, 0): 1, (4, 6): 1, (5, 2): 1, (6, 1): 1, (3, 1): 1, (0, 2): 1, (7, 4): 1, (0, 6): 1, (6, 2): 1, (4, 3): 1, (1, 7): 1, (0, 5): 1, (3, 4): 1, (2, 4): 1}\n",
      "\n",
      "Niveau  5  : \n",
      " U[ 5 ] : {(7, 3): 1, (6, 9): 1, (12, 1): 1, (11, 11): 1, (7, 12): 1, (14, 4): 1, (13, 4): 1, (12, 12): 1, (0, 7): 1, (15, 1): 1, (1, 6): 1, (0, 10): 1, (3, 7): 1, (2, 5): 1, (1, 11): 1, (8, 5): 1, (5, 8): 1, (4, 0): 1, (10, 8): 1, (9, 0): 1, (6, 7): 1, (5, 5): 1, (11, 5): 1, (10, 7): 1, (7, 6): 1, (6, 10): 1, (12, 6): 1, (15, 11): 1, (14, 1): 1, (13, 7): 1, (0, 4): 1, (15, 4): 1, (1, 1): 1, (8, 15): 1, (4, 10): 1, (3, 2): 1, (2, 6): 1, (9, 14): 1, (8, 2): 1, (5, 11): 1, (4, 5): 1, (10, 13): 1, (9, 3): 1, (6, 0): 1, (11, 0): 1, (7, 5): 1, (14, 15): 1, (12, 11): 1, (15, 14): 1, (14, 2): 1, (13, 10): 1, (0, 1): 1, (3, 12): 1, (1, 12): 1, (8, 12): 1, (4, 15): 1, (3, 1): 1, (2, 11): 1, (9, 9): 1, (5, 14): 1, (10, 14): 1, (6, 13): 1, (11, 15): 1, (7, 8): 1, (14, 8): 1, (13, 0): 1, (12, 8): 1, (15, 13): 1, (13, 13): 1, (0, 14): 1, (3, 11): 1, (2, 1): 1, (1, 15): 1, (8, 9): 1, (4, 12): 1, (2, 12): 1, (9, 4): 1, (5, 1): 1, (10, 3): 1, (7, 2): 1, (6, 14): 1, (12, 2): 1, (11, 10): 1, (7, 15): 1, (14, 5): 1, (13, 3): 1, (12, 13): 1, (15, 0): 1, (1, 5): 1, (0, 11): 1, (3, 6): 1, (2, 2): 1, (1, 10): 1, (8, 6): 1, (4, 1): 1, (10, 9): 1, (9, 7): 1, (6, 4): 1, (5, 4): 1, (11, 4): 1, (10, 4): 1, (7, 1): 1, (6, 11): 1, (12, 7): 1, (11, 9): 1, (15, 10): 1, (14, 6): 1, (13, 6): 1, (0, 5): 1, (15, 7): 1, (1, 0): 1, (0, 8): 1, (4, 11): 1, (3, 5): 1, (2, 7): 1, (9, 13): 1, (8, 3): 1, (5, 10): 1, (4, 6): 1, (10, 10): 1, (9, 2): 1, (6, 1): 1, (5, 7): 1, (11, 3): 1, (7, 4): 1, (14, 12): 1, (12, 4): 1, (15, 9): 1, (14, 3): 1, (13, 9): 1, (0, 2): 1, (3, 15): 1, (1, 3): 1, (8, 13): 1, (4, 8): 1, (3, 0): 1, (2, 8): 1, (9, 8): 1, (8, 0): 1, (5, 13): 1, (10, 15): 1, (6, 2): 1, (11, 14): 1, (7, 11): 1, (14, 9): 1, (12, 9): 1, (15, 12): 1, (13, 12): 1, (0, 15): 1, (3, 10): 1, (1, 14): 1, (8, 10): 1, (4, 13): 1, (2, 13): 1, (9, 11): 1, (5, 0): 1, (10, 0): 1, (6, 15): 1, (12, 3): 1, (11, 13): 1, (7, 14): 1, (14, 10): 1, (13, 2): 1, (12, 14): 1, (15, 3): 1, (13, 15): 1, (1, 4): 1, (0, 12): 1, (3, 9): 1, (2, 3): 1, (1, 9): 1, (8, 7): 1, (4, 2): 1, (2, 14): 1, (9, 6): 1, (6, 5): 1, (5, 3): 1, (11, 7): 1, (10, 5): 1, (7, 0): 1, (6, 8): 1, (12, 0): 1, (11, 8): 1, (7, 13): 1, (14, 7): 1, (13, 5): 1, (0, 6): 1, (15, 6): 1, (1, 7): 1, (0, 9): 1, (3, 4): 1, (2, 4): 1, (9, 12): 1, (8, 4): 1, (5, 9): 1, (4, 7): 1, (10, 11): 1, (9, 1): 1, (6, 6): 1, (5, 6): 1, (11, 2): 1, (10, 6): 1, (7, 7): 1, (14, 13): 1, (12, 5): 1, (15, 8): 1, (14, 0): 1, (13, 8): 1, (0, 3): 1, (15, 5): 1, (3, 14): 1, (1, 2): 1, (8, 14): 1, (4, 9): 1, (3, 3): 1, (2, 9): 1, (9, 15): 1, (8, 1): 1, (5, 12): 1, (4, 4): 1, (10, 12): 1, (6, 3): 1, (11, 1): 1, (7, 10): 1, (14, 14): 1, (12, 10): 1, (15, 15): 1, (13, 11): 1, (0, 0): 1, (3, 13): 1, (1, 13): 1, (8, 11): 1, (4, 14): 1, (2, 10): 1, (9, 10): 1, (5, 15): 1, (10, 1): 1, (6, 12): 1, (11, 12): 1, (7, 9): 1, (14, 11): 1, (13, 1): 1, (12, 15): 1, (15, 2): 1, (13, 14): 1, (0, 13): 1, (3, 8): 1, (2, 0): 1, (1, 8): 1, (8, 8): 1, (4, 3): 1, (2, 15): 1, (9, 5): 1, (5, 2): 1, (11, 6): 1, (10, 2): 1}\n",
      "\n"
     ]
    }
   ],
   "source": [
    "axes = []\n",
    "h_max = 6\n",
    "shape = (32,32)\n",
    "\n",
    "'''for h in range(h_max):\n",
    "    h_opp = 5 - h\n",
    "    b_moins = -.5\n",
    "    b_plus = 27.5\n",
    "    intervalle = b_plus - b_moins\n",
    "    coord_max = int(26.5 / 2**h_opp) + 1\n",
    "    unite = max(intervalle / coord_max, 2**h_opp)\n",
    "    print unite\n",
    "    coords = []\n",
    "    for j in range(coord_max):\n",
    "        coords += [b_moins + (j+.5) * unite]\n",
    "    axes += [coords]\n",
    "print axes\n",
    "print '''''\n",
    "\n",
    "U = {}\n",
    "for h in range(h_max):\n",
    "    #U_ref = {}\n",
    "    #for pos_i in axes[h]:\n",
    "    #    for pos_j in axes[h]:\n",
    "    #        U_ref[h] += [(pos_i, pos_j)]\n",
    "    U [h] = {}\n",
    "    dim_i, dim_j = calc_dim(shape, h, h_max)\n",
    "    for i in range(dim_i):\n",
    "        for j in range(dim_j):\n",
    "            U[h][(i,j)] = 1    \n",
    "    print 'Niveau ', h, ' : '\n",
    "    print ' U[' , h, '] :', U[h]\n",
    "    #print ' U_ref[h] :', U_ref[h]\n",
    "    print ''\n",
    "    \n"
   ]
  },
  {
   "cell_type": "markdown",
   "metadata": {},
   "source": [
    "#### Construction d'un arbre de coordonnées multi-niveau (descendants pour (i,j) au niveau h)"
   ]
  },
  {
   "cell_type": "code",
   "execution_count": 38,
   "metadata": {},
   "outputs": [],
   "source": [
    "def fils_rec(shape, h, h_max, i, j):\n",
    "    \n",
    "    if h < h_max :\n",
    "        dim_i, dim_j = calc_dim(shape, h, h_max)\n",
    "        if i < dim_i and j < dim_j :\n",
    "            rep = [(h,(i,j)), [], [], [], []]\n",
    "            rep[1] = fils_rec(shape, h + 1, h_max, i * 2, j * 2)\n",
    "            rep[2] = fils_rec(shape, h + 1, h_max, i * 2, j * 2 + 1)\n",
    "            rep[3] = fils_rec(shape, h + 1, h_max, i * 2 + 1, j * 2)\n",
    "            rep[4] = fils_rec(shape, h + 1, h_max, i * 2 + 1, j * 2 + 1)\n",
    "        else:\n",
    "            rep = []\n",
    "    else:\n",
    "        rep = []\n",
    "    return rep\n",
    "    \n"
   ]
  },
  {
   "cell_type": "code",
   "execution_count": 39,
   "metadata": {
    "scrolled": true
   },
   "outputs": [
    {
     "name": "stdout",
     "output_type": "stream",
     "text": [
      "[(0, (0, 0)), [(1, (0, 0)), [(2, (0, 0)), [(3, (0, 0)), [(4, (0, 0)), [(5, (0, 0)), [], [], [], []], [(5, (0, 1)), [], [], [], []], [(5, (1, 0)), [], [], [], []], [(5, (1, 1)), [], [], [], []]], [(4, (0, 1)), [(5, (0, 2)), [], [], [], []], [(5, (0, 3)), [], [], [], []], [(5, (1, 2)), [], [], [], []], [(5, (1, 3)), [], [], [], []]], [(4, (1, 0)), [(5, (2, 0)), [], [], [], []], [(5, (2, 1)), [], [], [], []], [(5, (3, 0)), [], [], [], []], [(5, (3, 1)), [], [], [], []]], [(4, (1, 1)), [(5, (2, 2)), [], [], [], []], [(5, (2, 3)), [], [], [], []], [(5, (3, 2)), [], [], [], []], [(5, (3, 3)), [], [], [], []]]], [(3, (0, 1)), [(4, (0, 2)), [(5, (0, 4)), [], [], [], []], [(5, (0, 5)), [], [], [], []], [(5, (1, 4)), [], [], [], []], [(5, (1, 5)), [], [], [], []]], [(4, (0, 3)), [(5, (0, 6)), [], [], [], []], [(5, (0, 7)), [], [], [], []], [(5, (1, 6)), [], [], [], []], [(5, (1, 7)), [], [], [], []]], [(4, (1, 2)), [(5, (2, 4)), [], [], [], []], [(5, (2, 5)), [], [], [], []], [(5, (3, 4)), [], [], [], []], [(5, (3, 5)), [], [], [], []]], [(4, (1, 3)), [(5, (2, 6)), [], [], [], []], [(5, (2, 7)), [], [], [], []], [(5, (3, 6)), [], [], [], []], [(5, (3, 7)), [], [], [], []]]], [(3, (1, 0)), [(4, (2, 0)), [(5, (4, 0)), [], [], [], []], [(5, (4, 1)), [], [], [], []], [(5, (5, 0)), [], [], [], []], [(5, (5, 1)), [], [], [], []]], [(4, (2, 1)), [(5, (4, 2)), [], [], [], []], [(5, (4, 3)), [], [], [], []], [(5, (5, 2)), [], [], [], []], [(5, (5, 3)), [], [], [], []]], [(4, (3, 0)), [(5, (6, 0)), [], [], [], []], [(5, (6, 1)), [], [], [], []], [(5, (7, 0)), [], [], [], []], [(5, (7, 1)), [], [], [], []]], [(4, (3, 1)), [(5, (6, 2)), [], [], [], []], [(5, (6, 3)), [], [], [], []], [(5, (7, 2)), [], [], [], []], [(5, (7, 3)), [], [], [], []]]], [(3, (1, 1)), [(4, (2, 2)), [(5, (4, 4)), [], [], [], []], [(5, (4, 5)), [], [], [], []], [(5, (5, 4)), [], [], [], []], [(5, (5, 5)), [], [], [], []]], [(4, (2, 3)), [(5, (4, 6)), [], [], [], []], [(5, (4, 7)), [], [], [], []], [(5, (5, 6)), [], [], [], []], [(5, (5, 7)), [], [], [], []]], [(4, (3, 2)), [(5, (6, 4)), [], [], [], []], [(5, (6, 5)), [], [], [], []], [(5, (7, 4)), [], [], [], []], [(5, (7, 5)), [], [], [], []]], [(4, (3, 3)), [(5, (6, 6)), [], [], [], []], [(5, (6, 7)), [], [], [], []], [(5, (7, 6)), [], [], [], []], [(5, (7, 7)), [], [], [], []]]]], [(2, (0, 1)), [(3, (0, 2)), [(4, (0, 4)), [(5, (0, 8)), [], [], [], []], [(5, (0, 9)), [], [], [], []], [(5, (1, 8)), [], [], [], []], [(5, (1, 9)), [], [], [], []]], [(4, (0, 5)), [(5, (0, 10)), [], [], [], []], [(5, (0, 11)), [], [], [], []], [(5, (1, 10)), [], [], [], []], [(5, (1, 11)), [], [], [], []]], [(4, (1, 4)), [(5, (2, 8)), [], [], [], []], [(5, (2, 9)), [], [], [], []], [(5, (3, 8)), [], [], [], []], [(5, (3, 9)), [], [], [], []]], [(4, (1, 5)), [(5, (2, 10)), [], [], [], []], [(5, (2, 11)), [], [], [], []], [(5, (3, 10)), [], [], [], []], [(5, (3, 11)), [], [], [], []]]], [(3, (0, 3)), [(4, (0, 6)), [(5, (0, 12)), [], [], [], []], [(5, (0, 13)), [], [], [], []], [(5, (1, 12)), [], [], [], []], [(5, (1, 13)), [], [], [], []]], [(4, (0, 7)), [(5, (0, 14)), [], [], [], []], [(5, (0, 15)), [], [], [], []], [(5, (1, 14)), [], [], [], []], [(5, (1, 15)), [], [], [], []]], [(4, (1, 6)), [(5, (2, 12)), [], [], [], []], [(5, (2, 13)), [], [], [], []], [(5, (3, 12)), [], [], [], []], [(5, (3, 13)), [], [], [], []]], [(4, (1, 7)), [(5, (2, 14)), [], [], [], []], [(5, (2, 15)), [], [], [], []], [(5, (3, 14)), [], [], [], []], [(5, (3, 15)), [], [], [], []]]], [(3, (1, 2)), [(4, (2, 4)), [(5, (4, 8)), [], [], [], []], [(5, (4, 9)), [], [], [], []], [(5, (5, 8)), [], [], [], []], [(5, (5, 9)), [], [], [], []]], [(4, (2, 5)), [(5, (4, 10)), [], [], [], []], [(5, (4, 11)), [], [], [], []], [(5, (5, 10)), [], [], [], []], [(5, (5, 11)), [], [], [], []]], [(4, (3, 4)), [(5, (6, 8)), [], [], [], []], [(5, (6, 9)), [], [], [], []], [(5, (7, 8)), [], [], [], []], [(5, (7, 9)), [], [], [], []]], [(4, (3, 5)), [(5, (6, 10)), [], [], [], []], [(5, (6, 11)), [], [], [], []], [(5, (7, 10)), [], [], [], []], [(5, (7, 11)), [], [], [], []]]], [(3, (1, 3)), [(4, (2, 6)), [(5, (4, 12)), [], [], [], []], [(5, (4, 13)), [], [], [], []], [(5, (5, 12)), [], [], [], []], [(5, (5, 13)), [], [], [], []]], [(4, (2, 7)), [(5, (4, 14)), [], [], [], []], [(5, (4, 15)), [], [], [], []], [(5, (5, 14)), [], [], [], []], [(5, (5, 15)), [], [], [], []]], [(4, (3, 6)), [(5, (6, 12)), [], [], [], []], [(5, (6, 13)), [], [], [], []], [(5, (7, 12)), [], [], [], []], [(5, (7, 13)), [], [], [], []]], [(4, (3, 7)), [(5, (6, 14)), [], [], [], []], [(5, (6, 15)), [], [], [], []], [(5, (7, 14)), [], [], [], []], [(5, (7, 15)), [], [], [], []]]]], [(2, (1, 0)), [(3, (2, 0)), [(4, (4, 0)), [(5, (8, 0)), [], [], [], []], [(5, (8, 1)), [], [], [], []], [(5, (9, 0)), [], [], [], []], [(5, (9, 1)), [], [], [], []]], [(4, (4, 1)), [(5, (8, 2)), [], [], [], []], [(5, (8, 3)), [], [], [], []], [(5, (9, 2)), [], [], [], []], [(5, (9, 3)), [], [], [], []]], [(4, (5, 0)), [(5, (10, 0)), [], [], [], []], [(5, (10, 1)), [], [], [], []], [(5, (11, 0)), [], [], [], []], [(5, (11, 1)), [], [], [], []]], [(4, (5, 1)), [(5, (10, 2)), [], [], [], []], [(5, (10, 3)), [], [], [], []], [(5, (11, 2)), [], [], [], []], [(5, (11, 3)), [], [], [], []]]], [(3, (2, 1)), [(4, (4, 2)), [(5, (8, 4)), [], [], [], []], [(5, (8, 5)), [], [], [], []], [(5, (9, 4)), [], [], [], []], [(5, (9, 5)), [], [], [], []]], [(4, (4, 3)), [(5, (8, 6)), [], [], [], []], [(5, (8, 7)), [], [], [], []], [(5, (9, 6)), [], [], [], []], [(5, (9, 7)), [], [], [], []]], [(4, (5, 2)), [(5, (10, 4)), [], [], [], []], [(5, (10, 5)), [], [], [], []], [(5, (11, 4)), [], [], [], []], [(5, (11, 5)), [], [], [], []]], [(4, (5, 3)), [(5, (10, 6)), [], [], [], []], [(5, (10, 7)), [], [], [], []], [(5, (11, 6)), [], [], [], []], [(5, (11, 7)), [], [], [], []]]], [(3, (3, 0)), [(4, (6, 0)), [(5, (12, 0)), [], [], [], []], [(5, (12, 1)), [], [], [], []], [(5, (13, 0)), [], [], [], []], [(5, (13, 1)), [], [], [], []]], [(4, (6, 1)), [(5, (12, 2)), [], [], [], []], [(5, (12, 3)), [], [], [], []], [(5, (13, 2)), [], [], [], []], [(5, (13, 3)), [], [], [], []]], [(4, (7, 0)), [(5, (14, 0)), [], [], [], []], [(5, (14, 1)), [], [], [], []], [(5, (15, 0)), [], [], [], []], [(5, (15, 1)), [], [], [], []]], [(4, (7, 1)), [(5, (14, 2)), [], [], [], []], [(5, (14, 3)), [], [], [], []], [(5, (15, 2)), [], [], [], []], [(5, (15, 3)), [], [], [], []]]], [(3, (3, 1)), [(4, (6, 2)), [(5, (12, 4)), [], [], [], []], [(5, (12, 5)), [], [], [], []], [(5, (13, 4)), [], [], [], []], [(5, (13, 5)), [], [], [], []]], [(4, (6, 3)), [(5, (12, 6)), [], [], [], []], [(5, (12, 7)), [], [], [], []], [(5, (13, 6)), [], [], [], []], [(5, (13, 7)), [], [], [], []]], [(4, (7, 2)), [(5, (14, 4)), [], [], [], []], [(5, (14, 5)), [], [], [], []], [(5, (15, 4)), [], [], [], []], [(5, (15, 5)), [], [], [], []]], [(4, (7, 3)), [(5, (14, 6)), [], [], [], []], [(5, (14, 7)), [], [], [], []], [(5, (15, 6)), [], [], [], []], [(5, (15, 7)), [], [], [], []]]]], [(2, (1, 1)), [(3, (2, 2)), [(4, (4, 4)), [(5, (8, 8)), [], [], [], []], [(5, (8, 9)), [], [], [], []], [(5, (9, 8)), [], [], [], []], [(5, (9, 9)), [], [], [], []]], [(4, (4, 5)), [(5, (8, 10)), [], [], [], []], [(5, (8, 11)), [], [], [], []], [(5, (9, 10)), [], [], [], []], [(5, (9, 11)), [], [], [], []]], [(4, (5, 4)), [(5, (10, 8)), [], [], [], []], [(5, (10, 9)), [], [], [], []], [(5, (11, 8)), [], [], [], []], [(5, (11, 9)), [], [], [], []]], [(4, (5, 5)), [(5, (10, 10)), [], [], [], []], [(5, (10, 11)), [], [], [], []], [(5, (11, 10)), [], [], [], []], [(5, (11, 11)), [], [], [], []]]], [(3, (2, 3)), [(4, (4, 6)), [(5, (8, 12)), [], [], [], []], [(5, (8, 13)), [], [], [], []], [(5, (9, 12)), [], [], [], []], [(5, (9, 13)), [], [], [], []]], [(4, (4, 7)), [(5, (8, 14)), [], [], [], []], [(5, (8, 15)), [], [], [], []], [(5, (9, 14)), [], [], [], []], [(5, (9, 15)), [], [], [], []]], [(4, (5, 6)), [(5, (10, 12)), [], [], [], []], [(5, (10, 13)), [], [], [], []], [(5, (11, 12)), [], [], [], []], [(5, (11, 13)), [], [], [], []]], [(4, (5, 7)), [(5, (10, 14)), [], [], [], []], [(5, (10, 15)), [], [], [], []], [(5, (11, 14)), [], [], [], []], [(5, (11, 15)), [], [], [], []]]], [(3, (3, 2)), [(4, (6, 4)), [(5, (12, 8)), [], [], [], []], [(5, (12, 9)), [], [], [], []], [(5, (13, 8)), [], [], [], []], [(5, (13, 9)), [], [], [], []]], [(4, (6, 5)), [(5, (12, 10)), [], [], [], []], [(5, (12, 11)), [], [], [], []], [(5, (13, 10)), [], [], [], []], [(5, (13, 11)), [], [], [], []]], [(4, (7, 4)), [(5, (14, 8)), [], [], [], []], [(5, (14, 9)), [], [], [], []], [(5, (15, 8)), [], [], [], []], [(5, (15, 9)), [], [], [], []]], [(4, (7, 5)), [(5, (14, 10)), [], [], [], []], [(5, (14, 11)), [], [], [], []], [(5, (15, 10)), [], [], [], []], [(5, (15, 11)), [], [], [], []]]], [(3, (3, 3)), [(4, (6, 6)), [(5, (12, 12)), [], [], [], []], [(5, (12, 13)), [], [], [], []], [(5, (13, 12)), [], [], [], []], [(5, (13, 13)), [], [], [], []]], [(4, (6, 7)), [(5, (12, 14)), [], [], [], []], [(5, (12, 15)), [], [], [], []], [(5, (13, 14)), [], [], [], []], [(5, (13, 15)), [], [], [], []]], [(4, (7, 6)), [(5, (14, 12)), [], [], [], []], [(5, (14, 13)), [], [], [], []], [(5, (15, 12)), [], [], [], []], [(5, (15, 13)), [], [], [], []]], [(4, (7, 7)), [(5, (14, 14)), [], [], [], []], [(5, (14, 15)), [], [], [], []], [(5, (15, 14)), [], [], [], []], [(5, (15, 15)), [], [], [], []]]]]], [], [], []]\n"
     ]
    }
   ],
   "source": [
    "U_tree = fils_rec(shape, 0, h_max, 0, 0) \n",
    "print U_tree"
   ]
  },
  {
   "cell_type": "markdown",
   "metadata": {
    "collapsed": true
   },
   "source": [
    "#### Calcul des descendants et des parents"
   ]
  },
  {
   "cell_type": "code",
   "execution_count": 40,
   "metadata": {},
   "outputs": [],
   "source": [
    "def calcule_desc(U_tree, mem_h_u_todo):\n",
    "    if U_tree == []:\n",
    "        return []\n",
    "    else :\n",
    "        if U_tree[0] in mem_h_u_todo :\n",
    "            rep = [U_tree[0]]\n",
    "        else:\n",
    "            rep = []\n",
    "        if U_tree[1] != [] :\n",
    "            rep += calcule_desc(U_tree[1], mem_h_u_todo)\n",
    "        if U_tree[2] != [] :\n",
    "            rep += calcule_desc(U_tree[2], mem_h_u_todo)\n",
    "        if U_tree[3] != [] :\n",
    "            rep += calcule_desc(U_tree[3], mem_h_u_todo)\n",
    "        if U_tree[4] != [] :\n",
    "            rep += calcule_desc(U_tree[4], mem_h_u_todo)    \n",
    "        return rep"
   ]
  },
  {
   "cell_type": "code",
   "execution_count": 41,
   "metadata": {},
   "outputs": [
    {
     "name": "stdout",
     "output_type": "stream",
     "text": [
      "[(4, (2, 3)), (5, (5, 7))]\n"
     ]
    }
   ],
   "source": [
    "print calcule_desc(U_tree, [(5, (5, 7)), (4, (2, 3))])"
   ]
  },
  {
   "cell_type": "code",
   "execution_count": 42,
   "metadata": {},
   "outputs": [],
   "source": [
    "def find_desc (U_tree, (h, u)):\n",
    "    if U_tree == []:\n",
    "        return None\n",
    "    else :    \n",
    "        if U_tree[0] == (h, u) :\n",
    "            return U_tree\n",
    "        else:\n",
    "            desc_1 = find_desc(U_tree[1], (h, u))\n",
    "            if desc_1 != None:\n",
    "                return desc_1\n",
    "            desc_2 = find_desc(U_tree[2], (h, u))\n",
    "            if desc_2 != None:\n",
    "                return desc_2\n",
    "            desc_3 = find_desc(U_tree[3], (h, u))\n",
    "            if desc_3 != None:\n",
    "                return desc_3\n",
    "            desc_4 = find_desc(U_tree[4], (h, u))\n",
    "            if desc_4 != None:\n",
    "                return desc_4"
   ]
  },
  {
   "cell_type": "code",
   "execution_count": 43,
   "metadata": {},
   "outputs": [
    {
     "name": "stdout",
     "output_type": "stream",
     "text": [
      "[(4, (2, 3)), [(5, (4, 6)), [], [], [], []], [(5, (4, 7)), [], [], [], []], [(5, (5, 6)), [], [], [], []], [(5, (5, 7)), [], [], [], []]]\n"
     ]
    }
   ],
   "source": [
    "print find_desc(U_tree, (4, (2, 3)))"
   ]
  },
  {
   "cell_type": "code",
   "execution_count": 44,
   "metadata": {},
   "outputs": [],
   "source": [
    "def calcule_asc_path(h,u):\n",
    "    rep = []\n",
    "    for h_inf in range(h, 0, -1):\n",
    "        i_inf = u[0] / (2 ** (h - h_inf))\n",
    "        j_inf = u[1] / (2 ** (h - h_inf))\n",
    "        rep += [(h_inf, (i_inf, j_inf))]\n",
    "    # racine\n",
    "    rep += [(0, (i_inf, j_inf))]\n",
    "    return rep"
   ]
  },
  {
   "cell_type": "code",
   "execution_count": 45,
   "metadata": {},
   "outputs": [
    {
     "name": "stdout",
     "output_type": "stream",
     "text": [
      "[(5, (15, 3)), (4, (7, 1)), (3, (3, 0)), (2, (1, 0)), (1, (0, 0)), (0, (0, 0))]\n"
     ]
    }
   ],
   "source": [
    "print calcule_asc_path(5,(15,3))"
   ]
  },
  {
   "cell_type": "markdown",
   "metadata": {},
   "source": [
    "#### Utilitaires"
   ]
  },
  {
   "cell_type": "markdown",
   "metadata": {},
   "source": [
    "### Reconstruction"
   ]
  },
  {
   "cell_type": "code",
   "execution_count": 47,
   "metadata": {},
   "outputs": [
    {
     "data": {
      "image/png": "[encoded data removed]",
      "text/plain": [
       "<matplotlib.figure.Figure at 0x7f5b613f97d0>"
      ]
     },
     "metadata": {},
     "output_type": "display_data"
    },
    {
     "data": {
      "image/png": "[encoded data removed]",
      "text/plain": [
       "<matplotlib.figure.Figure at 0x7f5bd764bf50>"
      ]
     },
     "metadata": {},
     "output_type": "display_data"
    },
    {
     "data": {
      "image/png": "[encoded data removed]",
      "text/plain": [
       "<matplotlib.figure.Figure at 0x7f5bc2f7cfd0>"
      ]
     },
     "metadata": {},
     "output_type": "display_data"
    },
    {
     "data": {
      "image/png": "[encoded data removed]",
      "text/plain": [
       "<matplotlib.figure.Figure at 0x7f5b60494f50>"
      ]
     },
     "metadata": {},
     "output_type": "display_data"
    },
    {
     "data": {
      "image/png": "[encoded data removed]",
      "text/plain": [
       "<matplotlib.figure.Figure at 0x7f5c11ee33d0>"
      ]
     },
     "metadata": {},
     "output_type": "display_data"
    },
    {
     "data": {
      "image/png": "[encoded data removed]",
      "text/plain": [
       "<matplotlib.figure.Figure at 0x7f5b775d9050>"
      ]
     },
     "metadata": {},
     "output_type": "display_data"
    },
    {
     "data": {
      "image/png": "[encoded data removed]",
      "text/plain": [
       "<matplotlib.figure.Figure at 0x7f5c17719d50>"
      ]
     },
     "metadata": {},
     "output_type": "display_data"
    },
    {
     "data": {
      "image/png": "[encoded data removed]",
      "text/plain": [
       "<matplotlib.figure.Figure at 0x7f5bd0e33150>"
      ]
     },
     "metadata": {},
     "output_type": "display_data"
    },
    {
     "data": {
      "image/png": "[encoded data removed]",
      "text/plain": [
       "<matplotlib.figure.Figure at 0x7f5c0af29410>"
      ]
     },
     "metadata": {},
     "output_type": "display_data"
    },
    {
     "data": {
      "image/png": "[encoded data removed]",
      "text/plain": [
       "<matplotlib.figure.Figure at 0x7f5c18c66c90>"
      ]
     },
     "metadata": {},
     "output_type": "display_data"
    }
   ],
   "source": [
    "avg_image = {}\n",
    "for c in range(10):\n",
    "    w = WaveImage()\n",
    "    for h in range(6):\n",
    "        for u in calc_U((32, 32), h, 6):\n",
    "            w.set_data( h, u, mu[c][h][u] * (1 - rho[c][h][u]))\n",
    "    avg_image[c] = w.get_image()\n",
    "    plt.figure(figsize=(12,8))\n",
    "    plt.subplot(131)\n",
    "    plt.imshow(w.get_image(), interpolation='nearest', cmap='gray_r')\n",
    "\n"
   ]
  },
  {
   "cell_type": "markdown",
   "metadata": {},
   "source": [
    "#### !!!TODO!!! Posterior predictif : $q(.)|_{\\tilde{z}, \\text{u}}$ basé sur une liste de vues `liste_u`  "
   ]
  },
  {
   "cell_type": "markdown",
   "metadata": {},
   "source": [
    "## Generative models"
   ]
  },
  {
   "cell_type": "code",
   "execution_count": 48,
   "metadata": {},
   "outputs": [],
   "source": [
    "def argmax_generator(c, h, u):\n",
    "    test_pred = rho[c][h][u] < .5       \n",
    "    if test_pred:\n",
    "        return mu[c][h][u]\n",
    "    else:\n",
    "        return np.zeros(3)"
   ]
  },
  {
   "cell_type": "code",
   "execution_count": 49,
   "metadata": {},
   "outputs": [],
   "source": [
    "def monte_carlo_generator(c, h, u):\n",
    "    if np.random.random() > rho[c][h][u]:\n",
    "        return np.random.multivariate_normal(mu[c][h][u], Sigma[c][h][u], 1)[0]\n",
    "    else:\n",
    "        return np.zeros(3)"
   ]
  },
  {
   "cell_type": "markdown",
   "metadata": {},
   "source": [
    "## Parcours predictif"
   ]
  },
  {
   "cell_type": "code",
   "execution_count": 50,
   "metadata": {},
   "outputs": [],
   "source": [
    "def predictive_search(sess, z_ref, actions_set, mem_h_u, batch_ref = None):\n",
    "    # actions_set ne contient que les positions de niveau 5\n",
    "    h_ref = h_max - 1\n",
    "    \n",
    "    ## Parcours predictif\n",
    "    batch_predictive_tensor = np.zeros((len(actions_set), DIM_WAV))\n",
    "    dict_u = {}\n",
    "    for i, u_gen in enumerate(actions_set):\n",
    "        dict_u[i] = u_gen\n",
    "        liste_path = calcule_asc_path(h_ref, u_gen)\n",
    "        if batch_ref is not None:\n",
    "            batch_predictive_tensor[i] = np.copy(batch_ref)\n",
    "        for (h_path, u_path) in liste_path[:-1]:\n",
    "            if (h_path, u_path) not in mem_h_u:\n",
    "                v_predictive = argmax_generator(z_ref, h_path, u_path)\n",
    "                fill_test_tensor(v_predictive, h_path, u_path, [batch_predictive_tensor[i]])\n",
    "\n",
    "    log_score_path = sess.run(h_out, feed_dict={x: batch_predictive_tensor,\\\n",
    "                                                        keep_prob: 1})\n",
    "    pi_path = sess.run(tf.nn.softmax(MULT_FACTOR * log_score_path))\n",
    "    \n",
    "    ## 3 ##\n",
    "    i_max = np.where(pi_path[:, z_ref] == max(pi_path[:, z_ref]))[0][0]\n",
    "    return dict_u[i_max], pi_path[i_max, z_ref]\n",
    "    "
   ]
  },
  {
   "cell_type": "markdown",
   "metadata": {},
   "source": [
    "## Saliency maps calculation"
   ]
  },
  {
   "cell_type": "markdown",
   "metadata": {},
   "source": [
    "#### Basic saliency map : `pi_predictive[c][u]` (h = 5)"
   ]
  },
  {
   "cell_type": "code",
   "execution_count": 51,
   "metadata": {
    "scrolled": true
   },
   "outputs": [
    {
     "name": "stdout",
     "output_type": "stream",
     "text": [
      "0\n",
      "1\n",
      "2\n",
      "3\n",
      "4\n",
      "5\n",
      "6\n",
      "7\n",
      "8\n",
      "9\n"
     ]
    }
   ],
   "source": [
    "pi_predictive = {}\n",
    "h_ref = h_max - 1\n",
    "\n",
    "for c in range(10):\n",
    "    print c\n",
    "    pi_predictive[c] = {}\n",
    "\n",
    "    actions_set = {}\n",
    "    for u_add in U[h_ref]:\n",
    "        actions_set[u_add] = 1\n",
    "    \n",
    "    batch_predictive_tensor = np.zeros((len(actions_set), DIM_WAV))\n",
    "    dict_u = {}\n",
    "    \n",
    "    for i, u_gen in enumerate(actions_set):\n",
    "        ##***\n",
    "        #w_aff = WaveImage()\n",
    "\n",
    "        dict_u[i] = u_gen\n",
    "        liste_path = calcule_asc_path(h_ref, u_gen)\n",
    "        for (h_path, u_path) in liste_path[:-1]:\n",
    "            v_predictive = argmax_generator(c, h_path, u_path)\n",
    "            fill_test_tensor(v_predictive, h_path, u_path, [batch_predictive_tensor[i]])\n",
    "            \n",
    "            ##***\n",
    "            #w_aff.set_data(h_path, u_path, v_predictive)\n",
    "            \n",
    "        ##***\n",
    "        #plt.figure()\n",
    "        #plt.imshow(w_aff.get_image(), interpolation='nearest', cmap='gray_r', vmin = 0, vmax = 1)\n",
    "        #plt.plot(2 * u_gen[1] + 0.5, 2 * u_gen[0] + 0.5,'+r', markersize = 15, mew = 3)\n",
    "        #plt.title(str(c) + ':' + str(u_gen))\n",
    "\n",
    "    log_score_path = sess.run(h_out, feed_dict={x: batch_predictive_tensor,\\\n",
    "                                                        keep_prob: 1})\n",
    "    pi_path = sess.run(tf.nn.softmax(MULT_FACTOR * log_score_path))\n",
    "    \n",
    "    for i in range(len(pi_path)):\n",
    "        pi_predictive[c][dict_u[i]] = pi_path[i][c]"
   ]
  },
  {
   "cell_type": "markdown",
   "metadata": {},
   "source": [
    "#### Effective saliency map : `pi_predictive[c][u]` (h = 5) "
   ]
  },
  {
   "cell_type": "code",
   "execution_count": 157,
   "metadata": {
    "scrolled": true
   },
   "outputs": [
    {
     "name": "stdout",
     "output_type": "stream",
     "text": [
      "0\n",
      "1\n",
      "2\n",
      "3\n",
      "4\n",
      "5\n",
      "6\n",
      "7\n",
      "8\n",
      "9\n"
     ]
    }
   ],
   "source": [
    "h_ref = h_max - 1\n",
    "#pi_predictive_eff = {}\n",
    "for c in range(10):\n",
    "    print c\n",
    "    pi_predictive_eff[c] = {}\n",
    "    \n",
    "    mem_h_u = []\n",
    "    actions_set = {}\n",
    "    for u_add in U[h_ref]:\n",
    "        actions_set[u_add] = 1\n",
    "    \n",
    "    while len(actions_set) > 0 :    \n",
    "        u_tilde, pi_ref = predictive_search(sess, c, actions_set, mem_h_u)        \n",
    "        pi_predictive_eff[c][u_tilde] = pi_ref\n",
    "        \n",
    "        actions_set.pop(u_tilde) \n",
    "        liste_path = calcule_asc_path(h_ref, u_tilde)\n",
    "        for (h_path, u_path) in liste_path[:-1]:\n",
    "            if (h_path, u_path) not in mem_h_u:\n",
    "                mem_h_u += [(h_path, u_path)]       \n",
    "                \n",
    "       \n",
    "\n",
    "        \n",
    "        #print 'CHOIX :', (h, u)\n",
    "        \n",
    "        \n",
    "        "
   ]
  },
  {
   "cell_type": "code",
   "execution_count": 52,
   "metadata": {},
   "outputs": [],
   "source": [
    "def calc_pi_predictive_sorted(pi_predictive): \n",
    "    pi_predictive_sorted = {}\n",
    "    for c in range(10):\n",
    "        pi_predictive_sorted[c] = []\n",
    "        for k in pi_predictive[c]:\n",
    "            pi_predictive_sorted[c] += [(pi_predictive[c][k], k)]\n",
    "        pi_predictive_sorted[c] = sorted(pi_predictive_sorted[c])\n",
    "    return pi_predictive_sorted"
   ]
  },
  {
   "cell_type": "code",
   "execution_count": 53,
   "metadata": {},
   "outputs": [],
   "source": [
    "def affiche_path_mnist(path_i, path_j):\n",
    "    col_max = max(15, len(path_i))\n",
    "    colors = plt.cm.rainbow(np.linspace(0, 1, col_max))\n",
    "    b_moins = -.5\n",
    "    b_plus = 31.5\n",
    "    for cpt in range(len(path_i) - 1):\n",
    "        plt.plot(path_j[cpt:cpt + 2],path_i[cpt:cpt + 2], color = colors[col_max - cpt - 1], linewidth= 3)\n",
    "    #plt.plot(path_j,path_i,'r+',markersize=12)\n",
    "    plt.xlim([b_moins,b_plus])\n",
    "    plt.ylim([b_moins,b_plus])\n",
    "    plt.gca().invert_yaxis()"
   ]
  },
  {
   "cell_type": "code",
   "execution_count": 54,
   "metadata": {
    "scrolled": false
   },
   "outputs": [],
   "source": [
    "def affiche_path(pi_predictive): \n",
    "    pi_predictive_sorted = calc_pi_predictive_sorted(pi_predictive)\n",
    "    for c in range(10):\n",
    "        image_moy = avg_image[c] #np.mean(np.array(data_visu[c]),0)\n",
    "        plt.figure(figsize=(12,8))\n",
    "        plt.subplot(131)\n",
    "        plt.imshow(image_moy, interpolation='nearest', cmap='gray_r')\n",
    "        plt.title(c)\n",
    "        path_i = []\n",
    "        path_j = []\n",
    "        image_pi = np.zeros((14,14))\n",
    "        for cpt in range(6):\n",
    "            (pi_pred, u) = pi_predictive_sorted[c][-1-cpt]\n",
    "            #(pi_pred,(h,u)) = pi_predictive_eff[c][cpt]\n",
    "            #print c,pi_pred\n",
    "            path_i += [u[0] * 2 + 1.5]\n",
    "            path_j += [u[1] * 2 + 1.5]\n",
    "        affiche_path_mnist(path_i, path_j)\n",
    "        plt.plot(path_j[0], path_i[0],'+r', markersize = 15, mew = 3)\n",
    "\n",
    "        plt.subplot(132)\n",
    "        sal_map = np.zeros((16, 16))\n",
    "        for i in range(16):\n",
    "            for j in range(16):\n",
    "                sal_map[i,j] = pi_predictive[c][(i,j)] \n",
    "\n",
    "\n",
    "\n",
    "        plt.imshow(sal_map, interpolation='nearest', cmap = 'gist_heat_r', vmin = 0, vmax = 1)\n",
    "\n",
    "    \n"
   ]
  },
  {
   "cell_type": "markdown",
   "metadata": {},
   "source": [
    "## Affichage"
   ]
  },
  {
   "cell_type": "code",
   "execution_count": 175,
   "metadata": {},
   "outputs": [
    {
     "data": {
      "text/plain": [
       "<matplotlib.image.AxesImage at 0x7fd813e83210>"
      ]
     },
     "execution_count": 175,
     "metadata": {},
     "output_type": "execute_result"
    },
    {
     "data": {
      "image/png": "[encoded data removed]",
      "text/plain": [
       "<matplotlib.figure.Figure at 0x7fd893ba7cd0>"
      ]
     },
     "metadata": {},
     "output_type": "display_data"
    }
   ],
   "source": [
    "c = 0\n",
    "sal_map = np.zeros((16, 16))\n",
    "for i in range(16):\n",
    "    for j in range(16):\n",
    "        sal_map[i,j] = pi_predictive[c][(i,j)] \n",
    "        \n",
    "plt.imshow(sal_map, interpolation = 'nearest', cmap = 'gist_heat')"
   ]
  },
  {
   "cell_type": "code",
   "execution_count": 176,
   "metadata": {},
   "outputs": [
    {
     "data": {
      "image/png": "[encoded data removed]",
      "text/plain": [
       "<matplotlib.figure.Figure at 0x7fd8d9ef5450>"
      ]
     },
     "metadata": {},
     "output_type": "display_data"
    },
    {
     "data": {
      "image/png": "[encoded data removed]",
      "text/plain": [
       "<matplotlib.figure.Figure at 0x7fd833abd650>"
      ]
     },
     "metadata": {},
     "output_type": "display_data"
    },
    {
     "data": {
      "image/png": "[encoded data removed]",
      "text/plain": [
       "<matplotlib.figure.Figure at 0x7fd828f99650>"
      ]
     },
     "metadata": {},
     "output_type": "display_data"
    },
    {
     "data": {
      "image/png": "[encoded data removed]",
      "text/plain": [
       "<matplotlib.figure.Figure at 0x7fd8725d8c10>"
      ]
     },
     "metadata": {},
     "output_type": "display_data"
    },
    {
     "data": {
      "image/png": "[encoded data removed]",
      "text/plain": [
       "<matplotlib.figure.Figure at 0x7fd870f31bd0>"
      ]
     },
     "metadata": {},
     "output_type": "display_data"
    },
    {
     "data": {
      "image/png": "[encoded data removed]",
      "text/plain": [
       "<matplotlib.figure.Figure at 0x7fd825f720d0>"
      ]
     },
     "metadata": {},
     "output_type": "display_data"
    },
    {
     "data": {
      "image/png": "[encoded data removed]",
      "text/plain": [
       "<matplotlib.figure.Figure at 0x7fd8d366e350>"
      ]
     },
     "metadata": {},
     "output_type": "display_data"
    },
    {
     "data": {
      "image/png": "[encoded data removed]",
      "text/plain": [
       "<matplotlib.figure.Figure at 0x7fd8a48fc8d0>"
      ]
     },
     "metadata": {},
     "output_type": "display_data"
    },
    {
     "data": {
      "image/png": "[encoded data removed]",
      "text/plain": [
       "<matplotlib.figure.Figure at 0x7fd8225ab390>"
      ]
     },
     "metadata": {},
     "output_type": "display_data"
    },
    {
     "data": {
      "image/png": "[encoded data removed]",
      "text/plain": [
       "<matplotlib.figure.Figure at 0x7fd814810390>"
      ]
     },
     "metadata": {},
     "output_type": "display_data"
    }
   ],
   "source": [
    "affiche_path(pi_predictive)"
   ]
  },
  {
   "cell_type": "code",
   "execution_count": 160,
   "metadata": {},
   "outputs": [
    {
     "data": {
      "text/plain": [
       "<matplotlib.image.AxesImage at 0x7fd87f791410>"
      ]
     },
     "execution_count": 160,
     "metadata": {},
     "output_type": "execute_result"
    },
    {
     "data": {
      "image/png": "[encoded data removed]",
      "text/plain": [
       "<matplotlib.figure.Figure at 0x7fd8a59794d0>"
      ]
     },
     "metadata": {},
     "output_type": "display_data"
    }
   ],
   "source": [
    "c = 9\n",
    "sal_map = np.zeros((16, 16))\n",
    "for i in range(16):\n",
    "    for j in range(16):\n",
    "        sal_map[i,j] = pi_predictive_eff[c][(i,j)] \n",
    "        \n",
    "plt.imshow(sal_map, interpolation = 'nearest', cmap = 'gist_heat_r')"
   ]
  },
  {
   "cell_type": "code",
   "execution_count": 168,
   "metadata": {},
   "outputs": [
    {
     "data": {
      "image/png": "[encoded data removed]",
      "text/plain": [
       "<matplotlib.figure.Figure at 0x7fd86fac81d0>"
      ]
     },
     "metadata": {},
     "output_type": "display_data"
    },
    {
     "data": {
      "image/png": "[encoded data removed]",
      "text/plain": [
       "<matplotlib.figure.Figure at 0x7fd8c9aef750>"
      ]
     },
     "metadata": {},
     "output_type": "display_data"
    },
    {
     "data": {
      "image/png": "[encoded data removed]",
      "text/plain": [
       "<matplotlib.figure.Figure at 0x7fd88a32cc10>"
      ]
     },
     "metadata": {},
     "output_type": "display_data"
    },
    {
     "data": {
      "image/png": "[encoded data removed]",
      "text/plain": [
       "<matplotlib.figure.Figure at 0x7fd83a4fae50>"
      ]
     },
     "metadata": {},
     "output_type": "display_data"
    },
    {
     "data": {
      "image/png": "[encoded data removed]",
      "text/plain": [
       "<matplotlib.figure.Figure at 0x7fd83012b550>"
      ]
     },
     "metadata": {},
     "output_type": "display_data"
    },
    {
     "data": {
      "image/png": "[encoded data removed]",
      "text/plain": [
       "<matplotlib.figure.Figure at 0x7fd8b4ecdb50>"
      ]
     },
     "metadata": {},
     "output_type": "display_data"
    },
    {
     "data": {
      "image/png": "[encoded data removed]",
      "text/plain": [
       "<matplotlib.figure.Figure at 0x7fd8e16c7bd0>"
      ]
     },
     "metadata": {},
     "output_type": "display_data"
    },
    {
     "data": {
      "image/png": "[encoded data removed]",
      "text/plain": [
       "<matplotlib.figure.Figure at 0x7fd8af0a1b50>"
      ]
     },
     "metadata": {},
     "output_type": "display_data"
    },
    {
     "data": {
      "image/png": "[encoded data removed]",
      "text/plain": [
       "<matplotlib.figure.Figure at 0x7fd88173c190>"
      ]
     },
     "metadata": {},
     "output_type": "display_data"
    },
    {
     "data": {
      "image/png": "[encoded data removed]",
      "text/plain": [
       "<matplotlib.figure.Figure at 0x7fd88efbb190>"
      ]
     },
     "metadata": {},
     "output_type": "display_data"
    }
   ],
   "source": [
    "affiche_path(pi_predictive_eff)"
   ]
  },
  {
   "cell_type": "markdown",
   "metadata": {},
   "source": [
    "#### Actual algorithm (see paper)"
   ]
  },
  {
   "cell_type": "code",
   "execution_count": 55,
   "metadata": {},
   "outputs": [],
   "source": [
    "def prediction_based_policy(sess, log_score, actions_set, mem_h_u, batch_ref = None):\n",
    "    \n",
    "    ## 1 ##\n",
    "    z_tilde = np.argmax(log_score)    \n",
    "    u_tilde, _ = predictive_search(sess, z_tilde, actions_set, mem_h_u, batch_ref = batch_ref)\n",
    "    \n",
    "    return u_tilde"
   ]
  },
  {
   "cell_type": "code",
   "execution_count": 56,
   "metadata": {},
   "outputs": [],
   "source": [
    "def saliency_based_policy(log_score, pi_predictive_sorted, mem_h_u):\n",
    "    h_ref = h_max - 1\n",
    "    z_tilde = np.argmax(log_score)\n",
    "    u_tilde = pi_predictive_sorted[z_tilde].pop()[1]\n",
    "    while (h_ref, u_tilde) in mem_h_u:\n",
    "        u_tilde = pi_predictive_sorted[z_tilde].pop()[1]\n",
    "    return u_tilde\n",
    "    "
   ]
  },
  {
   "cell_type": "code",
   "execution_count": 57,
   "metadata": {},
   "outputs": [],
   "source": [
    "def random_policy(log_score, mem_h_u):\n",
    "    h_ref = h_max - 1\n",
    "    ## 1 ##\n",
    "    z_tilde = np.argmax(log_score)\n",
    "    u_tilde = (np.random.randint(16),  np.random.randint(16))\n",
    "    while (h_ref, u_tilde) in mem_h_u:\n",
    "        u_tilde = (np.random.randint(16),  np.random.randint(16))\n",
    "    return u_tilde"
   ]
  },
  {
   "cell_type": "code",
   "execution_count": 58,
   "metadata": {},
   "outputs": [],
   "source": [
    "def scene_exploration(sess, test_tensor, z_ref, ind_test, log_score, actions_set, mem_h_u, record, \\\n",
    "                      POL = 'predictive', AFF = True, THRESHOLD = 1e-4):\n",
    "    \n",
    "    assert POL == 'predictive' or POL == 'saliency-based' or POL == 'random' or POL == 'full'\n",
    "    \n",
    "    if POL == 'full':\n",
    "        THRESHOLD = 0\n",
    "        POL = 'saliency-based'\n",
    "    \n",
    "    TOUR = 0\n",
    "    END = False\n",
    "    h_ref = h_max - 1\n",
    "    \n",
    "    # saliency-based approach\n",
    "    if POL == 'saliency-based':\n",
    "        pi_predictive_sorted = calc_pi_predictive_sorted(pi_predictive_eff)\n",
    "    \n",
    "    while END == False:\n",
    "        \n",
    "        if AFF:\n",
    "            print '************************************'\n",
    "            print '******       TOUR    ' + str(TOUR + 1) + '        ******'\n",
    "            print '************************************'\n",
    "        \n",
    "        # 1. CHOIX\n",
    "        if POL == 'predictive':\n",
    "            u_tilde = prediction_based_policy(sess, log_score, actions_set, mem_h_u, batch_ref = test_tensor)\n",
    "        elif POL == 'saliency-based':\n",
    "            u_tilde = saliency_based_policy(log_score, pi_predictive_sorted, mem_h_u)\n",
    "        else:\n",
    "            u_tilde = random_policy(log_score, mem_h_u)\n",
    "        \n",
    "        if AFF:\n",
    "            print 'CHOIX :', u_tilde\n",
    "        \n",
    "        # 2. LECTURE + UPDATE\n",
    "        liste_path = calcule_asc_path(h_ref, u_tilde)\n",
    "        \n",
    "        for (h_path, u_path) in reversed(liste_path):\n",
    "            if (h_path, u_path) not in mem_h_u:\n",
    "                v = Data_test[z_ref][h_path][u_path][ind_test] \n",
    "                fill_test_tensor(v, h_path, u_path, test_tensor)\n",
    "                \n",
    "                #lik_path = calc_lik(v, h_path, u_path)\n",
    "                #log_score = update_log_score(log_score, lik_path)\n",
    "                log_score = sess.run(h_out, feed_dict={x: test_tensor,\\\n",
    "                                                            keep_prob: 1})\n",
    "                pi = sess.run(tf.nn.softmax(MULT_FACTOR * log_score))[0]\n",
    "                \n",
    "                mem_h_u += [(h_path, u_path)]\n",
    "                #pi = calc_pi(log_score)\n",
    "                H = np.sum(- pi * np.log(pi))\n",
    "                out = np.argmax(pi)\n",
    "                \n",
    "                if AFF :\n",
    "                    print 'pi : ', pi\n",
    "                    print 'out :', out\n",
    "                    print 'pi[out] : ', pi[out]\n",
    "                    print 'H : ', H\n",
    "                \n",
    "                record.mem_pi += [pi]\n",
    "                record.mem_H += [H]\n",
    "                record.mem_z += [out]\n",
    "                record.mem_h_u += [(h_path, u_path)]\n",
    "                record.nb_coeffs += 3\n",
    "                \n",
    "        # 3. INHIBITION OF RETURN        \n",
    "        actions_set.pop(u_tilde)\n",
    "        \n",
    "        record.mem_u += [u_tilde]\n",
    "        record.nb_saccades += 1\n",
    "                \n",
    "        if AFF:\n",
    "            print '****', 'z :', z_ref, ', u :',u_tilde, ' ---> ', out\n",
    "              \n",
    "        #mem_u_final += [u]\n",
    "        #mem_pi_copy += [list(mem_pi)]\n",
    "        #mem_H_copy += [list(mem_H)]\n",
    "        #mem_out += [out]\n",
    "        #if TOUR == 50 or (TOUR >5 and pi[out] > .99999):   \n",
    "        \n",
    "        if TOUR == len(U[h_max - 1]) - 1 or H < THRESHOLD:\n",
    "        #if TOUR == 50 or H < THRESHOLD:\n",
    "            END = True\n",
    "            if AFF :\n",
    "                print '************************************'\n",
    "                print '******         FINI          *******'\n",
    "                print '************************************' \n",
    "            return out\n",
    "            #mem_out_final += [out]\n",
    "            #mem_turn += [TOUR]\n",
    "        else:\n",
    "            TOUR += 1\n",
    "           \n",
    "        "
   ]
  },
  {
   "cell_type": "markdown",
   "metadata": {},
   "source": [
    "#### Single image exploration (+ record TODO) "
   ]
  },
  {
   "cell_type": "code",
   "execution_count": 59,
   "metadata": {},
   "outputs": [],
   "source": [
    "from record import Record            "
   ]
  },
  {
   "cell_type": "markdown",
   "metadata": {
    "collapsed": true
   },
   "source": [
    "#### Affichage"
   ]
  },
  {
   "cell_type": "code",
   "execution_count": 60,
   "metadata": {},
   "outputs": [],
   "source": [
    "from record import affiche_records   "
   ]
  },
  {
   "cell_type": "markdown",
   "metadata": {},
   "source": [
    "#### Main"
   ]
  },
  {
   "cell_type": "code",
   "execution_count": 61,
   "metadata": {},
   "outputs": [],
   "source": [
    "NB_CLASSES = 10\n",
    "NB_TRIALS = 100\n",
    "MULT_FACTOR = 20"
   ]
  },
  {
   "cell_type": "code",
   "execution_count": 63,
   "metadata": {
    "scrolled": true
   },
   "outputs": [
    {
     "name": "stdout",
     "output_type": "stream",
     "text": [
      "Policy : predictive, threshold : 0.1, classe 0, step 99, rep : 6, elapsed time : 54.7525\n",
      "Policy : predictive, threshold : 0.1, classe 1, step 99, rep : 8, elapsed time : 3327.07\n",
      "Policy : predictive, threshold : 0.1, classe 2, step 99, rep : 2, elapsed time : 177.152\n",
      "Policy : predictive, threshold : 0.1, classe 3, step 99, rep : 3, elapsed time : 335.846\n",
      "Policy : predictive, threshold : 0.1, classe 4, step 99, rep : 1, elapsed time : 406.958\n",
      "Policy : predictive, threshold : 0.1, classe 5, step 99, rep : 7, elapsed time : 468.177\n",
      "Policy : predictive, threshold : 0.1, classe 6, step 99, rep : 6, elapsed time : 427.418\n",
      "Policy : predictive, threshold : 0.1, classe 7, step 99, rep : 7, elapsed time : 504.772\n",
      "Policy : predictive, threshold : 0.1, classe 8, step 99, rep : 8, elapsed time : 959.93\n",
      "Policy : predictive, threshold : 0.1, classe 9, step 99, rep : 9, elapsed time : 771.224\n",
      "\n",
      "\n",
      "Nb trials : 1000\n",
      "\n",
      "\n",
      "Policy : predictive, threshold : 0.01, classe 0, step 99, rep : 6, elapsed time : 1205.13\n",
      "Policy : predictive, threshold : 0.01, classe 1, step 99, rep : 8, elapsed time : 1390.98\n",
      "Policy : predictive, threshold : 0.01, classe 2, step 99, rep : 2, elapsed time : 1387.51\n",
      "Policy : predictive, threshold : 0.01, classe 3, step 99, rep : 3, elapsed time : 1812.4\n",
      "Policy : predictive, threshold : 0.01, classe 4, step 99, rep : 4, elapsed time : 1991.51\n",
      "Policy : predictive, threshold : 0.01, classe 5, step 99, rep : 5, elapsed time : 2495.37\n",
      "Policy : predictive, threshold : 0.01, classe 6, step 99, rep : 6, elapsed time : 1513.19\n",
      "Policy : predictive, threshold : 0.01, classe 7, step 99, rep : 7, elapsed time : 1766.85\n",
      "Policy : predictive, threshold : 0.01, classe 8, step 99, rep : 8, elapsed time : 2345.48\n",
      "Policy : predictive, threshold : 0.01, classe 9, step 99, rep : 9, elapsed time : 2684.42\n",
      "\n",
      "\n",
      "Nb trials : 1000\n",
      "\n",
      "\n",
      "Policy : predictive, threshold : 0.001, classe 0, step 99, rep : 6, elapsed time : 3509.61\n",
      "Policy : predictive, threshold : 0.001, classe 1, step 99, rep : 8, elapsed time : 4287.24\n",
      "Policy : predictive, threshold : 0.001, classe 2, step 99, rep : 2, elapsed time : 3776.75\n",
      "Policy : predictive, threshold : 0.001, classe 3, step 99, rep : 3, elapsed time : 4305.54\n",
      "Policy : predictive, threshold : 0.001, classe 4, step 99, rep : 4, elapsed time : 5848.06\n",
      "Policy : predictive, threshold : 0.001, classe 5, step 99, rep : 5, elapsed time : 6705.58\n",
      "Policy : predictive, threshold : 0.001, classe 6, step 99, rep : 6, elapsed time : 3836.26\n",
      "Policy : predictive, threshold : 0.001, classe 7, step 99, rep : 7, elapsed time : 4172.34\n",
      "Policy : predictive, threshold : 0.001, classe 8, step 99, rep : 8, elapsed time : 6109.88\n",
      "Policy : predictive, threshold : 0.001, classe 9, step 99, rep : 9, elapsed time : 5772.1\n",
      "\n",
      "\n",
      "Nb trials : 1000\n",
      "\n",
      "\n",
      "Policy : predictive, threshold : 0.0001, classe 0, step 99, rep : 6, elapsed time : 6902.57\n",
      "Policy : predictive, threshold : 0.0001, classe 1, step 99, rep : 1, elapsed time : 8004.13\n",
      "Policy : predictive, threshold : 0.0001, classe 2, step 99, rep : 2, elapsed time : 8229.9\n",
      "Policy : predictive, threshold : 0.0001, classe 3, step 99, rep : 3, elapsed time : 10444.3\n",
      "Policy : predictive, threshold : 0.0001, classe 4, step 99, rep : 4, elapsed time : 10161.2\n",
      "Policy : predictive, threshold : 0.0001, classe 5, step 99, rep : 5, elapsed time : 13088.9\n",
      "Policy : predictive, threshold : 0.0001, classe 6, step 99, rep : 6, elapsed time : 8457.97\n",
      "Policy : predictive, threshold : 0.0001, classe 7, step 99, rep : 7, elapsed time : 7272.24\n",
      "Policy : predictive, threshold : 0.0001, classe 8, step 99, rep : 8, elapsed time : 13877.1\n",
      "Policy : predictive, threshold : 0.0001, classe 9, step 99, rep : 9, elapsed time : 9596.12\n",
      "\n",
      "\n",
      "Nb trials : 1000\n",
      "\n",
      "\n",
      "Policy : predictive, threshold : 1e-05, classe 0, step 99, rep : 6, elapsed time : 12927.1\n",
      "Policy : predictive, threshold : 1e-05, classe 1, step 99, rep : 1, elapsed time : 12532.7\n",
      "Policy : predictive, threshold : 1e-05, classe 2, step 99, rep : 2, elapsed time : 15694.3\n"
     ]
    },
    {
     "ename": "KeyboardInterrupt",
     "evalue": "",
     "output_type": "error",
     "traceback": [
      "\u001b[0;31m---------------------------------------------------------------------------\u001b[0m",
      "\u001b[0;31mKeyboardInterrupt\u001b[0m                         Traceback (most recent call last)",
      "\u001b[0;32m<ipython-input-63-57732a8ce72c>\u001b[0m in \u001b[0;36m<module>\u001b[0;34m()\u001b[0m\n\u001b[1;32m     53\u001b[0m                         \u001b[0mactions_set\u001b[0m\u001b[0;34m[\u001b[0m\u001b[0;34m(\u001b[0m\u001b[0mi\u001b[0m\u001b[0;34m,\u001b[0m \u001b[0mj\u001b[0m\u001b[0;34m)\u001b[0m\u001b[0;34m]\u001b[0m \u001b[0;34m=\u001b[0m \u001b[0;36m1\u001b[0m\u001b[0;34m\u001b[0m\u001b[0m\n\u001b[1;32m     54\u001b[0m \u001b[0;34m\u001b[0m\u001b[0m\n\u001b[0;32m---> 55\u001b[0;31m                 \u001b[0mz_final\u001b[0m \u001b[0;34m=\u001b[0m \u001b[0mscene_exploration\u001b[0m\u001b[0;34m(\u001b[0m\u001b[0msess\u001b[0m\u001b[0;34m,\u001b[0m \u001b[0mtest_tensor\u001b[0m\u001b[0;34m,\u001b[0m \u001b[0mz_ref\u001b[0m\u001b[0;34m,\u001b[0m \u001b[0mind_test\u001b[0m\u001b[0;34m,\u001b[0m \u001b[0mlog_score\u001b[0m\u001b[0;34m,\u001b[0m                                            \u001b[0mactions_set\u001b[0m\u001b[0;34m,\u001b[0m \u001b[0mmem_h_u\u001b[0m\u001b[0;34m,\u001b[0m \u001b[0mrecord\u001b[0m\u001b[0;34m,\u001b[0m                                             \u001b[0mPOL\u001b[0m \u001b[0;34m=\u001b[0m \u001b[0mPOL\u001b[0m\u001b[0;34m,\u001b[0m \u001b[0mAFF\u001b[0m \u001b[0;34m=\u001b[0m \u001b[0mFalse\u001b[0m\u001b[0;34m,\u001b[0m \u001b[0mTHRESHOLD\u001b[0m \u001b[0;34m=\u001b[0m \u001b[0mTHRESHOLD\u001b[0m\u001b[0;34m)\u001b[0m\u001b[0;34m\u001b[0m\u001b[0m\n\u001b[0m\u001b[1;32m     56\u001b[0m                 \u001b[0mrecord\u001b[0m\u001b[0;34m.\u001b[0m\u001b[0mz_final\u001b[0m \u001b[0;34m=\u001b[0m \u001b[0mz_final\u001b[0m\u001b[0;34m\u001b[0m\u001b[0m\n\u001b[1;32m     57\u001b[0m                 \u001b[0mrecord\u001b[0m\u001b[0;34m.\u001b[0m\u001b[0msuccess\u001b[0m \u001b[0;34m=\u001b[0m \u001b[0mz_ref\u001b[0m \u001b[0;34m==\u001b[0m \u001b[0mz_final\u001b[0m\u001b[0;34m\u001b[0m\u001b[0m\n",
      "\u001b[0;32m<ipython-input-58-2cc2647d68f3>\u001b[0m in \u001b[0;36mscene_exploration\u001b[0;34m(sess, test_tensor, z_ref, ind_test, log_score, actions_set, mem_h_u, record, POL, AFF, THRESHOLD)\u001b[0m\n\u001b[1;32m     44\u001b[0m                 \u001b[0;31m#log_score = update_log_score(log_score, lik_path)\u001b[0m\u001b[0;34m\u001b[0m\u001b[0;34m\u001b[0m\u001b[0m\n\u001b[1;32m     45\u001b[0m                 \u001b[0mlog_score\u001b[0m \u001b[0;34m=\u001b[0m \u001b[0msess\u001b[0m\u001b[0;34m.\u001b[0m\u001b[0mrun\u001b[0m\u001b[0;34m(\u001b[0m\u001b[0mh_out\u001b[0m\u001b[0;34m,\u001b[0m \u001b[0mfeed_dict\u001b[0m\u001b[0;34m=\u001b[0m\u001b[0;34m{\u001b[0m\u001b[0mx\u001b[0m\u001b[0;34m:\u001b[0m \u001b[0mtest_tensor\u001b[0m\u001b[0;34m,\u001b[0m                                                            \u001b[0mkeep_prob\u001b[0m\u001b[0;34m:\u001b[0m \u001b[0;36m1\u001b[0m\u001b[0;34m}\u001b[0m\u001b[0;34m)\u001b[0m\u001b[0;34m\u001b[0m\u001b[0m\n\u001b[0;32m---> 46\u001b[0;31m                 \u001b[0mpi\u001b[0m \u001b[0;34m=\u001b[0m \u001b[0msess\u001b[0m\u001b[0;34m.\u001b[0m\u001b[0mrun\u001b[0m\u001b[0;34m(\u001b[0m\u001b[0mtf\u001b[0m\u001b[0;34m.\u001b[0m\u001b[0mnn\u001b[0m\u001b[0;34m.\u001b[0m\u001b[0msoftmax\u001b[0m\u001b[0;34m(\u001b[0m\u001b[0mMULT_FACTOR\u001b[0m \u001b[0;34m*\u001b[0m \u001b[0mlog_score\u001b[0m\u001b[0;34m)\u001b[0m\u001b[0;34m)\u001b[0m\u001b[0;34m[\u001b[0m\u001b[0;36m0\u001b[0m\u001b[0;34m]\u001b[0m\u001b[0;34m\u001b[0m\u001b[0m\n\u001b[0m\u001b[1;32m     47\u001b[0m \u001b[0;34m\u001b[0m\u001b[0m\n\u001b[1;32m     48\u001b[0m                 \u001b[0mmem_h_u\u001b[0m \u001b[0;34m+=\u001b[0m \u001b[0;34m[\u001b[0m\u001b[0;34m(\u001b[0m\u001b[0mh_path\u001b[0m\u001b[0;34m,\u001b[0m \u001b[0mu_path\u001b[0m\u001b[0;34m)\u001b[0m\u001b[0;34m]\u001b[0m\u001b[0;34m\u001b[0m\u001b[0m\n",
      "\u001b[0;32m/usr/local/lib/python2.7/dist-packages/tensorflow/python/client/session.pyc\u001b[0m in \u001b[0;36mrun\u001b[0;34m(self, fetches, feed_dict, options, run_metadata)\u001b[0m\n\u001b[1;32m    887\u001b[0m     \u001b[0;32mtry\u001b[0m\u001b[0;34m:\u001b[0m\u001b[0;34m\u001b[0m\u001b[0m\n\u001b[1;32m    888\u001b[0m       result = self._run(None, fetches, feed_dict, options_ptr,\n\u001b[0;32m--> 889\u001b[0;31m                          run_metadata_ptr)\n\u001b[0m\u001b[1;32m    890\u001b[0m       \u001b[0;32mif\u001b[0m \u001b[0mrun_metadata\u001b[0m\u001b[0;34m:\u001b[0m\u001b[0;34m\u001b[0m\u001b[0m\n\u001b[1;32m    891\u001b[0m         \u001b[0mproto_data\u001b[0m \u001b[0;34m=\u001b[0m \u001b[0mtf_session\u001b[0m\u001b[0;34m.\u001b[0m\u001b[0mTF_GetBuffer\u001b[0m\u001b[0;34m(\u001b[0m\u001b[0mrun_metadata_ptr\u001b[0m\u001b[0;34m)\u001b[0m\u001b[0;34m\u001b[0m\u001b[0m\n",
      "\u001b[0;32m/usr/local/lib/python2.7/dist-packages/tensorflow/python/client/session.pyc\u001b[0m in \u001b[0;36m_run\u001b[0;34m(self, handle, fetches, feed_dict, options, run_metadata)\u001b[0m\n\u001b[1;32m   1118\u001b[0m     \u001b[0;32mif\u001b[0m \u001b[0mfinal_fetches\u001b[0m \u001b[0;32mor\u001b[0m \u001b[0mfinal_targets\u001b[0m \u001b[0;32mor\u001b[0m \u001b[0;34m(\u001b[0m\u001b[0mhandle\u001b[0m \u001b[0;32mand\u001b[0m \u001b[0mfeed_dict_tensor\u001b[0m\u001b[0;34m)\u001b[0m\u001b[0;34m:\u001b[0m\u001b[0;34m\u001b[0m\u001b[0m\n\u001b[1;32m   1119\u001b[0m       results = self._do_run(handle, final_targets, final_fetches,\n\u001b[0;32m-> 1120\u001b[0;31m                              feed_dict_tensor, options, run_metadata)\n\u001b[0m\u001b[1;32m   1121\u001b[0m     \u001b[0;32melse\u001b[0m\u001b[0;34m:\u001b[0m\u001b[0;34m\u001b[0m\u001b[0m\n\u001b[1;32m   1122\u001b[0m       \u001b[0mresults\u001b[0m \u001b[0;34m=\u001b[0m \u001b[0;34m[\u001b[0m\u001b[0;34m]\u001b[0m\u001b[0;34m\u001b[0m\u001b[0m\n",
      "\u001b[0;32m/usr/local/lib/python2.7/dist-packages/tensorflow/python/client/session.pyc\u001b[0m in \u001b[0;36m_do_run\u001b[0;34m(self, handle, target_list, fetch_list, feed_dict, options, run_metadata)\u001b[0m\n\u001b[1;32m   1315\u001b[0m     \u001b[0;32mif\u001b[0m \u001b[0mhandle\u001b[0m \u001b[0;32mis\u001b[0m \u001b[0mNone\u001b[0m\u001b[0;34m:\u001b[0m\u001b[0;34m\u001b[0m\u001b[0m\n\u001b[1;32m   1316\u001b[0m       return self._do_call(_run_fn, self._session, feeds, fetches, targets,\n\u001b[0;32m-> 1317\u001b[0;31m                            options, run_metadata)\n\u001b[0m\u001b[1;32m   1318\u001b[0m     \u001b[0;32melse\u001b[0m\u001b[0;34m:\u001b[0m\u001b[0;34m\u001b[0m\u001b[0m\n\u001b[1;32m   1319\u001b[0m       \u001b[0;32mreturn\u001b[0m \u001b[0mself\u001b[0m\u001b[0;34m.\u001b[0m\u001b[0m_do_call\u001b[0m\u001b[0;34m(\u001b[0m\u001b[0m_prun_fn\u001b[0m\u001b[0;34m,\u001b[0m \u001b[0mself\u001b[0m\u001b[0;34m.\u001b[0m\u001b[0m_session\u001b[0m\u001b[0;34m,\u001b[0m \u001b[0mhandle\u001b[0m\u001b[0;34m,\u001b[0m \u001b[0mfeeds\u001b[0m\u001b[0;34m,\u001b[0m \u001b[0mfetches\u001b[0m\u001b[0;34m)\u001b[0m\u001b[0;34m\u001b[0m\u001b[0m\n",
      "\u001b[0;32m/usr/local/lib/python2.7/dist-packages/tensorflow/python/client/session.pyc\u001b[0m in \u001b[0;36m_do_call\u001b[0;34m(self, fn, *args)\u001b[0m\n\u001b[1;32m   1321\u001b[0m   \u001b[0;32mdef\u001b[0m \u001b[0m_do_call\u001b[0m\u001b[0;34m(\u001b[0m\u001b[0mself\u001b[0m\u001b[0;34m,\u001b[0m \u001b[0mfn\u001b[0m\u001b[0;34m,\u001b[0m \u001b[0;34m*\u001b[0m\u001b[0margs\u001b[0m\u001b[0;34m)\u001b[0m\u001b[0;34m:\u001b[0m\u001b[0;34m\u001b[0m\u001b[0m\n\u001b[1;32m   1322\u001b[0m     \u001b[0;32mtry\u001b[0m\u001b[0;34m:\u001b[0m\u001b[0;34m\u001b[0m\u001b[0m\n\u001b[0;32m-> 1323\u001b[0;31m       \u001b[0;32mreturn\u001b[0m \u001b[0mfn\u001b[0m\u001b[0;34m(\u001b[0m\u001b[0;34m*\u001b[0m\u001b[0margs\u001b[0m\u001b[0;34m)\u001b[0m\u001b[0;34m\u001b[0m\u001b[0m\n\u001b[0m\u001b[1;32m   1324\u001b[0m     \u001b[0;32mexcept\u001b[0m \u001b[0merrors\u001b[0m\u001b[0;34m.\u001b[0m\u001b[0mOpError\u001b[0m \u001b[0;32mas\u001b[0m \u001b[0me\u001b[0m\u001b[0;34m:\u001b[0m\u001b[0;34m\u001b[0m\u001b[0m\n\u001b[1;32m   1325\u001b[0m       \u001b[0mmessage\u001b[0m \u001b[0;34m=\u001b[0m \u001b[0mcompat\u001b[0m\u001b[0;34m.\u001b[0m\u001b[0mas_text\u001b[0m\u001b[0;34m(\u001b[0m\u001b[0me\u001b[0m\u001b[0;34m.\u001b[0m\u001b[0mmessage\u001b[0m\u001b[0;34m)\u001b[0m\u001b[0;34m\u001b[0m\u001b[0m\n",
      "\u001b[0;32m/usr/local/lib/python2.7/dist-packages/tensorflow/python/client/session.pyc\u001b[0m in \u001b[0;36m_run_fn\u001b[0;34m(session, feed_dict, fetch_list, target_list, options, run_metadata)\u001b[0m\n\u001b[1;32m   1291\u001b[0m                 run_metadata):\n\u001b[1;32m   1292\u001b[0m       \u001b[0;31m# Ensure any changes to the graph are reflected in the runtime.\u001b[0m\u001b[0;34m\u001b[0m\u001b[0;34m\u001b[0m\u001b[0m\n\u001b[0;32m-> 1293\u001b[0;31m       \u001b[0mself\u001b[0m\u001b[0;34m.\u001b[0m\u001b[0m_extend_graph\u001b[0m\u001b[0;34m(\u001b[0m\u001b[0;34m)\u001b[0m\u001b[0;34m\u001b[0m\u001b[0m\n\u001b[0m\u001b[1;32m   1294\u001b[0m       \u001b[0;32mwith\u001b[0m \u001b[0merrors\u001b[0m\u001b[0;34m.\u001b[0m\u001b[0mraise_exception_on_not_ok_status\u001b[0m\u001b[0;34m(\u001b[0m\u001b[0;34m)\u001b[0m \u001b[0;32mas\u001b[0m \u001b[0mstatus\u001b[0m\u001b[0;34m:\u001b[0m\u001b[0;34m\u001b[0m\u001b[0m\n\u001b[1;32m   1295\u001b[0m         \u001b[0;32mif\u001b[0m \u001b[0mself\u001b[0m\u001b[0;34m.\u001b[0m\u001b[0m_created_with_new_api\u001b[0m\u001b[0;34m:\u001b[0m\u001b[0;34m\u001b[0m\u001b[0m\n",
      "\u001b[0;32m/usr/local/lib/python2.7/dist-packages/tensorflow/python/client/session.pyc\u001b[0m in \u001b[0;36m_extend_graph\u001b[0;34m(self)\u001b[0m\n\u001b[1;32m   1352\u001b[0m         \u001b[0;32mwith\u001b[0m \u001b[0merrors\u001b[0m\u001b[0;34m.\u001b[0m\u001b[0mraise_exception_on_not_ok_status\u001b[0m\u001b[0;34m(\u001b[0m\u001b[0;34m)\u001b[0m \u001b[0;32mas\u001b[0m \u001b[0mstatus\u001b[0m\u001b[0;34m:\u001b[0m\u001b[0;34m\u001b[0m\u001b[0m\n\u001b[1;32m   1353\u001b[0m           tf_session.TF_ExtendGraph(\n\u001b[0;32m-> 1354\u001b[0;31m               self._session, graph_def.SerializeToString(), status)\n\u001b[0m\u001b[1;32m   1355\u001b[0m         \u001b[0mself\u001b[0m\u001b[0;34m.\u001b[0m\u001b[0m_opened\u001b[0m \u001b[0;34m=\u001b[0m \u001b[0mTrue\u001b[0m\u001b[0;34m\u001b[0m\u001b[0m\n\u001b[1;32m   1356\u001b[0m \u001b[0;34m\u001b[0m\u001b[0m\n",
      "\u001b[0;31mKeyboardInterrupt\u001b[0m: "
     ]
    }
   ],
   "source": [
    "import time\n",
    "dict_records = {}\n",
    "\n",
    "for POL in ('predictive',) :#, 'saliency-based', 'random'):\n",
    "    \n",
    "    dict_records[POL] = {}\n",
    "    \n",
    "    for THRESHOLD in (1e-1, 1e-2, 1e-3, 1e-4, 1e-5):\n",
    "        \n",
    "        records = [] \n",
    "        cpt_TRIALS = 0\n",
    "        \n",
    "        for z_ref in range(NB_LABEL):\n",
    "            tic = time.time()\n",
    "            \n",
    "            #NB_TRIALS = len(Data_test[z_ref][0][(0,0)])\n",
    "            \n",
    "            for ind_test in range(NB_TRIALS):\n",
    "                \n",
    "                test_tensor = init_test_tensor(BATCH_SIZE = 1)\n",
    "\n",
    "                # initial\n",
    "                log_score = np.zeros(10)\n",
    "                pi = np.ones(10) / 10\n",
    "                H = np.sum(- pi * np.log(pi))\n",
    "\n",
    "                record = Record()\n",
    "                record.POL = POL\n",
    "                record.THRESHOLD = THRESHOLD\n",
    "                record.z_ref = z_ref\n",
    "                record.mem_pi += [pi]\n",
    "                record.mem_H += [H]\n",
    "\n",
    "                # global coef --> log_score initial\n",
    "                h, u = 0, (0, 0)\n",
    "                mem_h_u = [(h, u)]\n",
    "                v = Data_test[z_ref][h][u][ind_test]\n",
    "                fill_test_tensor(v, h, u, test_tensor)\n",
    "                log_score = sess.run(h_out, feed_dict={x: test_tensor,\\\n",
    "                                                        keep_prob: 1})\n",
    "                pi = sess.run(tf.nn.softmax(MULT_FACTOR * log_score))[0]\n",
    "                H = np.sum(- pi * np.log(pi))\n",
    "                z_tilde = np.argmax(pi)\n",
    "\n",
    "                record.mem_pi += [pi]\n",
    "                record.mem_H += [H]\n",
    "                record.mem_z += [z_tilde]\n",
    "                record.nb_coeffs += 1\n",
    "\n",
    "                # initial actions set\n",
    "                actions_set = {}\n",
    "                for i in range(16):\n",
    "                    for j in range(16):\n",
    "                        actions_set[(i, j)] = 1\n",
    "\n",
    "                z_final = scene_exploration(sess, test_tensor, z_ref, ind_test, log_score,\\\n",
    "                                            actions_set, mem_h_u, record, \\\n",
    "                                            POL = POL, AFF = False, THRESHOLD = THRESHOLD)\n",
    "                record.z_final = z_final\n",
    "                record.success = z_ref == z_final\n",
    "\n",
    "                records += [record]\n",
    "                \n",
    "            toc = time.time()\n",
    "            print '\\rPolicy : %s, threshold : %g, classe %d, step %d, rep : %d, elapsed time : %g' \\\n",
    "                                % (POL, THRESHOLD, z_ref, ind_test, z_final, toc - tic)   \n",
    "            cpt_TRIALS  += NB_TRIALS\n",
    "\n",
    "        dict_records[POL][THRESHOLD] = records\n",
    "        print '\\n'\n",
    "        print 'Nb trials :', cpt_TRIALS\n",
    "        #affiche_records(records)\n",
    "        print '\\n'\n",
    "        np.save('mnist-waveimage-FCNN-records-predictive', dict_records)\n",
    "        "
   ]
  },
  {
   "cell_type": "code",
   "execution_count": 218,
   "metadata": {},
   "outputs": [
    {
     "name": "stdout",
     "output_type": "stream",
     "text": [
      "[(12, 9), (11, 4), (5, 5)]\n"
     ]
    },
    {
     "data": {
      "image/png": "[encoded data removed]",
      "text/plain": [
       "<matplotlib.figure.Figure at 0x7fd81404da90>"
      ]
     },
     "metadata": {},
     "output_type": "display_data"
    }
   ],
   "source": [
    "w_all = WaveImage()\n",
    "\n",
    "for h in U:\n",
    "    for u in U[h]:\n",
    "        w_all.set_data(h,u,Data_test[z_ref][h][u][ind_test])\n",
    "\n",
    "w_aff = WaveImage()\n",
    "for (h,u) in record.mem_h_u :\n",
    "    w_aff.set_data(h,u,Data_test[z_ref][h][u][ind_test])\n",
    "\n",
    "plt.figure(figsize=(15,5))\n",
    "plt.subplot(1,3,1)\n",
    "plt.imshow(w_all.get_image(), interpolation='nearest', cmap='gray_r')\n",
    "\n",
    "plt.subplot(1,3,2)\n",
    "plt.imshow(w_aff.get_image(), interpolation='nearest', cmap='gray_r')\n",
    "\n",
    "path_i, path_j = [], []\n",
    "for u in record.mem_u :\n",
    "    path_i += [u[0] * 2 + 0.5]\n",
    "    path_j += [u[1] * 2 + 0.5]\n",
    "\n",
    "affiche_path_mnist(path_i, path_j)\n",
    "print record.mem_u[:10]\n",
    "\n",
    "plt.subplot(1,3,3)\n",
    "f = plt.plot(record.mem_pi)\n"
   ]
  },
  {
   "cell_type": "code",
   "execution_count": 145,
   "metadata": {},
   "outputs": [
    {
     "data": {
      "text/plain": [
       "{0: {(0, 0): 1},\n",
       " 1: {(0, 0): 1},\n",
       " 2: {(0, 0): 1, (0, 1): 1, (1, 0): 1, (1, 1): 1},\n",
       " 3: {(0, 0): 1,\n",
       "  (0, 1): 1,\n",
       "  (0, 2): 1,\n",
       "  (0, 3): 1,\n",
       "  (1, 0): 1,\n",
       "  (1, 1): 1,\n",
       "  (1, 2): 1,\n",
       "  (1, 3): 1,\n",
       "  (2, 0): 1,\n",
       "  (2, 1): 1,\n",
       "  (2, 2): 1,\n",
       "  (2, 3): 1,\n",
       "  (3, 0): 1,\n",
       "  (3, 1): 1,\n",
       "  (3, 2): 1,\n",
       "  (3, 3): 1},\n",
       " 4: {(0, 0): 1,\n",
       "  (0, 1): 1,\n",
       "  (0, 2): 1,\n",
       "  (0, 3): 1,\n",
       "  (0, 4): 1,\n",
       "  (0, 5): 1,\n",
       "  (0, 6): 1,\n",
       "  (0, 7): 1,\n",
       "  (1, 0): 1,\n",
       "  (1, 1): 1,\n",
       "  (1, 2): 1,\n",
       "  (1, 3): 1,\n",
       "  (1, 4): 1,\n",
       "  (1, 5): 1,\n",
       "  (1, 6): 1,\n",
       "  (1, 7): 1,\n",
       "  (2, 0): 1,\n",
       "  (2, 1): 1,\n",
       "  (2, 2): 1,\n",
       "  (2, 3): 1,\n",
       "  (2, 4): 1,\n",
       "  (2, 5): 1,\n",
       "  (2, 6): 1,\n",
       "  (2, 7): 1,\n",
       "  (3, 0): 1,\n",
       "  (3, 1): 1,\n",
       "  (3, 2): 1,\n",
       "  (3, 3): 1,\n",
       "  (3, 4): 1,\n",
       "  (3, 5): 1,\n",
       "  (3, 6): 1,\n",
       "  (3, 7): 1,\n",
       "  (4, 0): 1,\n",
       "  (4, 1): 1,\n",
       "  (4, 2): 1,\n",
       "  (4, 3): 1,\n",
       "  (4, 4): 1,\n",
       "  (4, 5): 1,\n",
       "  (4, 6): 1,\n",
       "  (4, 7): 1,\n",
       "  (5, 0): 1,\n",
       "  (5, 1): 1,\n",
       "  (5, 2): 1,\n",
       "  (5, 3): 1,\n",
       "  (5, 4): 1,\n",
       "  (5, 5): 1,\n",
       "  (5, 6): 1,\n",
       "  (5, 7): 1,\n",
       "  (6, 0): 1,\n",
       "  (6, 1): 1,\n",
       "  (6, 2): 1,\n",
       "  (6, 3): 1,\n",
       "  (6, 4): 1,\n",
       "  (6, 5): 1,\n",
       "  (6, 6): 1,\n",
       "  (6, 7): 1,\n",
       "  (7, 0): 1,\n",
       "  (7, 1): 1,\n",
       "  (7, 2): 1,\n",
       "  (7, 3): 1,\n",
       "  (7, 4): 1,\n",
       "  (7, 5): 1,\n",
       "  (7, 6): 1,\n",
       "  (7, 7): 1},\n",
       " 5: {(0, 0): 1,\n",
       "  (0, 1): 1,\n",
       "  (0, 2): 1,\n",
       "  (0, 3): 1,\n",
       "  (0, 4): 1,\n",
       "  (0, 5): 1,\n",
       "  (0, 6): 1,\n",
       "  (0, 7): 1,\n",
       "  (0, 8): 1,\n",
       "  (0, 9): 1,\n",
       "  (0, 10): 1,\n",
       "  (0, 11): 1,\n",
       "  (0, 12): 1,\n",
       "  (0, 13): 1,\n",
       "  (0, 14): 1,\n",
       "  (0, 15): 1,\n",
       "  (1, 0): 1,\n",
       "  (1, 1): 1,\n",
       "  (1, 2): 1,\n",
       "  (1, 3): 1,\n",
       "  (1, 4): 1,\n",
       "  (1, 5): 1,\n",
       "  (1, 6): 1,\n",
       "  (1, 7): 1,\n",
       "  (1, 8): 1,\n",
       "  (1, 9): 1,\n",
       "  (1, 10): 1,\n",
       "  (1, 11): 1,\n",
       "  (1, 12): 1,\n",
       "  (1, 13): 1,\n",
       "  (1, 14): 1,\n",
       "  (1, 15): 1,\n",
       "  (2, 0): 1,\n",
       "  (2, 1): 1,\n",
       "  (2, 2): 1,\n",
       "  (2, 3): 1,\n",
       "  (2, 4): 1,\n",
       "  (2, 5): 1,\n",
       "  (2, 6): 1,\n",
       "  (2, 7): 1,\n",
       "  (2, 8): 1,\n",
       "  (2, 9): 1,\n",
       "  (2, 10): 1,\n",
       "  (2, 11): 1,\n",
       "  (2, 12): 1,\n",
       "  (2, 13): 1,\n",
       "  (2, 14): 1,\n",
       "  (2, 15): 1,\n",
       "  (3, 0): 1,\n",
       "  (3, 1): 1,\n",
       "  (3, 2): 1,\n",
       "  (3, 3): 1,\n",
       "  (3, 4): 1,\n",
       "  (3, 5): 1,\n",
       "  (3, 6): 1,\n",
       "  (3, 7): 1,\n",
       "  (3, 8): 1,\n",
       "  (3, 9): 1,\n",
       "  (3, 10): 1,\n",
       "  (3, 11): 1,\n",
       "  (3, 12): 1,\n",
       "  (3, 13): 1,\n",
       "  (3, 14): 1,\n",
       "  (3, 15): 1,\n",
       "  (4, 0): 1,\n",
       "  (4, 1): 1,\n",
       "  (4, 2): 1,\n",
       "  (4, 3): 1,\n",
       "  (4, 4): 1,\n",
       "  (4, 5): 1,\n",
       "  (4, 6): 1,\n",
       "  (4, 7): 1,\n",
       "  (4, 8): 1,\n",
       "  (4, 9): 1,\n",
       "  (4, 10): 1,\n",
       "  (4, 11): 1,\n",
       "  (4, 12): 1,\n",
       "  (4, 13): 1,\n",
       "  (4, 14): 1,\n",
       "  (4, 15): 1,\n",
       "  (5, 0): 1,\n",
       "  (5, 1): 1,\n",
       "  (5, 2): 1,\n",
       "  (5, 3): 1,\n",
       "  (5, 4): 1,\n",
       "  (5, 5): 1,\n",
       "  (5, 6): 1,\n",
       "  (5, 7): 1,\n",
       "  (5, 8): 1,\n",
       "  (5, 9): 1,\n",
       "  (5, 10): 1,\n",
       "  (5, 11): 1,\n",
       "  (5, 12): 1,\n",
       "  (5, 13): 1,\n",
       "  (5, 14): 1,\n",
       "  (5, 15): 1,\n",
       "  (6, 0): 1,\n",
       "  (6, 1): 1,\n",
       "  (6, 2): 1,\n",
       "  (6, 3): 1,\n",
       "  (6, 4): 1,\n",
       "  (6, 5): 1,\n",
       "  (6, 6): 1,\n",
       "  (6, 7): 1,\n",
       "  (6, 8): 1,\n",
       "  (6, 9): 1,\n",
       "  (6, 10): 1,\n",
       "  (6, 11): 1,\n",
       "  (6, 12): 1,\n",
       "  (6, 13): 1,\n",
       "  (6, 14): 1,\n",
       "  (6, 15): 1,\n",
       "  (7, 0): 1,\n",
       "  (7, 1): 1,\n",
       "  (7, 2): 1,\n",
       "  (7, 3): 1,\n",
       "  (7, 4): 1,\n",
       "  (7, 5): 1,\n",
       "  (7, 6): 1,\n",
       "  (7, 7): 1,\n",
       "  (7, 8): 1,\n",
       "  (7, 9): 1,\n",
       "  (7, 10): 1,\n",
       "  (7, 11): 1,\n",
       "  (7, 12): 1,\n",
       "  (7, 13): 1,\n",
       "  (7, 14): 1,\n",
       "  (7, 15): 1,\n",
       "  (8, 0): 1,\n",
       "  (8, 1): 1,\n",
       "  (8, 2): 1,\n",
       "  (8, 3): 1,\n",
       "  (8, 4): 1,\n",
       "  (8, 5): 1,\n",
       "  (8, 6): 1,\n",
       "  (8, 7): 1,\n",
       "  (8, 8): 1,\n",
       "  (8, 9): 1,\n",
       "  (8, 10): 1,\n",
       "  (8, 11): 1,\n",
       "  (8, 12): 1,\n",
       "  (8, 13): 1,\n",
       "  (8, 14): 1,\n",
       "  (8, 15): 1,\n",
       "  (9, 0): 1,\n",
       "  (9, 1): 1,\n",
       "  (9, 2): 1,\n",
       "  (9, 3): 1,\n",
       "  (9, 4): 1,\n",
       "  (9, 5): 1,\n",
       "  (9, 6): 1,\n",
       "  (9, 7): 1,\n",
       "  (9, 8): 1,\n",
       "  (9, 9): 1,\n",
       "  (9, 10): 1,\n",
       "  (9, 11): 1,\n",
       "  (9, 12): 1,\n",
       "  (9, 13): 1,\n",
       "  (9, 14): 1,\n",
       "  (9, 15): 1,\n",
       "  (10, 0): 1,\n",
       "  (10, 1): 1,\n",
       "  (10, 2): 1,\n",
       "  (10, 3): 1,\n",
       "  (10, 4): 1,\n",
       "  (10, 5): 1,\n",
       "  (10, 6): 1,\n",
       "  (10, 7): 1,\n",
       "  (10, 8): 1,\n",
       "  (10, 9): 1,\n",
       "  (10, 10): 1,\n",
       "  (10, 11): 1,\n",
       "  (10, 12): 1,\n",
       "  (10, 13): 1,\n",
       "  (10, 14): 1,\n",
       "  (10, 15): 1,\n",
       "  (11, 0): 1,\n",
       "  (11, 1): 1,\n",
       "  (11, 2): 1,\n",
       "  (11, 3): 1,\n",
       "  (11, 4): 1,\n",
       "  (11, 5): 1,\n",
       "  (11, 6): 1,\n",
       "  (11, 7): 1,\n",
       "  (11, 8): 1,\n",
       "  (11, 9): 1,\n",
       "  (11, 10): 1,\n",
       "  (11, 11): 1,\n",
       "  (11, 12): 1,\n",
       "  (11, 13): 1,\n",
       "  (11, 14): 1,\n",
       "  (11, 15): 1,\n",
       "  (12, 0): 1,\n",
       "  (12, 1): 1,\n",
       "  (12, 2): 1,\n",
       "  (12, 3): 1,\n",
       "  (12, 4): 1,\n",
       "  (12, 5): 1,\n",
       "  (12, 6): 1,\n",
       "  (12, 7): 1,\n",
       "  (12, 8): 1,\n",
       "  (12, 9): 1,\n",
       "  (12, 10): 1,\n",
       "  (12, 11): 1,\n",
       "  (12, 12): 1,\n",
       "  (12, 13): 1,\n",
       "  (12, 14): 1,\n",
       "  (12, 15): 1,\n",
       "  (13, 0): 1,\n",
       "  (13, 1): 1,\n",
       "  (13, 2): 1,\n",
       "  (13, 3): 1,\n",
       "  (13, 4): 1,\n",
       "  (13, 5): 1,\n",
       "  (13, 6): 1,\n",
       "  (13, 7): 1,\n",
       "  (13, 8): 1,\n",
       "  (13, 9): 1,\n",
       "  (13, 10): 1,\n",
       "  (13, 11): 1,\n",
       "  (13, 12): 1,\n",
       "  (13, 13): 1,\n",
       "  (13, 14): 1,\n",
       "  (13, 15): 1,\n",
       "  (14, 0): 1,\n",
       "  (14, 1): 1,\n",
       "  (14, 2): 1,\n",
       "  (14, 3): 1,\n",
       "  (14, 4): 1,\n",
       "  (14, 5): 1,\n",
       "  (14, 6): 1,\n",
       "  (14, 7): 1,\n",
       "  (14, 8): 1,\n",
       "  (14, 9): 1,\n",
       "  (14, 10): 1,\n",
       "  (14, 11): 1,\n",
       "  (14, 12): 1,\n",
       "  (14, 13): 1,\n",
       "  (14, 14): 1,\n",
       "  (14, 15): 1,\n",
       "  (15, 0): 1,\n",
       "  (15, 1): 1,\n",
       "  (15, 2): 1,\n",
       "  (15, 3): 1,\n",
       "  (15, 4): 1,\n",
       "  (15, 5): 1,\n",
       "  (15, 6): 1,\n",
       "  (15, 7): 1,\n",
       "  (15, 8): 1,\n",
       "  (15, 9): 1,\n",
       "  (15, 10): 1,\n",
       "  (15, 11): 1,\n",
       "  (15, 12): 1,\n",
       "  (15, 13): 1,\n",
       "  (15, 14): 1,\n",
       "  (15, 15): 1}}"
      ]
     },
     "execution_count": 145,
     "metadata": {},
     "output_type": "execute_result"
    }
   ],
   "source": [
    "U"
   ]
  },
  {
   "cell_type": "code",
   "execution_count": null,
   "metadata": {},
   "outputs": [],
   "source": [
    "print test_tensor[0][:10]"
   ]
  },
  {
   "cell_type": "code",
   "execution_count": null,
   "metadata": {},
   "outputs": [],
   "source": [
    "test = h_out.eval(feed_dict={ x: test_tensor,\\\n",
    "                                    keep_prob: 1})\n",
    "\n",
    "print sess.run(tf.nn.softmax(test))"
   ]
  },
  {
   "cell_type": "code",
   "execution_count": null,
   "metadata": {},
   "outputs": [],
   "source": [
    "record.mem_pi"
   ]
  },
  {
   "cell_type": "code",
   "execution_count": null,
   "metadata": {},
   "outputs": [],
   "source": []
  },
  {
   "cell_type": "code",
   "execution_count": null,
   "metadata": {},
   "outputs": [],
   "source": []
  },
  {
   "cell_type": "code",
   "execution_count": null,
   "metadata": {},
   "outputs": [],
   "source": []
  },
  {
   "cell_type": "code",
   "execution_count": null,
   "metadata": {
    "scrolled": false
   },
   "outputs": [],
   "source": [
    "import time\n",
    "\n",
    "POL = 'full'\n",
    "    \n",
    "dict_records[POL] = {}\n",
    "    \n",
    "THRESHOLD = 1\n",
    "\n",
    "records = [] \n",
    "cpt_TRIALS = 0\n",
    "\n",
    "for z_ref in range(NB_CLASSES):\n",
    "    tic = time.time()\n",
    "\n",
    "    NB_TRIALS = len(Data_test[z_ref][0][(0,0)])\n",
    "\n",
    "    for ind_test in range(NB_TRIALS):\n",
    "\n",
    "        # initial\n",
    "        log_score = np.zeros(10)\n",
    "        pi = np.ones(10) / 10\n",
    "        H = np.sum(- pi * np.log(pi))\n",
    "\n",
    "        record = Record()\n",
    "        record.POL = POL\n",
    "        record.THRESHOLD = THRESHOLD\n",
    "        record.z_ref = z_ref\n",
    "        record.mem_pi += [pi]\n",
    "        record.mem_H += [H]\n",
    "\n",
    "        # global coef --> log_score initial\n",
    "        h, u = 0, (0, 0)\n",
    "        mem_h_u = [(h, u)]\n",
    "        v = Data_test[z_ref][h][u][ind_test]\n",
    "        lik = calc_lik(v,h,u)\n",
    "        log_score = update_log_score(log_score, lik)\n",
    "        pi = calc_pi(log_score)\n",
    "        H = np.sum(- pi * np.log(pi))\n",
    "        z_tilde = np.argmax(log_score)\n",
    "\n",
    "        record.mem_pi += [pi]\n",
    "        record.mem_H += [H]\n",
    "        record.mem_z += [z_tilde]\n",
    "        record.nb_coeffs += 1\n",
    "\n",
    "        # initial actions set\n",
    "        actions_set = {}\n",
    "        for i in range(16):\n",
    "            for j in range(16):\n",
    "                actions_set[(i, j)] = 1\n",
    "\n",
    "        z_final = scene_exploration(z_ref, ind_test, log_score, actions_set, mem_h_u, record, \\\n",
    "                                    POL = POL, AFF = False, THRESHOLD = THRESHOLD)\n",
    "        record.z_final = z_final\n",
    "        record.success = z_ref == z_final\n",
    "\n",
    "        records += [record]\n",
    "\n",
    "        #sys.stdout.write('\\rPolicy : %s, threshold : %g, classe %d, step %d, rep : %d' \\\n",
    "        #                     % (POL, THRESHOLD, z_ref, ind_test, z_final)) \n",
    "        #sys.stdout.flush()\n",
    "\n",
    "    toc = time.time()\n",
    "    print '\\rPolicy : %s, threshold : %g, classe %d, step %d, rep : %d, elapsed time : %g' \\\n",
    "                        % (POL, THRESHOLD, z_ref, ind_test, z_final, toc - tic)   \n",
    "    cpt_TRIALS  += NB_TRIALS\n",
    "\n",
    "dict_records[POL][THRESHOLD] = records\n",
    "print '\\n'\n",
    "print 'Nb trials :', cpt_TRIALS\n",
    "affiche_records(records)\n",
    "print '\\n'\n",
    "np.save('mnist-waveimage-FCNN-records', dict_records)\n",
    "        "
   ]
  }
 ],
 "metadata": {
  "kernelspec": {
   "display_name": "Python 2",
   "language": "python",
   "name": "python2"
  },
  "language_info": {
   "codemirror_mode": {
    "name": "ipython",
    "version": 2
   },
   "file_extension": ".py",
   "mimetype": "text/x-python",
   "name": "python",
   "nbconvert_exporter": "python",
   "pygments_lexer": "ipython2",
   "version": "2.7.13"
  }
 },
 "nbformat": 4,
 "nbformat_minor": 1
}
