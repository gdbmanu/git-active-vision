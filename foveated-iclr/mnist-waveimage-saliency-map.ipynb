{
 "cells": [
  {
   "cell_type": "code",
   "execution_count": 1,
   "metadata": {},
   "outputs": [],
   "source": [
    "%matplotlib inline"
   ]
  },
  {
   "cell_type": "code",
   "execution_count": 2,
   "metadata": {},
   "outputs": [],
   "source": [
    "import numpy as np\n",
    "import scipy as sp\n",
    "import matplotlib.pyplot as plt"
   ]
  },
  {
   "cell_type": "code",
   "execution_count": 3,
   "metadata": {},
   "outputs": [],
   "source": [
    "#from waveimage import WaveImage, calc_dim, calc_U, mnist_reshape_32\n",
    "from waveimage import WaveImage, calc_dim, calc_U, mnist_reshape_32"
   ]
  },
  {
   "cell_type": "code",
   "execution_count": 4,
   "metadata": {},
   "outputs": [],
   "source": [
    "from scipy.stats import multivariate_normal"
   ]
  },
  {
   "cell_type": "code",
   "execution_count": 5,
   "metadata": {},
   "outputs": [],
   "source": [
    "import math"
   ]
  },
  {
   "cell_type": "code",
   "execution_count": 6,
   "metadata": {},
   "outputs": [],
   "source": [
    "import sys, os"
   ]
  },
  {
   "cell_type": "code",
   "execution_count": 7,
   "metadata": {},
   "outputs": [],
   "source": [
    "import pickle"
   ]
  },
  {
   "cell_type": "code",
   "execution_count": 8,
   "metadata": {},
   "outputs": [
    {
     "name": "stdout",
     "output_type": "stream",
     "text": [
      "Extracting MNIST_data/train-images-idx3-ubyte.gz\n",
      "Extracting MNIST_data/train-labels-idx1-ubyte.gz\n",
      "Extracting MNIST_data/t10k-images-idx3-ubyte.gz\n",
      "Extracting MNIST_data/t10k-labels-idx1-ubyte.gz\n"
     ]
    }
   ],
   "source": [
    "from tensorflow.examples.tutorials.mnist import input_data\n",
    "mnist = input_data.read_data_sets(\"MNIST_data/\")\n"
   ]
  },
  {
   "cell_type": "code",
   "execution_count": 9,
   "metadata": {},
   "outputs": [],
   "source": [
    "from waveimage import calc_U"
   ]
  },
  {
   "cell_type": "markdown",
   "metadata": {
    "collapsed": true
   },
   "source": [
    "## Creation de la base d'apprentissage"
   ]
  },
  {
   "cell_type": "code",
   "execution_count": 10,
   "metadata": {},
   "outputs": [],
   "source": [
    "if not os.path.isfile(\"mnist-waveimage-train-mu-Sigma-rho.pkl\"):\n",
    "    \n",
    "    B_train = []\n",
    "    for i in range(len(mnist.train.images)):\n",
    "        if i % 1000 == 0 :\n",
    "            sys.stdout.write('\\rstep %d' % i) \n",
    "            sys.stdout.flush()\n",
    "        c = mnist.train.labels[i]\n",
    "        image = mnist_reshape_32(mnist.train.images[i])\n",
    "        w = WaveImage(image = image)\n",
    "        data = w.get_data()\n",
    "        for h in range(w.get_h_max()):\n",
    "            data_h = w.get_data()[h]\n",
    "            for u in data_h:\n",
    "                v = data_h[u]\n",
    "                B_train += [(v,(c,h,u))]   \n",
    "                \n",
    "    ### Dictionnaire (Base d'apprentissage)    \n",
    "    \n",
    "    Data_train = [[],[],[],[],[],[],[],[],[],[]]\n",
    "    for c in range(10):\n",
    "        Data_train[c] = [{},{},{},{},{},{}] \n",
    "\n",
    "    for d in B_train:\n",
    "        v = d[0]\n",
    "        c = d[1][0]\n",
    "        h = d[1][1]\n",
    "        u = d[1][2]\n",
    "        if u in Data_train[c][h]:\n",
    "            Data_train[c][h][u] += [v]\n",
    "        else:\n",
    "            Data_train[c][h][u] = [v]\n",
    "            \n",
    "    ### Probas elementaires         \n",
    "    mu = []\n",
    "    Sigma = []\n",
    "    rho = []\n",
    "    for c in range(10):\n",
    "        mu += [{}]\n",
    "        Sigma += [{}]\n",
    "        rho += [{}]\n",
    "        for h in range(0,6):\n",
    "            mu[c][h] = {}\n",
    "            Sigma[c][h] = {}\n",
    "            rho[c][h] = {}\n",
    "            for u in calc_U((32, 32), h, 6):\n",
    "                if u in Data_train[c][h]:\n",
    "                    data = []\n",
    "                    cpt = 0\n",
    "                    for v in Data_train[c][h][u]:\n",
    "                        if np.linalg.norm(v) < 1e-16:\n",
    "                            cpt += 1\n",
    "                        else:\n",
    "                            data += [v]\n",
    "                    #if h == -1 :\n",
    "                    #    print len(data)\n",
    "                    if len(data) > 1:\n",
    "                        mu[c][h][u] = np.mean(data, 0) #Data[c][h][u],0)\n",
    "                        Sigma[c][h][u] = np.cov(np.array(data).T) #Data[c][h][u]).T)\n",
    "                        rho[c][h][u] = float(cpt) / len(Data_train[c][h][u])\n",
    "                    else:\n",
    "                        mu[c][h][u] = np.zeros(3)\n",
    "                        Sigma[c][h][u] = np.zeros((3,3))\n",
    "                        rho[c][h][u] = 1.\n",
    "    del B_train, Data_train \n",
    "    pickle.dump((mu, Sigma, rho),  open(\"mnist-waveimage-train-mu-Sigma-rho.pkl\", \"wb\"))\n",
    "else:\n",
    "    mu, Sigma, rho = pickle.load(open(\"mnist-waveimage-train-mu-Sigma-rho.pkl\", \"rb\"))"
   ]
  },
  {
   "cell_type": "markdown",
   "metadata": {},
   "source": [
    "#### Liste des coordonnées par niveau : U[h], h $\\in$ 0..5"
   ]
  },
  {
   "cell_type": "code",
   "execution_count": 11,
   "metadata": {
    "scrolled": true
   },
   "outputs": [
    {
     "name": "stdout",
     "output_type": "stream",
     "text": [
      "Niveau  0  : \n",
      " U[ 0 ] : {(0, 0): 1}\n",
      "\n",
      "Niveau  1  : \n",
      " U[ 1 ] : {(0, 0): 1}\n",
      "\n",
      "Niveau  2  : \n",
      " U[ 2 ] : {(0, 1): 1, (1, 0): 1, (0, 0): 1, (1, 1): 1}\n",
      "\n",
      "Niveau  3  : \n",
      " U[ 3 ] : {(0, 1): 1, (1, 2): 1, (3, 2): 1, (0, 0): 1, (3, 3): 1, (3, 0): 1, (3, 1): 1, (2, 1): 1, (0, 2): 1, (2, 0): 1, (1, 3): 1, (2, 3): 1, (2, 2): 1, (1, 0): 1, (0, 3): 1, (1, 1): 1}\n",
      "\n",
      "Niveau  4  : \n",
      " U[ 4 ] : {(7, 3): 1, (4, 7): 1, (1, 3): 1, (6, 4): 1, (3, 0): 1, (5, 4): 1, (0, 7): 1, (5, 6): 1, (2, 6): 1, (1, 6): 1, (5, 1): 1, (3, 7): 1, (2, 5): 1, (0, 3): 1, (7, 2): 1, (4, 0): 1, (1, 2): 1, (6, 7): 1, (3, 3): 1, (2, 0): 1, (7, 6): 1, (4, 4): 1, (6, 3): 1, (1, 5): 1, (3, 6): 1, (2, 2): 1, (7, 7): 1, (5, 7): 1, (5, 3): 1, (4, 1): 1, (1, 1): 1, (2, 7): 1, (3, 2): 1, (0, 0): 1, (6, 6): 1, (5, 0): 1, (7, 1): 1, (4, 5): 1, (0, 4): 1, (5, 5): 1, (1, 4): 1, (6, 0): 1, (7, 5): 1, (2, 3): 1, (2, 1): 1, (4, 2): 1, (1, 0): 1, (6, 5): 1, (3, 5): 1, (0, 1): 1, (7, 0): 1, (4, 6): 1, (5, 2): 1, (6, 1): 1, (3, 1): 1, (0, 2): 1, (7, 4): 1, (0, 6): 1, (6, 2): 1, (4, 3): 1, (1, 7): 1, (0, 5): 1, (3, 4): 1, (2, 4): 1}\n",
      "\n",
      "Niveau  5  : \n",
      " U[ 5 ] : {(7, 3): 1, (6, 9): 1, (12, 1): 1, (11, 11): 1, (7, 12): 1, (14, 4): 1, (13, 4): 1, (12, 12): 1, (0, 7): 1, (15, 1): 1, (1, 6): 1, (0, 10): 1, (3, 7): 1, (2, 5): 1, (1, 11): 1, (8, 5): 1, (5, 8): 1, (4, 0): 1, (10, 8): 1, (9, 0): 1, (6, 7): 1, (5, 5): 1, (11, 5): 1, (10, 7): 1, (7, 6): 1, (6, 10): 1, (12, 6): 1, (15, 11): 1, (14, 1): 1, (13, 7): 1, (0, 4): 1, (15, 4): 1, (1, 1): 1, (8, 15): 1, (4, 10): 1, (3, 2): 1, (2, 6): 1, (9, 14): 1, (8, 2): 1, (5, 11): 1, (4, 5): 1, (10, 13): 1, (9, 3): 1, (6, 0): 1, (11, 0): 1, (7, 5): 1, (14, 15): 1, (12, 11): 1, (15, 14): 1, (14, 2): 1, (13, 10): 1, (0, 1): 1, (3, 12): 1, (1, 12): 1, (8, 12): 1, (4, 15): 1, (3, 1): 1, (2, 11): 1, (9, 9): 1, (5, 14): 1, (10, 14): 1, (6, 13): 1, (11, 15): 1, (7, 8): 1, (14, 8): 1, (13, 0): 1, (12, 8): 1, (15, 13): 1, (13, 13): 1, (0, 14): 1, (3, 11): 1, (2, 1): 1, (1, 15): 1, (8, 9): 1, (4, 12): 1, (2, 12): 1, (9, 4): 1, (5, 1): 1, (10, 3): 1, (7, 2): 1, (6, 14): 1, (12, 2): 1, (11, 10): 1, (7, 15): 1, (14, 5): 1, (13, 3): 1, (12, 13): 1, (15, 0): 1, (1, 5): 1, (0, 11): 1, (3, 6): 1, (2, 2): 1, (1, 10): 1, (8, 6): 1, (4, 1): 1, (10, 9): 1, (9, 7): 1, (6, 4): 1, (5, 4): 1, (11, 4): 1, (10, 4): 1, (7, 1): 1, (6, 11): 1, (12, 7): 1, (11, 9): 1, (15, 10): 1, (14, 6): 1, (13, 6): 1, (0, 5): 1, (15, 7): 1, (1, 0): 1, (0, 8): 1, (4, 11): 1, (3, 5): 1, (2, 7): 1, (9, 13): 1, (8, 3): 1, (5, 10): 1, (4, 6): 1, (10, 10): 1, (9, 2): 1, (6, 1): 1, (5, 7): 1, (11, 3): 1, (7, 4): 1, (14, 12): 1, (12, 4): 1, (15, 9): 1, (14, 3): 1, (13, 9): 1, (0, 2): 1, (3, 15): 1, (1, 3): 1, (8, 13): 1, (4, 8): 1, (3, 0): 1, (2, 8): 1, (9, 8): 1, (8, 0): 1, (5, 13): 1, (10, 15): 1, (6, 2): 1, (11, 14): 1, (7, 11): 1, (14, 9): 1, (12, 9): 1, (15, 12): 1, (13, 12): 1, (0, 15): 1, (3, 10): 1, (1, 14): 1, (8, 10): 1, (4, 13): 1, (2, 13): 1, (9, 11): 1, (5, 0): 1, (10, 0): 1, (6, 15): 1, (12, 3): 1, (11, 13): 1, (7, 14): 1, (14, 10): 1, (13, 2): 1, (12, 14): 1, (15, 3): 1, (13, 15): 1, (1, 4): 1, (0, 12): 1, (3, 9): 1, (2, 3): 1, (1, 9): 1, (8, 7): 1, (4, 2): 1, (2, 14): 1, (9, 6): 1, (6, 5): 1, (5, 3): 1, (11, 7): 1, (10, 5): 1, (7, 0): 1, (6, 8): 1, (12, 0): 1, (11, 8): 1, (7, 13): 1, (14, 7): 1, (13, 5): 1, (0, 6): 1, (15, 6): 1, (1, 7): 1, (0, 9): 1, (3, 4): 1, (2, 4): 1, (9, 12): 1, (8, 4): 1, (5, 9): 1, (4, 7): 1, (10, 11): 1, (9, 1): 1, (6, 6): 1, (5, 6): 1, (11, 2): 1, (10, 6): 1, (7, 7): 1, (14, 13): 1, (12, 5): 1, (15, 8): 1, (14, 0): 1, (13, 8): 1, (0, 3): 1, (15, 5): 1, (3, 14): 1, (1, 2): 1, (8, 14): 1, (4, 9): 1, (3, 3): 1, (2, 9): 1, (9, 15): 1, (8, 1): 1, (5, 12): 1, (4, 4): 1, (10, 12): 1, (6, 3): 1, (11, 1): 1, (7, 10): 1, (14, 14): 1, (12, 10): 1, (15, 15): 1, (13, 11): 1, (0, 0): 1, (3, 13): 1, (1, 13): 1, (8, 11): 1, (4, 14): 1, (2, 10): 1, (9, 10): 1, (5, 15): 1, (10, 1): 1, (6, 12): 1, (11, 12): 1, (7, 9): 1, (14, 11): 1, (13, 1): 1, (12, 15): 1, (15, 2): 1, (13, 14): 1, (0, 13): 1, (3, 8): 1, (2, 0): 1, (1, 8): 1, (8, 8): 1, (4, 3): 1, (2, 15): 1, (9, 5): 1, (5, 2): 1, (11, 6): 1, (10, 2): 1}\n",
      "\n"
     ]
    }
   ],
   "source": [
    "axes = []\n",
    "h_max = 6\n",
    "shape = (32,32)\n",
    "\n",
    "U = {}\n",
    "for h in range(h_max):\n",
    "    #U_ref = {}\n",
    "    #for pos_i in axes[h]:\n",
    "    #    for pos_j in axes[h]:\n",
    "    #        U_ref[h] += [(pos_i, pos_j)]\n",
    "    U [h] = {}\n",
    "    dim_i, dim_j = calc_dim(shape, h, h_max)\n",
    "    for i in range(dim_i):\n",
    "        for j in range(dim_j):\n",
    "            U[h][(i,j)] = 1    \n",
    "    print 'Niveau ', h, ' : '\n",
    "    print ' U[' , h, '] :', U[h]\n",
    "    #print ' U_ref[h] :', U_ref[h]\n",
    "    print ''\n",
    "    \n"
   ]
  },
  {
   "cell_type": "markdown",
   "metadata": {},
   "source": [
    "#### Construction d'un arbre de coordonnées multi-niveau (descendants pour (i,j) au niveau h)"
   ]
  },
  {
   "cell_type": "code",
   "execution_count": 12,
   "metadata": {},
   "outputs": [],
   "source": [
    "def fils_rec(shape, h, h_max, i, j):\n",
    "    \n",
    "    if h < h_max :\n",
    "        dim_i, dim_j = calc_dim(shape, h, h_max)\n",
    "        if i < dim_i and j < dim_j :\n",
    "            rep = [(h,(i,j)), [], [], [], []]\n",
    "            rep[1] = fils_rec(shape, h + 1, h_max, i * 2, j * 2)\n",
    "            rep[2] = fils_rec(shape, h + 1, h_max, i * 2, j * 2 + 1)\n",
    "            rep[3] = fils_rec(shape, h + 1, h_max, i * 2 + 1, j * 2)\n",
    "            rep[4] = fils_rec(shape, h + 1, h_max, i * 2 + 1, j * 2 + 1)\n",
    "        else:\n",
    "            rep = []\n",
    "    else:\n",
    "        rep = []\n",
    "    return rep\n",
    "    \n"
   ]
  },
  {
   "cell_type": "code",
   "execution_count": 13,
   "metadata": {
    "scrolled": true
   },
   "outputs": [
    {
     "name": "stdout",
     "output_type": "stream",
     "text": [
      "[(0, (0, 0)), [(1, (0, 0)), [(2, (0, 0)), [(3, (0, 0)), [(4, (0, 0)), [(5, (0, 0)), [], [], [], []], [(5, (0, 1)), [], [], [], []], [(5, (1, 0)), [], [], [], []], [(5, (1, 1)), [], [], [], []]], [(4, (0, 1)), [(5, (0, 2)), [], [], [], []], [(5, (0, 3)), [], [], [], []], [(5, (1, 2)), [], [], [], []], [(5, (1, 3)), [], [], [], []]], [(4, (1, 0)), [(5, (2, 0)), [], [], [], []], [(5, (2, 1)), [], [], [], []], [(5, (3, 0)), [], [], [], []], [(5, (3, 1)), [], [], [], []]], [(4, (1, 1)), [(5, (2, 2)), [], [], [], []], [(5, (2, 3)), [], [], [], []], [(5, (3, 2)), [], [], [], []], [(5, (3, 3)), [], [], [], []]]], [(3, (0, 1)), [(4, (0, 2)), [(5, (0, 4)), [], [], [], []], [(5, (0, 5)), [], [], [], []], [(5, (1, 4)), [], [], [], []], [(5, (1, 5)), [], [], [], []]], [(4, (0, 3)), [(5, (0, 6)), [], [], [], []], [(5, (0, 7)), [], [], [], []], [(5, (1, 6)), [], [], [], []], [(5, (1, 7)), [], [], [], []]], [(4, (1, 2)), [(5, (2, 4)), [], [], [], []], [(5, (2, 5)), [], [], [], []], [(5, (3, 4)), [], [], [], []], [(5, (3, 5)), [], [], [], []]], [(4, (1, 3)), [(5, (2, 6)), [], [], [], []], [(5, (2, 7)), [], [], [], []], [(5, (3, 6)), [], [], [], []], [(5, (3, 7)), [], [], [], []]]], [(3, (1, 0)), [(4, (2, 0)), [(5, (4, 0)), [], [], [], []], [(5, (4, 1)), [], [], [], []], [(5, (5, 0)), [], [], [], []], [(5, (5, 1)), [], [], [], []]], [(4, (2, 1)), [(5, (4, 2)), [], [], [], []], [(5, (4, 3)), [], [], [], []], [(5, (5, 2)), [], [], [], []], [(5, (5, 3)), [], [], [], []]], [(4, (3, 0)), [(5, (6, 0)), [], [], [], []], [(5, (6, 1)), [], [], [], []], [(5, (7, 0)), [], [], [], []], [(5, (7, 1)), [], [], [], []]], [(4, (3, 1)), [(5, (6, 2)), [], [], [], []], [(5, (6, 3)), [], [], [], []], [(5, (7, 2)), [], [], [], []], [(5, (7, 3)), [], [], [], []]]], [(3, (1, 1)), [(4, (2, 2)), [(5, (4, 4)), [], [], [], []], [(5, (4, 5)), [], [], [], []], [(5, (5, 4)), [], [], [], []], [(5, (5, 5)), [], [], [], []]], [(4, (2, 3)), [(5, (4, 6)), [], [], [], []], [(5, (4, 7)), [], [], [], []], [(5, (5, 6)), [], [], [], []], [(5, (5, 7)), [], [], [], []]], [(4, (3, 2)), [(5, (6, 4)), [], [], [], []], [(5, (6, 5)), [], [], [], []], [(5, (7, 4)), [], [], [], []], [(5, (7, 5)), [], [], [], []]], [(4, (3, 3)), [(5, (6, 6)), [], [], [], []], [(5, (6, 7)), [], [], [], []], [(5, (7, 6)), [], [], [], []], [(5, (7, 7)), [], [], [], []]]]], [(2, (0, 1)), [(3, (0, 2)), [(4, (0, 4)), [(5, (0, 8)), [], [], [], []], [(5, (0, 9)), [], [], [], []], [(5, (1, 8)), [], [], [], []], [(5, (1, 9)), [], [], [], []]], [(4, (0, 5)), [(5, (0, 10)), [], [], [], []], [(5, (0, 11)), [], [], [], []], [(5, (1, 10)), [], [], [], []], [(5, (1, 11)), [], [], [], []]], [(4, (1, 4)), [(5, (2, 8)), [], [], [], []], [(5, (2, 9)), [], [], [], []], [(5, (3, 8)), [], [], [], []], [(5, (3, 9)), [], [], [], []]], [(4, (1, 5)), [(5, (2, 10)), [], [], [], []], [(5, (2, 11)), [], [], [], []], [(5, (3, 10)), [], [], [], []], [(5, (3, 11)), [], [], [], []]]], [(3, (0, 3)), [(4, (0, 6)), [(5, (0, 12)), [], [], [], []], [(5, (0, 13)), [], [], [], []], [(5, (1, 12)), [], [], [], []], [(5, (1, 13)), [], [], [], []]], [(4, (0, 7)), [(5, (0, 14)), [], [], [], []], [(5, (0, 15)), [], [], [], []], [(5, (1, 14)), [], [], [], []], [(5, (1, 15)), [], [], [], []]], [(4, (1, 6)), [(5, (2, 12)), [], [], [], []], [(5, (2, 13)), [], [], [], []], [(5, (3, 12)), [], [], [], []], [(5, (3, 13)), [], [], [], []]], [(4, (1, 7)), [(5, (2, 14)), [], [], [], []], [(5, (2, 15)), [], [], [], []], [(5, (3, 14)), [], [], [], []], [(5, (3, 15)), [], [], [], []]]], [(3, (1, 2)), [(4, (2, 4)), [(5, (4, 8)), [], [], [], []], [(5, (4, 9)), [], [], [], []], [(5, (5, 8)), [], [], [], []], [(5, (5, 9)), [], [], [], []]], [(4, (2, 5)), [(5, (4, 10)), [], [], [], []], [(5, (4, 11)), [], [], [], []], [(5, (5, 10)), [], [], [], []], [(5, (5, 11)), [], [], [], []]], [(4, (3, 4)), [(5, (6, 8)), [], [], [], []], [(5, (6, 9)), [], [], [], []], [(5, (7, 8)), [], [], [], []], [(5, (7, 9)), [], [], [], []]], [(4, (3, 5)), [(5, (6, 10)), [], [], [], []], [(5, (6, 11)), [], [], [], []], [(5, (7, 10)), [], [], [], []], [(5, (7, 11)), [], [], [], []]]], [(3, (1, 3)), [(4, (2, 6)), [(5, (4, 12)), [], [], [], []], [(5, (4, 13)), [], [], [], []], [(5, (5, 12)), [], [], [], []], [(5, (5, 13)), [], [], [], []]], [(4, (2, 7)), [(5, (4, 14)), [], [], [], []], [(5, (4, 15)), [], [], [], []], [(5, (5, 14)), [], [], [], []], [(5, (5, 15)), [], [], [], []]], [(4, (3, 6)), [(5, (6, 12)), [], [], [], []], [(5, (6, 13)), [], [], [], []], [(5, (7, 12)), [], [], [], []], [(5, (7, 13)), [], [], [], []]], [(4, (3, 7)), [(5, (6, 14)), [], [], [], []], [(5, (6, 15)), [], [], [], []], [(5, (7, 14)), [], [], [], []], [(5, (7, 15)), [], [], [], []]]]], [(2, (1, 0)), [(3, (2, 0)), [(4, (4, 0)), [(5, (8, 0)), [], [], [], []], [(5, (8, 1)), [], [], [], []], [(5, (9, 0)), [], [], [], []], [(5, (9, 1)), [], [], [], []]], [(4, (4, 1)), [(5, (8, 2)), [], [], [], []], [(5, (8, 3)), [], [], [], []], [(5, (9, 2)), [], [], [], []], [(5, (9, 3)), [], [], [], []]], [(4, (5, 0)), [(5, (10, 0)), [], [], [], []], [(5, (10, 1)), [], [], [], []], [(5, (11, 0)), [], [], [], []], [(5, (11, 1)), [], [], [], []]], [(4, (5, 1)), [(5, (10, 2)), [], [], [], []], [(5, (10, 3)), [], [], [], []], [(5, (11, 2)), [], [], [], []], [(5, (11, 3)), [], [], [], []]]], [(3, (2, 1)), [(4, (4, 2)), [(5, (8, 4)), [], [], [], []], [(5, (8, 5)), [], [], [], []], [(5, (9, 4)), [], [], [], []], [(5, (9, 5)), [], [], [], []]], [(4, (4, 3)), [(5, (8, 6)), [], [], [], []], [(5, (8, 7)), [], [], [], []], [(5, (9, 6)), [], [], [], []], [(5, (9, 7)), [], [], [], []]], [(4, (5, 2)), [(5, (10, 4)), [], [], [], []], [(5, (10, 5)), [], [], [], []], [(5, (11, 4)), [], [], [], []], [(5, (11, 5)), [], [], [], []]], [(4, (5, 3)), [(5, (10, 6)), [], [], [], []], [(5, (10, 7)), [], [], [], []], [(5, (11, 6)), [], [], [], []], [(5, (11, 7)), [], [], [], []]]], [(3, (3, 0)), [(4, (6, 0)), [(5, (12, 0)), [], [], [], []], [(5, (12, 1)), [], [], [], []], [(5, (13, 0)), [], [], [], []], [(5, (13, 1)), [], [], [], []]], [(4, (6, 1)), [(5, (12, 2)), [], [], [], []], [(5, (12, 3)), [], [], [], []], [(5, (13, 2)), [], [], [], []], [(5, (13, 3)), [], [], [], []]], [(4, (7, 0)), [(5, (14, 0)), [], [], [], []], [(5, (14, 1)), [], [], [], []], [(5, (15, 0)), [], [], [], []], [(5, (15, 1)), [], [], [], []]], [(4, (7, 1)), [(5, (14, 2)), [], [], [], []], [(5, (14, 3)), [], [], [], []], [(5, (15, 2)), [], [], [], []], [(5, (15, 3)), [], [], [], []]]], [(3, (3, 1)), [(4, (6, 2)), [(5, (12, 4)), [], [], [], []], [(5, (12, 5)), [], [], [], []], [(5, (13, 4)), [], [], [], []], [(5, (13, 5)), [], [], [], []]], [(4, (6, 3)), [(5, (12, 6)), [], [], [], []], [(5, (12, 7)), [], [], [], []], [(5, (13, 6)), [], [], [], []], [(5, (13, 7)), [], [], [], []]], [(4, (7, 2)), [(5, (14, 4)), [], [], [], []], [(5, (14, 5)), [], [], [], []], [(5, (15, 4)), [], [], [], []], [(5, (15, 5)), [], [], [], []]], [(4, (7, 3)), [(5, (14, 6)), [], [], [], []], [(5, (14, 7)), [], [], [], []], [(5, (15, 6)), [], [], [], []], [(5, (15, 7)), [], [], [], []]]]], [(2, (1, 1)), [(3, (2, 2)), [(4, (4, 4)), [(5, (8, 8)), [], [], [], []], [(5, (8, 9)), [], [], [], []], [(5, (9, 8)), [], [], [], []], [(5, (9, 9)), [], [], [], []]], [(4, (4, 5)), [(5, (8, 10)), [], [], [], []], [(5, (8, 11)), [], [], [], []], [(5, (9, 10)), [], [], [], []], [(5, (9, 11)), [], [], [], []]], [(4, (5, 4)), [(5, (10, 8)), [], [], [], []], [(5, (10, 9)), [], [], [], []], [(5, (11, 8)), [], [], [], []], [(5, (11, 9)), [], [], [], []]], [(4, (5, 5)), [(5, (10, 10)), [], [], [], []], [(5, (10, 11)), [], [], [], []], [(5, (11, 10)), [], [], [], []], [(5, (11, 11)), [], [], [], []]]], [(3, (2, 3)), [(4, (4, 6)), [(5, (8, 12)), [], [], [], []], [(5, (8, 13)), [], [], [], []], [(5, (9, 12)), [], [], [], []], [(5, (9, 13)), [], [], [], []]], [(4, (4, 7)), [(5, (8, 14)), [], [], [], []], [(5, (8, 15)), [], [], [], []], [(5, (9, 14)), [], [], [], []], [(5, (9, 15)), [], [], [], []]], [(4, (5, 6)), [(5, (10, 12)), [], [], [], []], [(5, (10, 13)), [], [], [], []], [(5, (11, 12)), [], [], [], []], [(5, (11, 13)), [], [], [], []]], [(4, (5, 7)), [(5, (10, 14)), [], [], [], []], [(5, (10, 15)), [], [], [], []], [(5, (11, 14)), [], [], [], []], [(5, (11, 15)), [], [], [], []]]], [(3, (3, 2)), [(4, (6, 4)), [(5, (12, 8)), [], [], [], []], [(5, (12, 9)), [], [], [], []], [(5, (13, 8)), [], [], [], []], [(5, (13, 9)), [], [], [], []]], [(4, (6, 5)), [(5, (12, 10)), [], [], [], []], [(5, (12, 11)), [], [], [], []], [(5, (13, 10)), [], [], [], []], [(5, (13, 11)), [], [], [], []]], [(4, (7, 4)), [(5, (14, 8)), [], [], [], []], [(5, (14, 9)), [], [], [], []], [(5, (15, 8)), [], [], [], []], [(5, (15, 9)), [], [], [], []]], [(4, (7, 5)), [(5, (14, 10)), [], [], [], []], [(5, (14, 11)), [], [], [], []], [(5, (15, 10)), [], [], [], []], [(5, (15, 11)), [], [], [], []]]], [(3, (3, 3)), [(4, (6, 6)), [(5, (12, 12)), [], [], [], []], [(5, (12, 13)), [], [], [], []], [(5, (13, 12)), [], [], [], []], [(5, (13, 13)), [], [], [], []]], [(4, (6, 7)), [(5, (12, 14)), [], [], [], []], [(5, (12, 15)), [], [], [], []], [(5, (13, 14)), [], [], [], []], [(5, (13, 15)), [], [], [], []]], [(4, (7, 6)), [(5, (14, 12)), [], [], [], []], [(5, (14, 13)), [], [], [], []], [(5, (15, 12)), [], [], [], []], [(5, (15, 13)), [], [], [], []]], [(4, (7, 7)), [(5, (14, 14)), [], [], [], []], [(5, (14, 15)), [], [], [], []], [(5, (15, 14)), [], [], [], []], [(5, (15, 15)), [], [], [], []]]]]], [], [], []]\n"
     ]
    }
   ],
   "source": [
    "U_tree = fils_rec(shape, 0, h_max, 0, 0) \n",
    "print U_tree"
   ]
  },
  {
   "cell_type": "markdown",
   "metadata": {
    "collapsed": true
   },
   "source": [
    "#### Calcul des descendants et des parents"
   ]
  },
  {
   "cell_type": "code",
   "execution_count": 14,
   "metadata": {},
   "outputs": [],
   "source": [
    "def calcule_desc(U_tree, mem_h_u_todo):\n",
    "    if U_tree == []:\n",
    "        return []\n",
    "    else :\n",
    "        if U_tree[0] in mem_h_u_todo :\n",
    "            rep = [U_tree[0]]\n",
    "        else:\n",
    "            rep = []\n",
    "        if U_tree[1] != [] :\n",
    "            rep += calcule_desc(U_tree[1], mem_h_u_todo)\n",
    "        if U_tree[2] != [] :\n",
    "            rep += calcule_desc(U_tree[2], mem_h_u_todo)\n",
    "        if U_tree[3] != [] :\n",
    "            rep += calcule_desc(U_tree[3], mem_h_u_todo)\n",
    "        if U_tree[4] != [] :\n",
    "            rep += calcule_desc(U_tree[4], mem_h_u_todo)    \n",
    "        return rep"
   ]
  },
  {
   "cell_type": "code",
   "execution_count": 15,
   "metadata": {},
   "outputs": [
    {
     "name": "stdout",
     "output_type": "stream",
     "text": [
      "[(4, (2, 3)), (5, (5, 7))]\n"
     ]
    }
   ],
   "source": [
    "print calcule_desc(U_tree, [(5, (5, 7)), (4, (2, 3))])"
   ]
  },
  {
   "cell_type": "code",
   "execution_count": 16,
   "metadata": {},
   "outputs": [],
   "source": [
    "def find_desc (U_tree, (h, u)):\n",
    "    if U_tree == []:\n",
    "        return None\n",
    "    else :    \n",
    "        if U_tree[0] == (h, u) :\n",
    "            return U_tree\n",
    "        else:\n",
    "            desc_1 = find_desc(U_tree[1], (h, u))\n",
    "            if desc_1 != None:\n",
    "                return desc_1\n",
    "            desc_2 = find_desc(U_tree[2], (h, u))\n",
    "            if desc_2 != None:\n",
    "                return desc_2\n",
    "            desc_3 = find_desc(U_tree[3], (h, u))\n",
    "            if desc_3 != None:\n",
    "                return desc_3\n",
    "            desc_4 = find_desc(U_tree[4], (h, u))\n",
    "            if desc_4 != None:\n",
    "                return desc_4"
   ]
  },
  {
   "cell_type": "code",
   "execution_count": 17,
   "metadata": {},
   "outputs": [
    {
     "name": "stdout",
     "output_type": "stream",
     "text": [
      "[(4, (2, 3)), [(5, (4, 6)), [], [], [], []], [(5, (4, 7)), [], [], [], []], [(5, (5, 6)), [], [], [], []], [(5, (5, 7)), [], [], [], []]]\n"
     ]
    }
   ],
   "source": [
    "print find_desc(U_tree, (4, (2, 3)))"
   ]
  },
  {
   "cell_type": "code",
   "execution_count": 18,
   "metadata": {},
   "outputs": [],
   "source": [
    "def calcule_asc_path(h,u):\n",
    "    rep = []\n",
    "    for h_inf in range(h, 0, -1):\n",
    "        i_inf = u[0] / (2 ** (h - h_inf))\n",
    "        j_inf = u[1] / (2 ** (h - h_inf))\n",
    "        rep += [(h_inf, (i_inf, j_inf))]\n",
    "    # racine\n",
    "    rep += [(0, (i_inf, j_inf))]\n",
    "    return rep"
   ]
  },
  {
   "cell_type": "code",
   "execution_count": 19,
   "metadata": {},
   "outputs": [
    {
     "name": "stdout",
     "output_type": "stream",
     "text": [
      "[(5, (15, 3)), (4, (7, 1)), (3, (3, 0)), (2, (1, 0)), (1, (0, 0)), (0, (0, 0))]\n"
     ]
    }
   ],
   "source": [
    "print calcule_asc_path(5,(15,3))"
   ]
  },
  {
   "cell_type": "markdown",
   "metadata": {},
   "source": [
    "#### Etapes de calcul du posterior : likelihood - log-score - posterior"
   ]
  },
  {
   "cell_type": "code",
   "execution_count": 30,
   "metadata": {},
   "outputs": [],
   "source": [
    "# Likelihood calculation (over z's, for given v, h and u)\n",
    "\n",
    "def calc_lik(v,h,u):\n",
    "    lik = np.zeros(10)\n",
    "    for c in range(10):\n",
    "        if np.linalg.norm(v) < 1e-16:\n",
    "            if np.linalg.norm(mu[c][h][u]) > 1e-16:\n",
    "                lik[c] = rho[c][h][u]\n",
    "            else:\n",
    "                lik[c] = 1                \n",
    "        else:\n",
    "            if np.linalg.norm(mu[c][h][u]) > 1e-16:\n",
    "                if h == 0:\n",
    "                    dist = multivariate_normal(mean = mu[c][h][u], cov = Sigma[c][h][u])\n",
    "                else:\n",
    "                    dist = multivariate_normal(mean = mu[c][h][u], cov = Sigma[c][h][u] + 1e-10 * np.eye(3))\n",
    "                lik[c] = (1-rho[c][h][u]) * dist.pdf(v)\n",
    "                #lik[c] =  dist.pdf(v)\n",
    "            else:\n",
    "                lik[c] = 0\n",
    "        lik[c] = max(lik[c],1e-16)    \n",
    "    return lik"
   ]
  },
  {
   "cell_type": "code",
   "execution_count": 21,
   "metadata": {},
   "outputs": [],
   "source": [
    "# Log posterior\n",
    "\n",
    "def update_log_score(log_score, lik):\n",
    "    #print 'lik =' + str(lik) \n",
    "    log_score += np.log(lik) \n",
    "    max_log_score = max(log_score)\n",
    "    log_score -= max_log_score\n",
    "    return log_score"
   ]
  },
  {
   "cell_type": "code",
   "execution_count": 22,
   "metadata": {},
   "outputs": [],
   "source": [
    "# Posterior (Softmax)\n",
    "    \n",
    "def calc_pi(log_score): # TODO\n",
    "    Z = np.sum(np.exp(log_score))\n",
    "    pi = np.exp(log_score)/Z\n",
    "    #print 'pi =' + str(pi)\n",
    "    #print 'max(pi) = ',max(pi)\n",
    "    return pi"
   ]
  },
  {
   "cell_type": "markdown",
   "metadata": {},
   "source": [
    "#### Métriques"
   ]
  },
  {
   "cell_type": "code",
   "execution_count": 23,
   "metadata": {},
   "outputs": [],
   "source": [
    "# Entropy (over counterfactual viewpoint (h_plus, u_plus))\n",
    "\n",
    "def calc_H_plus(log_score, v_plus, h_plus, u_plus):\n",
    "    lik_plus = calc_lik(v_plus, h_plus, u_plus)\n",
    "    log_score_plus = update_log_score(np.copy(log_score), lik_plus)\n",
    "    pi_plus = calc_pi(log_score_plus)\n",
    "    sum_H = - pi_plus * np.log(pi_plus)\n",
    "    #print 'sum_H : ', sum_H\n",
    "    #print np.log(lik)\n",
    "    #print '****', 'c :', c_ref, ', h :', h, ', u :',u, ' ---> ', np.where(pi == max(pi))[0][0]\n",
    "    #print '**** H = ',\n",
    "    return sum_H.sum()\n"
   ]
  },
  {
   "cell_type": "code",
   "execution_count": 24,
   "metadata": {},
   "outputs": [],
   "source": [
    "# Free Energy (over counterfactual viewpoint (h_plus, u_plus))\n",
    "\n",
    "def calc_F_plus(pi, log_score, v_plus, h_plus, u_plus):    \n",
    "    lik_plus = calc_lik(v_plus, h_plus, u_plus)\n",
    "    log_score_plus = update_log_score(np.copy(log_score), lik_plus)\n",
    "    pi_plus = calc_pi(log_score_plus)\n",
    "    sum_F = - pi_plus * (np.log(lik_plus) - np.log(pi_plus) + np.log(pi))\n",
    "    #print 'sum_F : ', sum_F\n",
    "    #print np.log(lik)\n",
    "    #print '****', 'c :', c_ref, ', h :', h, ', u :',u, ' ---> ', np.where(pi == max(pi))[0][0]\n",
    "    #print '**** H = ',\n",
    "    return sum_F.sum()   \n"
   ]
  },
  {
   "cell_type": "code",
   "execution_count": 25,
   "metadata": {},
   "outputs": [],
   "source": [
    "def calc_IB_plus(pi, log_score, v_plus, h_plus, u_plus):    \n",
    "    lik_plus = calc_lik(v_plus, h_plus, u_plus)\n",
    "    log_score_plus = update_log_score(np.copy(log_score), lik_plus)\n",
    "    pi_plus = calc_pi(log_score_plus)\n",
    "    sum_IB = pi_plus * (np.log(pi_plus) - np.log(pi))\n",
    "    #print 'sum_F : ', sum_F\n",
    "    #print np.log(lik)\n",
    "    #print '****', 'c :', c_ref, ', h :', h, ', u :',u, ' ---> ', np.where(pi == max(pi))[0][0]\n",
    "    #print '**** H = ',\n",
    "    return sum_IB.sum()   \n"
   ]
  },
  {
   "cell_type": "code",
   "execution_count": 26,
   "metadata": {
    "scrolled": false
   },
   "outputs": [],
   "source": [
    "# Gibbs Energy\n",
    "\n",
    "def calc_E_plus(pi, v_plus, h_plus, u_plus):    \n",
    "    lik_plus = calc_lik(v_plus, h_plus, u_plus)\n",
    "    sum_E = pi * lik_plus\n",
    "    #print 'sum_F : ', sum_F\n",
    "    #print np.log(lik)\n",
    "    #print '****', 'c :', c_ref, ', h :', h, ', u :',u, ' ---> ', np.where(pi == max(pi))[0][0]\n",
    "    #print '**** H = ',\n",
    "    return sum_E.sum()   "
   ]
  },
  {
   "cell_type": "markdown",
   "metadata": {},
   "source": [
    "#### Generators"
   ]
  },
  {
   "cell_type": "code",
   "execution_count": 27,
   "metadata": {},
   "outputs": [],
   "source": [
    "def argmax_generator(c, h, u):\n",
    "    test_pred = rho[c][h][u] < .5       \n",
    "    if test_pred:\n",
    "        return mu[c][h][u]\n",
    "        #v_predictive = np.random.multivariate_normal(mu[c_predictive][h_path][u_path], Sigma[c_predictive][h_path][u_path], 1)[0]\n",
    "    else:\n",
    "        return np.zeros(3)"
   ]
  },
  {
   "cell_type": "code",
   "execution_count": 28,
   "metadata": {},
   "outputs": [],
   "source": [
    "def monte_carlo_generator(c, h, u):\n",
    "    if np.random.random() > rho[c][h][u]:\n",
    "        return np.random.multivariate_normal(mu[c][h][u], Sigma[c][h][u], 1)[0]\n",
    "    else:\n",
    "        return np.zeros(3)"
   ]
  },
  {
   "cell_type": "markdown",
   "metadata": {},
   "source": [
    "#### Likelihood map : `lik_predictive[c][h][u]`"
   ]
  },
  {
   "cell_type": "code",
   "execution_count": 31,
   "metadata": {},
   "outputs": [],
   "source": [
    "h_max = 6\n",
    "lik_predictive = {}\n",
    "for c in range(10):\n",
    "    lik_predictive[c] = {}\n",
    "    for h in range(h_max):\n",
    "        lik_predictive[c][h] = {}\n",
    "        for u in U[h]:\n",
    "            log_score = np.zeros(10)\n",
    "            v_predictive = argmax_generator(c, h, u)\n",
    "            lik = calc_lik(v_predictive, h, u)\n",
    "            lik_predictive[c][h][u] = lik"
   ]
  },
  {
   "cell_type": "markdown",
   "metadata": {},
   "source": [
    "#### Effective saliency map : `pi_predictive[c][u]` (h = 5) "
   ]
  },
  {
   "cell_type": "code",
   "execution_count": 32,
   "metadata": {
    "scrolled": true
   },
   "outputs": [
    {
     "name": "stdout",
     "output_type": "stream",
     "text": [
      "0\n",
      "1\n",
      "2\n",
      "3\n",
      "4\n",
      "5\n",
      "6\n",
      "7\n",
      "8\n",
      "9\n"
     ]
    }
   ],
   "source": [
    "if not os.path.isfile(\"mnist-waveimage-saliency-map.pkl\"):\n",
    "    h = h_max - 1\n",
    "    pi_predictive_eff = {}\n",
    "    for c in range(10):\n",
    "        print c\n",
    "        pi_predictive_eff[c] = {}\n",
    "\n",
    "        mem_h_u = []\n",
    "        mem_h_u_todo = {}\n",
    "        for u_add in U[h]:\n",
    "            mem_h_u_todo[(5, u_add)] = 1\n",
    "\n",
    "        while len(mem_h_u_todo) > 0 :    \n",
    "            pi_predictive_plus = {}\n",
    "            for (h, u) in mem_h_u_todo:\n",
    "                liste_path = calcule_asc_path(h, u)\n",
    "                log_score_path = np.zeros(10)\n",
    "                for (h_path, u_path) in liste_path[:-1]:\n",
    "                    if (h_path, u_path) not in mem_h_u:\n",
    "                        log_score_path = update_log_score(log_score_path, lik_predictive[c][h_path][u_path])\n",
    "                pi_path = calc_pi(log_score_path)\n",
    "                #print pi_path\n",
    "                pi_predictive_plus[u] = pi_path[c] \n",
    "                #print h_plus, u_plus\n",
    "            keys = pi_predictive_plus.keys()\n",
    "            values = np.array(pi_predictive_plus.values())\n",
    "            k = np.argmax(values)\n",
    "            u_tilde = keys[k]\n",
    "            #print len(pi_predictive_plus), len(mem_h_u), (values[k], (h, u))\n",
    "\n",
    "            pi_predictive_eff[c][u_tilde] = values[k]\n",
    "            mem_h_u_todo.pop((h, u_tilde)) \n",
    "            liste_path = calcule_asc_path(h, u_tilde)\n",
    "            log_score_path = np.zeros(10)\n",
    "            for (h_path, u_path) in liste_path[:-1]:\n",
    "                if (h_path, u_path) not in mem_h_u:\n",
    "                    mem_h_u += [(h_path, u_path)]       \n",
    "    pickle.dump(pi_predictive_eff,  open(\"mnist-waveimage-saliency-map.pkl\", \"wb\"))\n",
    "else:\n",
    "    pi_predictive_eff = pickle.load(open(\"mnist-waveimage-saliency-map.pkl\", \"rb\"))            \n",
    "        #print 'CHOIX :', (h, u)\n",
    "        \n",
    "        \n",
    "        "
   ]
  },
  {
   "cell_type": "code",
   "execution_count": null,
   "metadata": {},
   "outputs": [],
   "source": []
  },
  {
   "cell_type": "code",
   "execution_count": null,
   "metadata": {},
   "outputs": [],
   "source": []
  }
 ],
 "metadata": {
  "kernelspec": {
   "display_name": "Python 2",
   "language": "python",
   "name": "python2"
  },
  "language_info": {
   "codemirror_mode": {
    "name": "ipython",
    "version": 2
   },
   "file_extension": ".py",
   "mimetype": "text/x-python",
   "name": "python",
   "nbconvert_exporter": "python",
   "pygments_lexer": "ipython2",
   "version": "2.7.13"
  }
 },
 "nbformat": 4,
 "nbformat_minor": 1
}
