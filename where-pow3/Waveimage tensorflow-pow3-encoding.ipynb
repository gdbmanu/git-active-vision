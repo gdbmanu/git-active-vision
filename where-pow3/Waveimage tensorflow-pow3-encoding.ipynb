{
 "cells": [
  {
   "cell_type": "code",
   "execution_count": 1,
   "metadata": {},
   "outputs": [],
   "source": [
    "%matplotlib inline"
   ]
  },
  {
   "cell_type": "code",
   "execution_count": 2,
   "metadata": {},
   "outputs": [],
   "source": [
    "import tensorflow as tf\n",
    "import matplotlib.pyplot as plt\n",
    "import numpy as np\n",
    "import sys\n",
    "import math"
   ]
  },
  {
   "cell_type": "code",
   "execution_count": 3,
   "metadata": {},
   "outputs": [],
   "source": [
    "import pywt"
   ]
  },
  {
   "cell_type": "code",
   "execution_count": 4,
   "metadata": {},
   "outputs": [
    {
     "name": "stdout",
     "output_type": "stream",
     "text": [
      "Extracting MNIST_data/train-images-idx3-ubyte.gz\n",
      "Extracting MNIST_data/train-labels-idx1-ubyte.gz\n",
      "Extracting MNIST_data/t10k-images-idx3-ubyte.gz\n",
      "Extracting MNIST_data/t10k-labels-idx1-ubyte.gz\n"
     ]
    }
   ],
   "source": [
    "from tensorflow.examples.tutorials.mnist import input_data\n",
    "mnist = input_data.read_data_sets(\"MNIST_data/\", one_hot=True)"
   ]
  },
  {
   "cell_type": "code",
   "execution_count": 5,
   "metadata": {},
   "outputs": [],
   "source": [
    "def mnist_reshape_128(x, i_offset = 0, j_offset = 0):\n",
    "    assert x.shape == (28 * 28,)\n",
    "    image = x.reshape(28, 28)\n",
    "    image = np.append(np.zeros((128 + 2, 28)), image, axis = 0)\n",
    "    image = np.append(image, np.zeros((128 + 2, 28)), axis = 0)\n",
    "    image = np.append(np.zeros((288, 128 + 2)), image, axis = 1)\n",
    "    image = np.append(image, np.zeros((288, 128 + 2)), axis = 1)\n",
    "    return image[128 + 16 - 64 - i_offset : 128 + 16 + 64 - i_offset, 128 + 16 - 64 - j_offset : 128 + 16 + 64 - j_offset]"
   ]
  },
  {
   "cell_type": "code",
   "execution_count": 6,
   "metadata": {
    "scrolled": true
   },
   "outputs": [
    {
     "data": {
      "text/plain": [
       "<matplotlib.image.AxesImage at 0x7f816f04de10>"
      ]
     },
     "execution_count": 6,
     "metadata": {},
     "output_type": "execute_result"
    },
    {
     "data": {
      "image/png": "[encoded data removed]",
      "text/plain": [
       "<matplotlib.figure.Figure at 0x7f818a6a79d0>"
      ]
     },
     "metadata": {},
     "output_type": "display_data"
    },
    {
     "data": {
      "image/png": "[encoded data removed]",
      "text/plain": [
       "<matplotlib.figure.Figure at 0x7f816f191c90>"
      ]
     },
     "metadata": {},
     "output_type": "display_data"
    }
   ],
   "source": [
    "plt.imshow(mnist_reshape_128(mnist.train.images[0], i_offset = -40, j_offset = 40), interpolation = 'nearest', cmap = 'gray_r')\n",
    "plt.figure()\n",
    "plt.imshow(mnist.train.images[0].reshape((28,28)), interpolation = 'nearest', cmap = 'gray_r')"
   ]
  },
  {
   "cell_type": "code",
   "execution_count": 12,
   "metadata": {},
   "outputs": [],
   "source": [
    "def calc_dim(shape, h, h_max):\n",
    "\tassert 0 <= h < h_max\n",
    "\tif h == 0:\n",
    "\t\tdim_i = int(math.ceil(shape[0] * 1. // 2**(h_max - 1)))\n",
    "\t\tdim_j = int(math.ceil(shape[1] * 1. // 2**(h_max - 1)))\n",
    "\telse :\n",
    "\t\tdim_i = int(math.ceil(shape[0] * 1. // 2**(h_max - h)))\n",
    "\t\tdim_j = int(math.ceil(shape[1] * 1. // 2**(h_max - h)))\n",
    "\treturn dim_i, dim_j"
   ]
  },
  {
   "cell_type": "code",
   "execution_count": 13,
   "metadata": {},
   "outputs": [],
   "source": [
    "class WaveImage:\n",
    "\t\n",
    "\tdef __init__(self, image = None, shape = (32, 32)):\n",
    "\t\t\n",
    "\t\t# Attribut shape\n",
    "\t\tif image is not None:\n",
    "\t\t\t# Decomposition ondelettes\n",
    "\t\t\tcoeffs = pywt.wavedec2(image, 'haar')\n",
    "\t\t\tself.__shape = image.shape\n",
    "\t\telse:\n",
    "\t\t\tself.__shape = shape\n",
    "\t\t\n",
    "\t\t# Attribut h_max : profondeur de l'image\n",
    "\t\tself.__h_max = min(int(math.log(self.__shape[0], 2)) + 1, \tint(math.log(self.__shape[1], 2)) + 1)\n",
    "\t\t\t\n",
    "\t\t# Attribut data : L'attribut data contient les vecteurs en position [h][u] (dictionnaire)\n",
    "\t\tif image is not None:\n",
    "\t\t\tself.__data = {}\n",
    "\t\t\tfor h in range(self.__h_max):\n",
    "\t\t\t\tself.__data[h] = {}\n",
    "\t\t\t\tif h == 0:\n",
    "\t\t\t\t\t(i_max, j_max) = coeffs[h].shape\n",
    "\t\t\t\telse:\n",
    "\t\t\t\t\t(i_max, j_max) = coeffs[h][0].shape\n",
    "\t\t\t\tfor i in range(i_max):\n",
    "\t\t\t\t\tfor j in range(j_max):\n",
    "\t\t\t\t\t\tif h == 0:\n",
    "\t\t\t\t\t\t\tdata = coeffs[h][i][j]\n",
    "\t\t\t\t\t\telse:\n",
    "\t\t\t\t\t\t\tdata = coeffs[h][0][i][j]\n",
    "\t\t\t\t\t\t\tfor k in range(1,len(coeffs[h])):\n",
    "\t\t\t\t\t\t\t\tdata = np.append(data, coeffs[h][k][i][j])\t\n",
    "\t\t\t\t\t\tself.__data[h][(i, j)] = data\t\t\t\t\n",
    "\t\telse: # image is None\n",
    "\t\t\tself.__data = {}\n",
    "\t\t\tfor h in range(self.__h_max):\n",
    "\t\t\t\tself.__data[h] = {}\n",
    "\t\t\t\t\t\n",
    "\t\t\n",
    "\tdef get_data(self):\n",
    "\t\treturn self.__data\n",
    "\t\n",
    "\tdef get_shape(self):\n",
    "\t\treturn self.__data\n",
    "\t\t\t\t\n",
    "\tdef set_data(self, h, u, v):\n",
    "\t\tassert 0 <= h < self.__h_max\n",
    "\t\tdim_i, dim_j = calc_dim(self.__shape, h, self.__h_max)\n",
    "\t\tassert 0 <= u[0] < dim_i\n",
    "\t\tassert 0 <= u[1] < dim_j\n",
    "\t\tif h == 0 :\n",
    "\t\t\tself.__data[h][u] = v\n",
    "\t\telse:\n",
    "\t\t\tself.__data[h][u] = np.copy(v)\n",
    "\t\t\n",
    "\tdef get_h_max(self):\n",
    "\t\treturn self.__h_max\n",
    "\t\t\n",
    "\tdef get_image(self):\n",
    "\t\tcoeffs = []\n",
    "\t\tfor h in range(self.__h_max):\n",
    "\t\t\tdim_i, dim_j = calc_dim(self.__shape, h, self.__h_max)\n",
    "\t\t\tif h == 0:\n",
    "\t\t\t\tcoeffs_h = np.zeros((dim_i, dim_j))\n",
    "\t\t\t\tfor u in self.__data[h]:\n",
    "\t\t\t\t\tcoeffs_h[u[0],u[1]] = self.__data[h][u]\n",
    "\t\t\telse:\n",
    "\t\t\t\tcoeffs_h = [np.zeros((dim_i, dim_j)), np.zeros((dim_i, dim_j)), np.zeros((dim_i, dim_j))]\n",
    "\t\t\t\tfor u in self.__data[h]:\n",
    "\t\t\t\t\tfor k in range(3):\n",
    "\t\t\t\t\t\tcoeffs_h[k][u[0],u[1]] = self.__data[h][u][k]\n",
    "\t\t\tcoeffs += [coeffs_h]\n",
    "\t\treturn pywt.waverec2(coeffs, 'haar')\t\n",
    "\t\t\n",
    "\tdef add_coeffs(self, waveImage, u, h_ref = 0):\n",
    "\t\t# Niveau 0\n",
    "\t\th_opp = self.__h_max - 1\n",
    "\t\ti = int(u[0] // 2**h_opp) \n",
    "\t\tj = int(u[1] // 2**h_opp)\n",
    "\t\tu_0 = (i,j)\n",
    "\t\tif self.__data[0] == {}:\n",
    "\t\t\tself.__data[0][u_0] = waveImage.get_data()[0][u_0]\n",
    "\t\telse:\n",
    "\t\t\tv_test = self.__data[0][u_0]\n",
    "\t\t\tif np.linalg.norm(v_test) < 1e-16:\n",
    "\t\t\t\tself.__data[0][u_0] = waveImage.getData()[0][u_0]\n",
    "\t\t# Niveaux 1 et +\n",
    "\t\tfor h in range(1, h_ref) :\n",
    "\t\t\th_opp = self.__h_max - h\n",
    "\t\t\ti = int(u[0] // 2**h_opp) \n",
    "\t\t\tj = int(u[1] // 2**h_opp)\n",
    "\t\t\tif (i,j) in self.__data[h]:\n",
    "\t\t\t\tv_test = self.__data[h][(i,j)]\n",
    "\t\t\t\tif np.linalg.norm(v_test) < 1e-16:\n",
    "\t\t\t\t\tself.__data[h][(i,j)] = np.copy(waveImage.get_data()[h][(i,j)])\n",
    "\t\t\telse: \n",
    "\t\t\t\tself.__data[h][(i,j)] = np.copy(waveImage.get_data()[h][(i,j)])\n",
    "\t\n",
    "\tdef copy(self):\n",
    "\t\tself_shape = self.__shape \n",
    "\t\tself_copy = WaveImage(shape = self_shape)\n",
    "\t\tfor h in range(self.__h_max) :\n",
    "\t\t\tfor u in self.__data[h]:\n",
    "\t\t\t\tself_copy.set_data(h, u, self.__data[h][u])\n",
    "\t\treturn self_copy\t\n",
    "\t\t\n",
    "\tdef __str__(self):\n",
    "\t\th_max = len(self.__data)\n",
    "\t\ts = 'h_max :' + str(self.__h_max) + '\\n'\n",
    "\t\tfor h in range(self.__h_max):\n",
    "\t\t\ts += '***' + str(h) + '***\\n'\n",
    "\t\t\ts += str(self.__data[h]) + '\\n'\n",
    "\t\treturn s\n"
   ]
  },
  {
   "cell_type": "code",
   "execution_count": 14,
   "metadata": {},
   "outputs": [],
   "source": [
    "w1 = WaveImage(shape = (128, 128))\n",
    "w2 = WaveImage(image = mnist_reshape_128(mnist.train.images[1], i_offset = 5, j_offset = 5))\n",
    "w1.add_coeffs(w2, u = (63, 63), h_ref = w2.get_h_max())\n",
    "w1.add_coeffs(w2, u = (63, 65), h_ref = w2.get_h_max())\n",
    "w1.add_coeffs(w2, u = (65, 63), h_ref = w2.get_h_max())\n",
    "w1.add_coeffs(w2, u = (65, 65), h_ref = w2.get_h_max())"
   ]
  },
  {
   "cell_type": "code",
   "execution_count": 15,
   "metadata": {
    "scrolled": false
   },
   "outputs": [
    {
     "data": {
      "image/png": "[encoded data removed]",
      "text/plain": [
       "<matplotlib.figure.Figure at 0x7f816f11f250>"
      ]
     },
     "metadata": {},
     "output_type": "display_data"
    }
   ],
   "source": [
    "plt.figure(figsize = (20,20))\n",
    "plt.subplot(1,2,1)\n",
    "plt.imshow(w2.get_image(), cmap = 'gray_r', interpolation = 'nearest')\n",
    "plt.plot([-0.5, 127.5],[63.5, 63.5],'r--')\n",
    "plt.plot([63.5, 63.5],[-0.5, 127.5],'r--')\n",
    "plt.xlim([-0.5, 127.5])\n",
    "plt.ylim([-0.5, 127.5])\n",
    "plt.gca().invert_yaxis()\n",
    "plt.subplot(1,2,2)\n",
    "plt.imshow(w1.get_image(), cmap = 'gray_r', interpolation = 'nearest')\n",
    "plt.plot([-0.5, 127.5],[63.5, 63.5],'r--')\n",
    "plt.plot([63.5, 63.5],[-0.5, 127.5],'r--')\n",
    "plt.plot(63 - .5, 63 - .5, 'r+', markersize = 12)\n",
    "plt.plot(63 - .5, 65 - .5, 'r+', markersize = 12)\n",
    "plt.plot(65 - .5, 63 - .5, 'r+', markersize = 12)\n",
    "plt.plot(65 - .5, 65 - .5, 'r+', markersize = 12)\n",
    "plt.xlim([-0.5, 127.5])\n",
    "plt.ylim([-0.5, 127.5])\n",
    "plt.gca().invert_yaxis()"
   ]
  },
  {
   "cell_type": "code",
   "execution_count": 16,
   "metadata": {},
   "outputs": [],
   "source": [
    "def generate_tensor_data_with_offset_from_x(x, i_offset, j_offset):\n",
    "    # génère un dictionnaire de tenseurs indexé par la profondeur dans l'arbre des coefficients d'ondelette \n",
    "    w1 = WaveImage(shape = (128, 128))\n",
    "    w2 = WaveImage(image = mnist_reshape_128(x, i_offset = i_offset, j_offset = j_offset))\n",
    "    w1.add_coeffs(w2, u = (63, 63), h_ref = w2.get_h_max())\n",
    "    w1.add_coeffs(w2, u = (63, 65), h_ref = w2.get_h_max())\n",
    "    w1.add_coeffs(w2, u = (65, 63), h_ref = w2.get_h_max())\n",
    "    w1.add_coeffs(w2, u = (65, 65), h_ref = w2.get_h_max())\n",
    "    h_max = w1.get_h_max()\n",
    "    data = w1.get_data()\n",
    "    tensor_data = {}\n",
    "    for k in data :\n",
    "        if k == 0:\n",
    "            tensor_data[0] = data[k][(0, 0)]\n",
    "        elif k == 1:\n",
    "            tensor_data[1] = np.array(data[k][(0, 0)])    \n",
    "        else:\n",
    "            tensor_data[k] = np.zeros((2, 2, 3))\n",
    "            for u in data[k]:           \n",
    "                u_offset = 64 // (2**(h_max - k)) - 1\n",
    "                tensor_data[k][u[0] - u_offset, u[1] - u_offset, :] = np.array(data[k][u])\n",
    "    return tensor_data, w1"
   ]
  },
  {
   "cell_type": "code",
   "execution_count": 19,
   "metadata": {},
   "outputs": [],
   "source": [
    "def generate_vector_data_with_offset_from_x(x, i_offset, j_offset):\n",
    "    # retourne un vecteur contenant les coefficients utilisés de l'image w1 générée à partir d'un point de fixation\n",
    "    # central avec la cible en position i_offset, j_offset\n",
    "    w1 = WaveImage(shape = (128, 128))\n",
    "    w2 = WaveImage(image = mnist_reshape_128(x, i_offset = i_offset, j_offset = j_offset))\n",
    "    w1.add_coeffs(w2, u = (63, 63), h_ref = w2.get_h_max())\n",
    "    w1.add_coeffs(w2, u = (63, 65), h_ref = w2.get_h_max())\n",
    "    w1.add_coeffs(w2, u = (65, 63), h_ref = w2.get_h_max())\n",
    "    w1.add_coeffs(w2, u = (65, 65), h_ref = w2.get_h_max())\n",
    "    h_max = w1.get_h_max()\n",
    "    data = w1.get_data()\n",
    "    vector_data = np.array([])\n",
    "    for k in data :\n",
    "        if k == 0:\n",
    "            vector_data = np.append(vector_data, [data[k][(0, 0)]])\n",
    "        elif k == 1:\n",
    "            vector_data = np.append(vector_data, data[k][(0, 0)])  \n",
    "        else:\n",
    "            for u in data[k]:           \n",
    "                 vector_data = np.append(vector_data, data[k][u])\n",
    "    return vector_data, w1"
   ]
  },
  {
   "cell_type": "code",
   "execution_count": 23,
   "metadata": {},
   "outputs": [
    {
     "data": {
      "text/plain": [
       "<matplotlib.image.AxesImage at 0x7f816af6cfd0>"
      ]
     },
     "execution_count": 23,
     "metadata": {},
     "output_type": "execute_result"
    },
    {
     "data": {
      "image/png": "[encoded data removed]",
      "text/plain": [
       "<matplotlib.figure.Figure at 0x7f816b19f3d0>"
      ]
     },
     "metadata": {},
     "output_type": "display_data"
    },
    {
     "data": {
      "image/png": "[encoded data removed]",
      "text/plain": [
       "<matplotlib.figure.Figure at 0x7f816b087f90>"
      ]
     },
     "metadata": {},
     "output_type": "display_data"
    }
   ],
   "source": [
    "x = mnist.train.images[1] \n",
    "i_offset = 5 \n",
    "j_offset = 5\n",
    "v, w = generate_vector_data_with_offset_from_x(x, i_offset, j_offset)\n",
    "plt.figure()\n",
    "plt.plot(v)\n",
    "plt.figure()\n",
    "plt.imshow(w.get_image(), cmap = 'gray_r', interpolation = 'nearest')"
   ]
  },
  {
   "cell_type": "code",
   "execution_count": 27,
   "metadata": {},
   "outputs": [],
   "source": [
    "def generate_pow3_one_hot_coordinates_from_offset(i_offset, j_offset):\n",
    "    # i_offset, j_offset in -40,..,40\n",
    "    \n",
    "    assert -40 <= i_offset <= 40\n",
    "    assert -40 <= j_offset <= 40\n",
    "\n",
    "    pow3_i = np.zeros(4)\n",
    "    reste = 40 + i_offset\n",
    "    for pow in range(3,-1,-1):\n",
    "        pow3_i[pow] = reste // 3**pow - 1\n",
    "        reste = reste % 3**pow\n",
    "        \n",
    "    pow3_j = np.zeros(4)\n",
    "    reste = 40 + j_offset\n",
    "    for pow in range(3,-1,-1):\n",
    "        pow3_j[pow] = reste // 3**pow - 1\n",
    "        reste = reste % 3**pow\n",
    "    \n",
    "    pow3_one_hot = []\n",
    "    for pow in range(4):\n",
    "        tmp = np.zeros((3,3))\n",
    "        tmp[int(pow3_i[pow]) + 1, int(pow3_j[pow]) + 1] = 1\n",
    "        pow3_one_hot += [tmp.reshape(9,)]\n",
    "    return pow3_one_hot"
   ]
  },
  {
   "cell_type": "code",
   "execution_count": 28,
   "metadata": {},
   "outputs": [
    {
     "name": "stdout",
     "output_type": "stream",
     "text": [
      "[array([ 1.,  0.,  0.,  0.,  0.,  0.,  0.,  0.,  0.]), array([ 1.,  0.,  0.,  0.,  0.,  0.,  0.,  0.,  0.]), array([ 0.,  0.,  0.,  0.,  0.,  0.,  0.,  0.,  1.]), array([ 0.,  0.,  0.,  0.,  1.,  0.,  0.,  0.,  0.])]\n"
     ]
    }
   ],
   "source": [
    "y = generate_pow3_one_hot_coordinates_from_offset(i_offset, j_offset)\n",
    "print(y)"
   ]
  },
  {
   "cell_type": "markdown",
   "metadata": {},
   "source": [
    "Tests"
   ]
  },
  {
   "cell_type": "code",
   "execution_count": 42,
   "metadata": {},
   "outputs": [],
   "source": [
    "def decode_from_pow3_one_hot(pow3_one_hot):\n",
    "    i_offset = 0\n",
    "    j_offset = 0\n",
    "    for pow in range(len(pow3_one_hot)):\n",
    "        tmp = pow3_one_hot[pow].reshape(3,3)\n",
    "        i_tmp, j_tmp = np.where(tmp == 1)\n",
    "        i_offset += (i_tmp[0] - 1) * 3**pow \n",
    "        j_offset += (j_tmp[0] - 1) * 3**pow\n",
    "    return i_offset, j_offset"
   ]
  },
  {
   "cell_type": "code",
   "execution_count": 43,
   "metadata": {},
   "outputs": [
    {
     "name": "stdout",
     "output_type": "stream",
     "text": [
      "(5, 5)\n"
     ]
    }
   ],
   "source": [
    "print(decode_from_pow3_one_hot(y))"
   ]
  },
  {
   "cell_type": "code",
   "execution_count": 75,
   "metadata": {},
   "outputs": [
    {
     "data": {
      "image/png": "[encoded data removed]",
      "text/plain": [
       "<matplotlib.figure.Figure at 0x7f816ae68c10>"
      ]
     },
     "metadata": {},
     "output_type": "display_data"
    },
    {
     "data": {
      "image/png": "[encoded data removed]",
      "text/plain": [
       "<matplotlib.figure.Figure at 0x7f816ac458d0>"
      ]
     },
     "metadata": {},
     "output_type": "display_data"
    },
    {
     "data": {
      "image/png": "[encoded data removed]",
      "text/plain": [
       "<matplotlib.figure.Figure at 0x7f816a9b9550>"
      ]
     },
     "metadata": {},
     "output_type": "display_data"
    },
    {
     "data": {
      "image/png": "[encoded data removed]",
      "text/plain": [
       "<matplotlib.figure.Figure at 0x7f816812bb50>"
      ]
     },
     "metadata": {},
     "output_type": "display_data"
    },
    {
     "data": {
      "image/png": "[encoded data removed]",
      "text/plain": [
       "<matplotlib.figure.Figure at 0x7f81688a1810>"
      ]
     },
     "metadata": {},
     "output_type": "display_data"
    },
    {
     "data": {
      "image/png": "[encoded data removed]",
      "text/plain": [
       "<matplotlib.figure.Figure at 0x7f8168420490>"
      ]
     },
     "metadata": {},
     "output_type": "display_data"
    },
    {
     "data": {
      "image/png": "[encoded data removed]",
      "text/plain": [
       "<matplotlib.figure.Figure at 0x7f8168834a90>"
      ]
     },
     "metadata": {},
     "output_type": "display_data"
    },
    {
     "data": {
      "image/png": "[encoded data removed]",
      "text/plain": [
       "<matplotlib.figure.Figure at 0x7f8167ed5750>"
      ]
     },
     "metadata": {},
     "output_type": "display_data"
    },
    {
     "data": {
      "image/png": "[encoded data removed]",
      "text/plain": [
       "<matplotlib.figure.Figure at 0x7f8167fb03d0>"
      ]
     },
     "metadata": {},
     "output_type": "display_data"
    },
    {
     "data": {
      "image/png": "[encoded data removed]",
      "text/plain": [
       "<matplotlib.figure.Figure at 0x7f816f0ecf50>"
      ]
     },
     "metadata": {},
     "output_type": "display_data"
    }
   ],
   "source": [
    "# Main program\n",
    "BATCH_SIZE = 10\n",
    "batch = mnist.train.next_batch(BATCH_SIZE)\n",
    "data = []\n",
    "for x in batch[0]:\n",
    "    #i_offset = np.random.randint(0,81) - 40\n",
    "    #j_offset = np.random.randint(0,81) - 40\n",
    "    i_offset = int(np.random.randn() * 15)\n",
    "    i_offset = max(i_offset, -40)\n",
    "    i_offset = min(i_offset, 40)\n",
    "    j_offset = int(np.random.randn() * 15)  \n",
    "    j_offset = max(j_offset, -40)\n",
    "    j_offset = min(j_offset, 40)\n",
    "    v, w = generate_vector_data_with_offset_from_x(x, i_offset, j_offset)\n",
    "    y = generate_pow3_one_hot_coordinates_from_offset(i_offset, j_offset)\n",
    "    data += [(v,y)]\n",
    "    \n",
    "    # Visualisation\n",
    "    plt.figure()\n",
    "    plt.subplot(1,2,1)\n",
    "    w_ref = WaveImage(image = mnist_reshape_128(x, i_offset = i_offset, j_offset = j_offset))\n",
    "    plt.imshow(w_ref.get_image(), cmap = 'gray_r', interpolation = 'nearest')\n",
    "    plt.title((i_offset, j_offset))\n",
    "    plt.subplot(1,2,2)\n",
    "    plt.imshow(w.get_image(), cmap = 'gray_r', interpolation = 'nearest')\n",
    "\n",
    "    "
   ]
  },
  {
   "cell_type": "code",
   "execution_count": 81,
   "metadata": {},
   "outputs": [
    {
     "name": "stdout",
     "output_type": "stream",
     "text": [
      "0\n",
      "[ 0.67380519 -0.03630515 -0.67380519  0.03630515 -0.63750004  0.63750004\n",
      " -0.63750004  0.          0.          0.          0.          0.          0.\n",
      "  0.71011034  0.71011034  0.71011034 -1.27500008 -0.04828431  0.04828431\n",
      "  0.          0.          0.          0.          0.          0.\n",
      "  1.42022067  1.40012263  1.40012263  2.23799034 -1.68161775 -1.09926478\n",
      " -1.22671577  0.10171569 -0.10171569  0.          0.          0.          0.\n",
      "  0.          0.          1.13872556 -1.06421575 -1.06421575 -0.9696079\n",
      " -1.32843146  0.9696079   0.          0.          0.          0.          0.\n",
      "  0.          0.07058824 -0.07450981 -0.07058824  0.          0.          0.\n",
      "  0.          0.          0.          0.          0.          0.          0.\n",
      "  0.          0.          0.          0.          0.          0.          0.\n",
      "  0.          0.          0.          0.        ]\n",
      "[array([ 0.,  1.,  0.,  0.,  0.,  0.,  0.,  0.,  0.]), array([ 0.,  0.,  0.,  0.,  0.,  1.,  0.,  0.,  0.]), array([ 0.,  0.,  0.,  0.,  0.,  1.,  0.,  0.,  0.]), array([ 0.,  0.,  0.,  0.,  1.,  0.,  0.,  0.,  0.])]\n",
      "\n",
      "************************************************************************************************************************\n",
      "1\n",
      "[ 0.68314955  0.13063726 -0.11905638  0.12365197 -0.40459561  0.40459561\n",
      " -0.40459561  0.15490197 -0.15490197 -0.15490197 -0.4091912  -0.4091912\n",
      "  0.4091912   0.39761032  0.39761032  0.39761032 -0.80919122  0.80919122\n",
      " -0.80919122 -0.8183824  -0.8183824   0.8183824   0.30980394 -0.30980394\n",
      " -0.30980394  0.79522064  0.79522064  0.79522064  1.59044128  0.90955888\n",
      "  0.90955888 -1.12279419  1.37965694 -0.88406868  0.20392159 -1.6367648\n",
      " -0.20392159  0.61960789 -0.61960789 -0.61960789  2.47450996  0.12843138\n",
      "  0.10294119  0.6053922   1.98774522  0.12990198 -0.6789216  -1.16127457\n",
      "  0.95049025  1.23333342 -1.23921577 -1.23333342 -0.83039222  0.08529415\n",
      " -0.25        1.15588242  0.83039221  0.10882354 -0.91764712 -0.98627457\n",
      " -0.19215685  0.50980397 -0.50784318  0.75294123 -0.80392164  0.          0.\n",
      "  0.58431376  0.37254905  0.23529414  0.08039215  0.08039215 -0.08039215\n",
      " -0.3921569   0.49411767  0.34117651]\n",
      "[array([ 0.,  0.,  0.,  0.,  0.,  1.,  0.,  0.,  0.]), array([ 0.,  1.,  0.,  0.,  0.,  0.,  0.,  0.,  0.]), array([ 0.,  0.,  0.,  0.,  1.,  0.,  0.,  0.,  0.]), array([ 0.,  0.,  0.,  0.,  1.,  0.,  0.,  0.,  0.])]\n",
      "\n",
      "************************************************************************************************************************\n",
      "2\n",
      "[ 1.13030031 -1.13030031 -1.13030031  1.13030031  0.          0.          0.\n",
      "  0.          0.          0.          0.          0.          0.\n",
      "  2.26060063  2.26060063  2.26060063  0.          0.          0.          0.\n",
      "  0.          0.          0.          0.          0.         -2.75919134\n",
      "  3.09816196 -2.27242661 -1.29387263 -1.29387263  1.29387263  0.          0.\n",
      "  0.          0.          0.          0.          0.          0.          0.\n",
      "  0.          0.          0.          0.          0.          0.          0.\n",
      "  0.          0.          0.          0.          0.          0.          0.\n",
      "  0.          0.          0.          0.          0.          0.          0.\n",
      "  0.          0.          0.          0.          0.          0.          0.\n",
      "  0.          0.          0.          0.          0.          0.          0.\n",
      "  0.        ]\n",
      "[array([ 0.,  0.,  0.,  0.,  0.,  0.,  1.,  0.,  0.]), array([ 0.,  0.,  0.,  0.,  0.,  0.,  0.,  0.,  1.]), array([ 0.,  0.,  1.,  0.,  0.,  0.,  0.,  0.,  0.]), array([ 0.,  0.,  0.,  0.,  0.,  0.,  0.,  1.,  0.])]\n",
      "\n",
      "************************************************************************************************************************\n",
      "3\n",
      "[ 1.10049026 -1.10049026 -0.12138481  0.12138481  0.          0.          0.\n",
      "  0.97910545 -0.97910545 -0.97910545  0.          0.          0.\n",
      "  1.22187507  1.22187507  1.22187507  0.          0.          0.          0.\n",
      "  0.          0.          0.04007354 -1.95821091 -0.04007354  1.02120104\n",
      "  2.44375014  1.02120104 -1.28750008  2.60220602 -0.42475493  0.          0.\n",
      "  0.          0.          0.          0.         -0.60465691 -1.99828444\n",
      "  0.60465691 -2.1774511   0.4264706  -0.4264706   0.          0.          0.\n",
      "  0.          0.          0.         -1.39362754 -1.1328432   1.1328432   0.\n",
      "  0.          0.          0.          0.          0.          0.          0.\n",
      "  0.          0.          0.          0.          0.          0.          0.\n",
      "  0.          0.          0.          0.          0.          0.          0.\n",
      "  0.          0.        ]\n",
      "[array([ 0.,  0.,  0.,  0.,  0.,  0.,  0.,  1.,  0.]), array([ 0.,  0.,  0.,  0.,  0.,  0.,  0.,  1.,  0.]), array([ 0.,  0.,  0.,  0.,  0.,  0.,  0.,  1.,  0.]), array([ 0.,  0.,  0.,  0.,  1.,  0.,  0.,  0.,  0.])]\n",
      "\n",
      "************************************************************************************************************************\n",
      "4\n",
      "[ 0.55888481 -0.55888481  0.55888481 -0.55888481  0.          0.          0.\n",
      "  1.11776963 -1.11776963 -1.11776963  0.          0.          0.          0.\n",
      "  0.          0.          0.          0.          0.          0.          0.\n",
      "  0.          1.11053924 -2.23553925 -1.11053924  0.          0.          0.\n",
      "  0.          0.          0.          0.          0.          0.          0.\n",
      "  0.          0.         -1.62647061 -0.40637256 -0.125       0.          0.\n",
      "  0.          0.          0.          0.          0.          0.          0.\n",
      "  0.43725491  1.12549022  0.43725491  0.          0.          0.          0.\n",
      "  0.          0.          0.          0.          0.          0.          0.\n",
      "  0.          0.          0.          0.          0.          0.          0.\n",
      "  0.          0.          0.          0.          0.          0.        ]\n",
      "[array([ 0.,  0.,  1.,  0.,  0.,  0.,  0.,  0.,  0.]), array([ 0.,  0.,  0.,  0.,  0.,  0.,  0.,  1.,  0.]), array([ 0.,  0.,  0.,  0.,  0.,  0.,  1.,  0.,  0.]), array([ 0.,  0.,  0.,  0.,  1.,  0.,  0.,  0.,  0.])]\n",
      "\n",
      "************************************************************************************************************************\n",
      "5\n",
      "[ 0.99463849 -0.99463849  0.99463849 -0.99463849  0.          0.          0.\n",
      "  1.98927698 -0.58253677 -0.58253677  0.          0.          0.          0.\n",
      "  0.          0.          0.          0.          0.          0.          0.\n",
      "  0.          0.41421569  2.57181376  0.41421569  0.          0.          0.\n",
      "  0.          0.          0.          0.          0.          0.          0.\n",
      "  0.          0.          0.          0.          0.          0.          0.\n",
      "  0.          0.          0.          0.          0.          0.          0.\n",
      "  0.          0.          0.          0.          0.          0.          0.\n",
      "  0.          0.          0.          0.          0.          0.          0.\n",
      "  0.          0.          0.          0.          0.          0.          0.\n",
      "  0.          0.          0.          0.          0.          0.        ]\n",
      "[array([ 0.,  0.,  0.,  0.,  0.,  0.,  0.,  0.,  1.]), array([ 0.,  0.,  0.,  0.,  0.,  0.,  1.,  0.,  0.]), array([ 0.,  0.,  0.,  0.,  0.,  0.,  0.,  1.,  0.]), array([ 0.,  0.,  0.,  1.,  0.,  0.,  0.,  0.,  0.])]\n",
      "\n",
      "************************************************************************************************************************\n",
      "6\n",
      "[ 0.74598656  0.2345282  -0.58483459 -0.37190566 -0.96862751  0.96862751\n",
      " -0.96862751  0.14926472 -0.14926472 -0.14926472 -0.01188726 -0.01188726\n",
      "  0.01188726  0.36219365  0.36219365  0.36219365 -1.93725502  1.93725502\n",
      " -1.93725502 -0.02377451 -0.02377451  0.02377451  0.29852943 -0.29852943\n",
      " -0.29852943  0.7243873   0.7243873   0.7243873   1.4487746   0.9575981\n",
      "  0.9575981   0.69950985  0.04215686  0.58088238 -0.04754902 -0.04754902\n",
      "  0.04754902  0.59705886 -0.59705886 -0.59705886  2.40637269  0.09068627\n",
      "  0.09068627  1.3102942  -0.59460788 -0.58676474 -0.09509804 -0.09509804\n",
      "  0.09509804  1.19411772 -1.16470596 -1.16470596 -0.86960789  0.05588237\n",
      "  0.35588238  0.          0.          0.         -0.19019609  0.12941177\n",
      " -0.12941177  1.10980398 -0.24901964  0.41176473 -0.89803928  0.05490196\n",
      " -0.0117647   0.          0.          0.         -0.06078432  0.06078432\n",
      " -0.06078432 -0.33137256  0.18235296  0.18235296]\n",
      "[array([ 0.,  0.,  0.,  1.,  0.,  0.,  0.,  0.,  0.]), array([ 0.,  0.,  0.,  0.,  0.,  0.,  1.,  0.,  0.]), array([ 0.,  0.,  1.,  0.,  0.,  0.,  0.,  0.,  0.]), array([ 0.,  0.,  0.,  0.,  1.,  0.,  0.,  0.,  0.])]\n",
      "\n",
      "************************************************************************************************************************\n",
      "7\n",
      "[ 0.62800249  0.34987747  0.61446082  0.33633581 -0.01354167  0.01354167\n",
      " -0.01354167  0.27812502 -0.27812502 -0.27812502 -0.96433829 -0.96433829\n",
      "  0.96433829  0.          0.          0.         -0.02708334  0.02708334\n",
      " -0.02708334 -1.83308835 -1.92867659  1.83308835  0.55625003 -0.55625003\n",
      " -0.55625003  0.          0.          0.          0.          0.          0.\n",
      " -0.05416667  0.05416667 -0.05416667 -0.3887255  -2.27205896  0.00392156\n",
      "  1.11250007 -0.62328435 -0.62328435  0.          0.          0.\n",
      "  0.10833334  0.10833334  0.10833334 -1.40637262 -1.21127459 -0.59558826\n",
      "  1.73578442  0.48774514  0.48774514  0.          0.          0.          0.\n",
      "  0.          0.         -0.94901965 -0.87647064 -0.7568628   0.90294122\n",
      "  0.89117653  0.54607847  0.          0.          0.          0.          0.\n",
      "  0.          0.14117649  0.13725492 -0.13725492  0.35686275  0.34117648\n",
      "  0.34117648]\n",
      "[array([ 0.,  0.,  0.,  0.,  0.,  1.,  0.,  0.,  0.]), array([ 0.,  0.,  0.,  0.,  0.,  0.,  0.,  0.,  1.]), array([ 1.,  0.,  0.,  0.,  0.,  0.,  0.,  0.,  0.]), array([ 0.,  0.,  0.,  0.,  1.,  0.,  0.,  0.,  0.])]\n",
      "\n",
      "************************************************************************************************************************\n",
      "8\n",
      "[ 0.57634805  0.57634805  0.57634805  0.57634805  0.          0.          0.\n",
      "  0.          0.          0.         -1.15269609 -1.15269609  1.15269609\n",
      "  0.          0.          0.          0.          0.          0.\n",
      " -0.28823529 -2.30539218  0.28823529  0.          0.          0.          0.\n",
      "  0.          0.          0.          0.          0.          0.          0.\n",
      "  0.          2.28137257 -1.34313726 -1.03088235  0.          0.          0.\n",
      "  0.          0.          0.          0.          0.          0.\n",
      "  0.31225491 -0.31225491 -0.31225491  0.          0.          0.          0.\n",
      "  0.          0.          0.          0.          0.          0.          0.\n",
      "  0.          0.          0.          0.          0.          0.          0.\n",
      "  0.          0.          0.          0.          0.          0.          0.\n",
      "  0.          0.        ]\n",
      "[array([ 0.,  0.,  1.,  0.,  0.,  0.,  0.,  0.,  0.]), array([ 0.,  0.,  0.,  0.,  0.,  0.,  0.,  1.,  0.]), array([ 0.,  0.,  0.,  0.,  0.,  0.,  1.,  0.,  0.]), array([ 0.,  1.,  0.,  0.,  0.,  0.,  0.,  0.,  0.])]\n",
      "\n",
      "************************************************************************************************************************\n",
      "9\n",
      "[ 0.50263483  0.0228554  -0.50263483 -0.0228554  -0.52549023  0.52549023\n",
      " -0.52549023  0.          0.          0.          0.          0.          0.\n",
      "  0.47977944  0.47977944  0.47977944 -1.05098046  0.9825981  -0.9825981   0.\n",
      "  0.          0.          0.          0.          0.          0.95955888\n",
      "  0.83186279  0.83186279  1.2463236  -1.49632361 -0.95122554 -1.68210795\n",
      " -0.86250005  0.51102945  0.          0.          0.          0.          0.\n",
      "  0.          0.29509806 -0.29509806 -0.29509806 -0.9446079  -1.17107851\n",
      "  0.9446079   0.          0.          0.          0.          0.          0.\n",
      "  0.          0.          0.          0.          0.          0.          0.\n",
      "  0.          0.          0.          0.          0.          0.          0.\n",
      "  0.          0.          0.          0.          0.          0.          0.\n",
      "  0.          0.          0.        ]\n",
      "[array([ 1.,  0.,  0.,  0.,  0.,  0.,  0.,  0.,  0.]), array([ 0.,  0.,  0.,  0.,  0.,  1.,  0.,  0.,  0.]), array([ 0.,  0.,  0.,  0.,  0.,  1.,  0.,  0.,  0.]), array([ 0.,  0.,  0.,  0.,  1.,  0.,  0.,  0.,  0.])]\n",
      "\n",
      "************************************************************************************************************************\n"
     ]
    }
   ],
   "source": [
    "for i, d in enumerate(data):\n",
    "    print(i)\n",
    "    print(d[0])\n",
    "    print(d[1])\n",
    "    print('')\n",
    "    print('*' * 120)"
   ]
  },
  {
   "cell_type": "code",
   "execution_count": null,
   "metadata": {},
   "outputs": [],
   "source": []
  }
 ],
 "metadata": {
  "kernelspec": {
   "display_name": "Python 2",
   "language": "python",
   "name": "python2"
  },
  "language_info": {
   "codemirror_mode": {
    "name": "ipython",
    "version": 2
   },
   "file_extension": ".py",
   "mimetype": "text/x-python",
   "name": "python",
   "nbconvert_exporter": "python",
   "pygments_lexer": "ipython2",
   "version": "2.7.13"
  }
 },
 "nbformat": 4,
 "nbformat_minor": 2
}
