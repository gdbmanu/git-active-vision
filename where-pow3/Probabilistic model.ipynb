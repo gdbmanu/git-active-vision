{
 "cells": [
  {
   "cell_type": "code",
   "execution_count": 1,
   "metadata": {},
   "outputs": [],
   "source": [
    "import tensorflow as tf\n",
    "import matplotlib.pyplot as plt\n",
    "import numpy as np\n",
    "import sys\n",
    "import math"
   ]
  },
  {
   "cell_type": "code",
   "execution_count": 2,
   "metadata": {},
   "outputs": [],
   "source": [
    "import pywt"
   ]
  },
  {
   "cell_type": "code",
   "execution_count": 50,
   "metadata": {},
   "outputs": [],
   "source": [
    "from scipy.stats import multivariate_normal"
   ]
  },
  {
   "cell_type": "code",
   "execution_count": 3,
   "metadata": {},
   "outputs": [
    {
     "name": "stdout",
     "output_type": "stream",
     "text": [
      "Extracting MNIST_data/train-images-idx3-ubyte.gz\n",
      "Extracting MNIST_data/train-labels-idx1-ubyte.gz\n",
      "Extracting MNIST_data/t10k-images-idx3-ubyte.gz\n",
      "Extracting MNIST_data/t10k-labels-idx1-ubyte.gz\n"
     ]
    }
   ],
   "source": [
    "from tensorflow.examples.tutorials.mnist import input_data\n",
    "mnist = input_data.read_data_sets(\"MNIST_data/\", one_hot=True)"
   ]
  },
  {
   "cell_type": "code",
   "execution_count": 4,
   "metadata": {},
   "outputs": [],
   "source": [
    "def mnist_reshape_128(x, i_offset = 0, j_offset = 0):\n",
    "    assert x.shape == (28 * 28,)\n",
    "    image = x.reshape(28, 28)\n",
    "    image = np.append(np.zeros((128 + 2, 28)), image, axis = 0)\n",
    "    image = np.append(image, np.zeros((128 + 2, 28)), axis = 0)\n",
    "    image = np.append(np.zeros((288, 128 + 2)), image, axis = 1)\n",
    "    image = np.append(image, np.zeros((288, 128 + 2)), axis = 1)\n",
    "    return image[128 + 16 - 64 - i_offset : 128 + 16 + 64 - i_offset, 128 + 16 - 64 - j_offset : 128 + 16 + 64 - j_offset]"
   ]
  },
  {
   "cell_type": "code",
   "execution_count": 75,
   "metadata": {},
   "outputs": [],
   "source": [
    "def calc_dim(shape, h, h_max):\n",
    "\tassert 0 <= h < h_max\n",
    "\tif h == 0:\n",
    "\t\tdim_i = int(math.ceil(shape[0] * 1. // 2**(h_max - 1)))\n",
    "\t\tdim_j = int(math.ceil(shape[1] * 1. // 2**(h_max - 1)))\n",
    "\telse :\n",
    "\t\tdim_i = int(math.ceil(shape[0] * 1. // 2**(h_max - h)))\n",
    "\t\tdim_j = int(math.ceil(shape[1] * 1. // 2**(h_max - h)))\n",
    "\treturn dim_i, dim_j"
   ]
  },
  {
   "cell_type": "code",
   "execution_count": 5,
   "metadata": {},
   "outputs": [],
   "source": [
    "class WaveImage:\n",
    "\t\n",
    "\tdef __init__(self, image = None, shape = (32, 32)):\n",
    "\t\t\n",
    "\t\t# Attribut shape\n",
    "\t\tif image is not None:\n",
    "\t\t\t# Decomposition ondelettes\n",
    "\t\t\tcoeffs = pywt.wavedec2(image, 'haar')\n",
    "\t\t\tself.__shape = image.shape\n",
    "\t\telse:\n",
    "\t\t\tself.__shape = shape\n",
    "\t\t\n",
    "\t\t# Attribut h_max : profondeur de l'image\n",
    "\t\tself.__h_max = min(int(math.log(self.__shape[0], 2)) + 1, \tint(math.log(self.__shape[1], 2)) + 1)\n",
    "\t\t\t\n",
    "\t\t# Attribut data : L'attribut data contient les vecteurs en position [h][u] (dictionnaire)\n",
    "\t\tif image is not None:\n",
    "\t\t\tself.__data = {}\n",
    "\t\t\tfor h in range(self.__h_max):\n",
    "\t\t\t\tself.__data[h] = {}\n",
    "\t\t\t\tif h == 0:\n",
    "\t\t\t\t\t(i_max, j_max) = coeffs[h].shape\n",
    "\t\t\t\telse:\n",
    "\t\t\t\t\t(i_max, j_max) = coeffs[h][0].shape\n",
    "\t\t\t\tfor i in range(i_max):\n",
    "\t\t\t\t\tfor j in range(j_max):\n",
    "\t\t\t\t\t\tif h == 0:\n",
    "\t\t\t\t\t\t\tdata = coeffs[h][i][j]\n",
    "\t\t\t\t\t\telse:\n",
    "\t\t\t\t\t\t\tdata = coeffs[h][0][i][j]\n",
    "\t\t\t\t\t\t\tfor k in range(1,len(coeffs[h])):\n",
    "\t\t\t\t\t\t\t\tdata = np.append(data, coeffs[h][k][i][j])\t\n",
    "\t\t\t\t\t\tself.__data[h][(i, j)] = data\t\t\t\t\n",
    "\t\telse: # image is None\n",
    "\t\t\tself.__data = {}\n",
    "\t\t\tfor h in range(self.__h_max):\n",
    "\t\t\t\tself.__data[h] = {}\n",
    "\t\t\t\t\t\n",
    "\t\t\n",
    "\tdef get_data(self):\n",
    "\t\treturn self.__data\n",
    "\t\n",
    "\tdef get_shape(self):\n",
    "\t\treturn self.__data\n",
    "\t\t\t\t\n",
    "\tdef set_data(self, h, u, v):\n",
    "\t\tassert 0 <= h < self.__h_max\n",
    "\t\tdim_i, dim_j = calc_dim(self.__shape, h, self.__h_max)\n",
    "\t\tassert 0 <= u[0] < dim_i\n",
    "\t\tassert 0 <= u[1] < dim_j\n",
    "\t\tif h == 0 :\n",
    "\t\t\tself.__data[h][u] = v\n",
    "\t\telse:\n",
    "\t\t\tself.__data[h][u] = np.copy(v)\n",
    "\t\t\n",
    "\tdef get_h_max(self):\n",
    "\t\treturn self.__h_max\n",
    "\t\t\n",
    "\tdef get_image(self):\n",
    "\t\tcoeffs = []\n",
    "\t\tfor h in range(self.__h_max):\n",
    "\t\t\tdim_i, dim_j = calc_dim(self.__shape, h, self.__h_max)\n",
    "\t\t\tif h == 0:\n",
    "\t\t\t\tcoeffs_h = np.zeros((dim_i, dim_j))\n",
    "\t\t\t\tfor u in self.__data[h]:\n",
    "\t\t\t\t\tcoeffs_h[u[0],u[1]] = self.__data[h][u]\n",
    "\t\t\telse:\n",
    "\t\t\t\tcoeffs_h = [np.zeros((dim_i, dim_j)), np.zeros((dim_i, dim_j)), np.zeros((dim_i, dim_j))]\n",
    "\t\t\t\tfor u in self.__data[h]:\n",
    "\t\t\t\t\tfor k in range(3):\n",
    "\t\t\t\t\t\tcoeffs_h[k][u[0],u[1]] = self.__data[h][u][k]\n",
    "\t\t\tcoeffs += [coeffs_h]\n",
    "\t\treturn pywt.waverec2(coeffs, 'haar')\t\n",
    "\t\t\n",
    "\tdef add_coeffs(self, waveImage, u, h_ref = 0):\n",
    "\t\t# Niveau 0\n",
    "\t\th_opp = self.__h_max - 1\n",
    "\t\ti = int(u[0] // 2**h_opp) \n",
    "\t\tj = int(u[1] // 2**h_opp)\n",
    "\t\tu_0 = (i,j)\n",
    "\t\tif self.__data[0] == {}:\n",
    "\t\t\tself.__data[0][u_0] = waveImage.get_data()[0][u_0]\n",
    "\t\telse:\n",
    "\t\t\tv_test = self.__data[0][u_0]\n",
    "\t\t\tif np.linalg.norm(v_test) < 1e-16:\n",
    "\t\t\t\tself.__data[0][u_0] = waveImage.getData()[0][u_0]\n",
    "\t\t# Niveaux 1 et +\n",
    "\t\tfor h in range(1, h_ref) :\n",
    "\t\t\th_opp = self.__h_max - h\n",
    "\t\t\ti = int(u[0] // 2**h_opp) \n",
    "\t\t\tj = int(u[1] // 2**h_opp)\n",
    "\t\t\tif (i,j) in self.__data[h]:\n",
    "\t\t\t\tv_test = self.__data[h][(i,j)]\n",
    "\t\t\t\tif np.linalg.norm(v_test) < 1e-16:\n",
    "\t\t\t\t\tself.__data[h][(i,j)] = np.copy(waveImage.get_data()[h][(i,j)])\n",
    "\t\t\telse: \n",
    "\t\t\t\tself.__data[h][(i,j)] = np.copy(waveImage.get_data()[h][(i,j)])\n",
    "\t\n",
    "\tdef copy(self):\n",
    "\t\tself_shape = self.__shape \n",
    "\t\tself_copy = WaveImage(shape = self_shape)\n",
    "\t\tfor h in range(self.__h_max) :\n",
    "\t\t\tfor u in self.__data[h]:\n",
    "\t\t\t\tself_copy.set_data(h, u, self.__data[h][u])\n",
    "\t\treturn self_copy\t\n",
    "\t\t\n",
    "\tdef __str__(self):\n",
    "\t\th_max = len(self.__data)\n",
    "\t\ts = 'h_max :' + str(self.__h_max) + '\\n'\n",
    "\t\tfor h in range(self.__h_max):\n",
    "\t\t\ts += '***' + str(h) + '***\\n'\n",
    "\t\t\ts += str(self.__data[h]) + '\\n'\n",
    "\t\treturn s\n"
   ]
  },
  {
   "cell_type": "code",
   "execution_count": 6,
   "metadata": {},
   "outputs": [],
   "source": [
    "def generate_vector_data_with_offset_from_x(x, i_offset, j_offset):\n",
    "    # retourne un vecteur contenant les coefficients utilisés de l'image w1 générée à partir d'un point de fixation\n",
    "    # central avec la cible en position i_offset, j_offset\n",
    "    w1 = WaveImage(shape = (128, 128))\n",
    "    w2 = WaveImage(image = mnist_reshape_128(x, i_offset = i_offset, j_offset = j_offset))\n",
    "    w1.add_coeffs(w2, u = (63, 63), h_ref = w2.get_h_max())\n",
    "    w1.add_coeffs(w2, u = (63, 65), h_ref = w2.get_h_max())\n",
    "    w1.add_coeffs(w2, u = (65, 63), h_ref = w2.get_h_max())\n",
    "    w1.add_coeffs(w2, u = (65, 65), h_ref = w2.get_h_max())\n",
    "    h_max = w1.get_h_max()\n",
    "    data = w1.get_data()\n",
    "    vector_data = np.array([])\n",
    "    for k in data :\n",
    "        if k == 0:\n",
    "            vector_data = np.append(vector_data, [data[k][(0, 0)]])\n",
    "        elif k == 1:\n",
    "            vector_data = np.append(vector_data, data[k][(0, 0)])  \n",
    "        else:\n",
    "            for u in data[k]:           \n",
    "                 vector_data = np.append(vector_data, data[k][u])\n",
    "    return vector_data, w1"
   ]
  },
  {
   "cell_type": "code",
   "execution_count": 7,
   "metadata": {},
   "outputs": [],
   "source": [
    "def minmax(value,   #valeur a delimiter\n",
    "           border): #limite min/max a ne pas depasser \n",
    "    value = max(value, -border)\n",
    "    value = min(value, border)\n",
    "    return value"
   ]
  },
  {
   "cell_type": "code",
   "execution_count": 8,
   "metadata": {},
   "outputs": [],
   "source": [
    "INPUT_DIM = 76\n",
    "ENCODER_DIM = 400\n",
    "LATENT_DIM = 2\n",
    "LAMBDA = 0"
   ]
  },
  {
   "cell_type": "code",
   "execution_count": 86,
   "metadata": {},
   "outputs": [],
   "source": [
    "def weight_variable(shape, stddev = .1):\n",
    "    xav_stddev = stddev * np.sqrt( 1. / np.prod(shape[:-1]))\n",
    "    initial = tf.random_normal(shape = shape, stddev = xav_stddev)\n",
    "    return tf.Variable(initial)"
   ]
  },
  {
   "cell_type": "code",
   "execution_count": 87,
   "metadata": {},
   "outputs": [],
   "source": [
    "def bias_variable(shape):\n",
    "    initial = tf.constant(0., shape=shape)\n",
    "    return tf.Variable(initial)"
   ]
  },
  {
   "cell_type": "code",
   "execution_count": 88,
   "metadata": {},
   "outputs": [],
   "source": [
    "x_input = tf.placeholder(dtype=tf.float32, shape=[None, INPUT_DIM])\n",
    "coord = tf.placeholder(tf.float32, shape=[None, LATENT_DIM], name='coord')         # labels (coordonnées)"
   ]
  },
  {
   "cell_type": "code",
   "execution_count": 89,
   "metadata": {},
   "outputs": [],
   "source": [
    "W_input_hidden = weight_variable([INPUT_DIM, ENCODER_DIM])\n",
    "hidden_state = tf.nn.relu(tf.matmul(x_input, W_input_hidden)) "
   ]
  },
  {
   "cell_type": "code",
   "execution_count": 90,
   "metadata": {},
   "outputs": [],
   "source": [
    "W_hidden_mu = weight_variable([ENCODER_DIM, LATENT_DIM])\n",
    "mu = tf.matmul(hidden_state, W_hidden_mu) "
   ]
  },
  {
   "cell_type": "code",
   "execution_count": 91,
   "metadata": {},
   "outputs": [],
   "source": [
    "W_hidden_logvar = weight_variable([ENCODER_DIM, LATENT_DIM])\n",
    "logvar = tf.matmul(hidden_state, W_hidden_logvar) "
   ]
  },
  {
   "cell_type": "code",
   "execution_count": 92,
   "metadata": {},
   "outputs": [],
   "source": [
    "# Sample epsilon\n",
    "epsilon = tf.random_normal(tf.shape(logvar), name='epsilon')\n",
    "# Sample latent variable\n",
    "std = tf.exp(0.5 * logvar)\n",
    "hypo = mu + tf.multiply(std, epsilon)"
   ]
  },
  {
   "cell_type": "code",
   "execution_count": 93,
   "metadata": {},
   "outputs": [],
   "source": [
    "loss = tf.reduce_mean(tf.reduce_sum(tf.square(hypo-coord), reduction_indices=1))"
   ]
  },
  {
   "cell_type": "code",
   "execution_count": 94,
   "metadata": {},
   "outputs": [],
   "source": [
    "train = tf.train.AdamOptimizer(1e-3).minimize(loss)"
   ]
  },
  {
   "cell_type": "code",
   "execution_count": 97,
   "metadata": {},
   "outputs": [],
   "source": [
    "N_STEPS = 200\n",
    "BATCH_SIZE = 100"
   ]
  },
  {
   "cell_type": "code",
   "execution_count": 98,
   "metadata": {},
   "outputs": [],
   "source": [
    "sess = tf.InteractiveSession()\n",
    "sess.run(tf.global_variables_initializer())\n",
    "saver = tf.train.Saver()"
   ]
  },
  {
   "cell_type": "code",
   "execution_count": 99,
   "metadata": {
    "scrolled": true
   },
   "outputs": [
    {
     "name": "stdout",
     "output_type": "stream",
     "text": [
      "Step 115 | Loss: 0.40746787190437317"
     ]
    },
    {
     "ename": "KeyboardInterrupt",
     "evalue": "",
     "output_type": "error",
     "traceback": [
      "\u001b[0;31m---------------------------------------------------------------------------\u001b[0m",
      "\u001b[0;31mKeyboardInterrupt\u001b[0m                         Traceback (most recent call last)",
      "\u001b[0;32m<ipython-input-99-111ae5017bbd>\u001b[0m in \u001b[0;36m<module>\u001b[0;34m()\u001b[0m\n\u001b[1;32m      9\u001b[0m         \u001b[0mcoord_values\u001b[0m \u001b[0;34m+=\u001b[0m \u001b[0;34m[\u001b[0m\u001b[0;34m(\u001b[0m\u001b[0mi_offset_normalized\u001b[0m\u001b[0;34m,\u001b[0m \u001b[0mj_offset_normalized\u001b[0m\u001b[0;34m)\u001b[0m\u001b[0;34m]\u001b[0m\u001b[0;34m\u001b[0m\u001b[0m\n\u001b[1;32m     10\u001b[0m \u001b[0;34m\u001b[0m\u001b[0m\n\u001b[0;32m---> 11\u001b[0;31m         \u001b[0mv\u001b[0m\u001b[0;34m,\u001b[0m \u001b[0mw\u001b[0m \u001b[0;34m=\u001b[0m \u001b[0mgenerate_vector_data_with_offset_from_x\u001b[0m\u001b[0;34m(\u001b[0m\u001b[0mx\u001b[0m\u001b[0;34m,\u001b[0m \u001b[0mi_offset\u001b[0m\u001b[0;34m,\u001b[0m \u001b[0mj_offset\u001b[0m\u001b[0;34m)\u001b[0m\u001b[0;34m\u001b[0m\u001b[0m\n\u001b[0m\u001b[1;32m     12\u001b[0m         \u001b[0mvalues\u001b[0m \u001b[0;34m+=\u001b[0m \u001b[0;34m[\u001b[0m\u001b[0mv\u001b[0m\u001b[0;34m]\u001b[0m\u001b[0;34m\u001b[0m\u001b[0m\n\u001b[1;32m     13\u001b[0m \u001b[0;34m\u001b[0m\u001b[0m\n",
      "\u001b[0;32m<ipython-input-6-3fa95ede7dc2>\u001b[0m in \u001b[0;36mgenerate_vector_data_with_offset_from_x\u001b[0;34m(x, i_offset, j_offset)\u001b[0m\n\u001b[1;32m      3\u001b[0m     \u001b[0;31m# central avec la cible en position i_offset, j_offset\u001b[0m\u001b[0;34m\u001b[0m\u001b[0;34m\u001b[0m\u001b[0m\n\u001b[1;32m      4\u001b[0m     \u001b[0mw1\u001b[0m \u001b[0;34m=\u001b[0m \u001b[0mWaveImage\u001b[0m\u001b[0;34m(\u001b[0m\u001b[0mshape\u001b[0m \u001b[0;34m=\u001b[0m \u001b[0;34m(\u001b[0m\u001b[0;36m128\u001b[0m\u001b[0;34m,\u001b[0m \u001b[0;36m128\u001b[0m\u001b[0;34m)\u001b[0m\u001b[0;34m)\u001b[0m\u001b[0;34m\u001b[0m\u001b[0m\n\u001b[0;32m----> 5\u001b[0;31m     \u001b[0mw2\u001b[0m \u001b[0;34m=\u001b[0m \u001b[0mWaveImage\u001b[0m\u001b[0;34m(\u001b[0m\u001b[0mimage\u001b[0m \u001b[0;34m=\u001b[0m \u001b[0mmnist_reshape_128\u001b[0m\u001b[0;34m(\u001b[0m\u001b[0mx\u001b[0m\u001b[0;34m,\u001b[0m \u001b[0mi_offset\u001b[0m \u001b[0;34m=\u001b[0m \u001b[0mi_offset\u001b[0m\u001b[0;34m,\u001b[0m \u001b[0mj_offset\u001b[0m \u001b[0;34m=\u001b[0m \u001b[0mj_offset\u001b[0m\u001b[0;34m)\u001b[0m\u001b[0;34m)\u001b[0m\u001b[0;34m\u001b[0m\u001b[0m\n\u001b[0m\u001b[1;32m      6\u001b[0m     \u001b[0mw1\u001b[0m\u001b[0;34m.\u001b[0m\u001b[0madd_coeffs\u001b[0m\u001b[0;34m(\u001b[0m\u001b[0mw2\u001b[0m\u001b[0;34m,\u001b[0m \u001b[0mu\u001b[0m \u001b[0;34m=\u001b[0m \u001b[0;34m(\u001b[0m\u001b[0;36m63\u001b[0m\u001b[0;34m,\u001b[0m \u001b[0;36m63\u001b[0m\u001b[0;34m)\u001b[0m\u001b[0;34m,\u001b[0m \u001b[0mh_ref\u001b[0m \u001b[0;34m=\u001b[0m \u001b[0mw2\u001b[0m\u001b[0;34m.\u001b[0m\u001b[0mget_h_max\u001b[0m\u001b[0;34m(\u001b[0m\u001b[0;34m)\u001b[0m\u001b[0;34m)\u001b[0m\u001b[0;34m\u001b[0m\u001b[0m\n\u001b[1;32m      7\u001b[0m     \u001b[0mw1\u001b[0m\u001b[0;34m.\u001b[0m\u001b[0madd_coeffs\u001b[0m\u001b[0;34m(\u001b[0m\u001b[0mw2\u001b[0m\u001b[0;34m,\u001b[0m \u001b[0mu\u001b[0m \u001b[0;34m=\u001b[0m \u001b[0;34m(\u001b[0m\u001b[0;36m63\u001b[0m\u001b[0;34m,\u001b[0m \u001b[0;36m65\u001b[0m\u001b[0;34m)\u001b[0m\u001b[0;34m,\u001b[0m \u001b[0mh_ref\u001b[0m \u001b[0;34m=\u001b[0m \u001b[0mw2\u001b[0m\u001b[0;34m.\u001b[0m\u001b[0mget_h_max\u001b[0m\u001b[0;34m(\u001b[0m\u001b[0;34m)\u001b[0m\u001b[0;34m)\u001b[0m\u001b[0;34m\u001b[0m\u001b[0m\n",
      "\u001b[0;32m<ipython-input-5-b6fc649b429d>\u001b[0m in \u001b[0;36m__init__\u001b[0;34m(self, image, shape)\u001b[0m\n\u001b[1;32m     30\u001b[0m                                                         \u001b[0mdata\u001b[0m \u001b[0;34m=\u001b[0m \u001b[0mcoeffs\u001b[0m\u001b[0;34m[\u001b[0m\u001b[0mh\u001b[0m\u001b[0;34m]\u001b[0m\u001b[0;34m[\u001b[0m\u001b[0;36m0\u001b[0m\u001b[0;34m]\u001b[0m\u001b[0;34m[\u001b[0m\u001b[0mi\u001b[0m\u001b[0;34m]\u001b[0m\u001b[0;34m[\u001b[0m\u001b[0mj\u001b[0m\u001b[0;34m]\u001b[0m\u001b[0;34m\u001b[0m\u001b[0m\n\u001b[1;32m     31\u001b[0m                                                         \u001b[0;32mfor\u001b[0m \u001b[0mk\u001b[0m \u001b[0;32min\u001b[0m \u001b[0mrange\u001b[0m\u001b[0;34m(\u001b[0m\u001b[0;36m1\u001b[0m\u001b[0;34m,\u001b[0m\u001b[0mlen\u001b[0m\u001b[0;34m(\u001b[0m\u001b[0mcoeffs\u001b[0m\u001b[0;34m[\u001b[0m\u001b[0mh\u001b[0m\u001b[0;34m]\u001b[0m\u001b[0;34m)\u001b[0m\u001b[0;34m)\u001b[0m\u001b[0;34m:\u001b[0m\u001b[0;34m\u001b[0m\u001b[0m\n\u001b[0;32m---> 32\u001b[0;31m                                                                 \u001b[0mdata\u001b[0m \u001b[0;34m=\u001b[0m \u001b[0mnp\u001b[0m\u001b[0;34m.\u001b[0m\u001b[0mappend\u001b[0m\u001b[0;34m(\u001b[0m\u001b[0mdata\u001b[0m\u001b[0;34m,\u001b[0m \u001b[0mcoeffs\u001b[0m\u001b[0;34m[\u001b[0m\u001b[0mh\u001b[0m\u001b[0;34m]\u001b[0m\u001b[0;34m[\u001b[0m\u001b[0mk\u001b[0m\u001b[0;34m]\u001b[0m\u001b[0;34m[\u001b[0m\u001b[0mi\u001b[0m\u001b[0;34m]\u001b[0m\u001b[0;34m[\u001b[0m\u001b[0mj\u001b[0m\u001b[0;34m]\u001b[0m\u001b[0;34m)\u001b[0m\u001b[0;34m\u001b[0m\u001b[0m\n\u001b[0m\u001b[1;32m     33\u001b[0m                                                 \u001b[0mself\u001b[0m\u001b[0;34m.\u001b[0m\u001b[0m__data\u001b[0m\u001b[0;34m[\u001b[0m\u001b[0mh\u001b[0m\u001b[0;34m]\u001b[0m\u001b[0;34m[\u001b[0m\u001b[0;34m(\u001b[0m\u001b[0mi\u001b[0m\u001b[0;34m,\u001b[0m \u001b[0mj\u001b[0m\u001b[0;34m)\u001b[0m\u001b[0;34m]\u001b[0m \u001b[0;34m=\u001b[0m \u001b[0mdata\u001b[0m\u001b[0;34m\u001b[0m\u001b[0m\n\u001b[1;32m     34\u001b[0m                 \u001b[0;32melse\u001b[0m\u001b[0;34m:\u001b[0m \u001b[0;31m# image is None\u001b[0m\u001b[0;34m\u001b[0m\u001b[0m\n",
      "\u001b[0;32m/usr/local/lib/python3.5/dist-packages/numpy/lib/function_base.py\u001b[0m in \u001b[0;36mappend\u001b[0;34m(arr, values, axis)\u001b[0m\n\u001b[1;32m   5150\u001b[0m         \u001b[0mvalues\u001b[0m \u001b[0;34m=\u001b[0m \u001b[0mravel\u001b[0m\u001b[0;34m(\u001b[0m\u001b[0mvalues\u001b[0m\u001b[0;34m)\u001b[0m\u001b[0;34m\u001b[0m\u001b[0m\n\u001b[1;32m   5151\u001b[0m         \u001b[0maxis\u001b[0m \u001b[0;34m=\u001b[0m \u001b[0marr\u001b[0m\u001b[0;34m.\u001b[0m\u001b[0mndim\u001b[0m\u001b[0;34m-\u001b[0m\u001b[0;36m1\u001b[0m\u001b[0;34m\u001b[0m\u001b[0m\n\u001b[0;32m-> 5152\u001b[0;31m     \u001b[0;32mreturn\u001b[0m \u001b[0mconcatenate\u001b[0m\u001b[0;34m(\u001b[0m\u001b[0;34m(\u001b[0m\u001b[0marr\u001b[0m\u001b[0;34m,\u001b[0m \u001b[0mvalues\u001b[0m\u001b[0;34m)\u001b[0m\u001b[0;34m,\u001b[0m \u001b[0maxis\u001b[0m\u001b[0;34m=\u001b[0m\u001b[0maxis\u001b[0m\u001b[0;34m)\u001b[0m\u001b[0;34m\u001b[0m\u001b[0m\n\u001b[0m",
      "\u001b[0;31mKeyboardInterrupt\u001b[0m: "
     ]
    }
   ],
   "source": [
    "for step in range(N_STEPS):\n",
    "    # Récupération des données d'apprentissage\n",
    "    batch = mnist.train.next_batch(BATCH_SIZE)\n",
    "    #Entrainement détecteur\n",
    "    values, coord_values = [], []\n",
    "    for x in batch[0]:\n",
    "        i_offset, j_offset = minmax(int(np.random.randn() * 15), 40), minmax(int(np.random.randn() * 15), 40)\n",
    "        i_offset_normalized, j_offset_normalized = i_offset / 15, j_offset / 15\n",
    "        coord_values += [(i_offset_normalized, j_offset_normalized)]\n",
    "        \n",
    "        v, w = generate_vector_data_with_offset_from_x(x, i_offset, j_offset)\n",
    "        values += [v]\n",
    "     \n",
    "    train.run(feed_dict = {x_input: values, coord: coord_values}) # Lancer l'entraînement   \n",
    "    \n",
    "    # Affichage\n",
    "    if step % 5 == 0:\n",
    "        loss_eval = loss.eval(feed_dict = {x_input: values, coord: coord_values})\n",
    "        sys.stdout.write(\"\\rStep {0} | Loss: {1}\".format(step, loss_eval))\n",
    "   "
   ]
  },
  {
   "cell_type": "code",
   "execution_count": 106,
   "metadata": {},
   "outputs": [
    {
     "name": "stdout",
     "output_type": "stream",
     "text": [
      "[[-0.95794457  1.08747959]]\n",
      "[[ 0.1904562   0.18758021]]\n",
      "[[-1.06009984  0.73172331]]\n"
     ]
    },
    {
     "data": {
      "image/png": "[encoded data removed]",
      "text/plain": [
       "<matplotlib.figure.Figure at 0x7fa193c09ef0>"
      ]
     },
     "metadata": {},
     "output_type": "display_data"
    }
   ],
   "source": [
    "x_test = mnist.test.images[0]\n",
    "i_offset, j_offset = -20, 20\n",
    "\n",
    "i_offset_normalized, j_offset_normalized = i_offset / 15, j_offset / 15\n",
    "coord_values = [(i_offset_normalized, j_offset_normalized)]\n",
    "\n",
    "v, w = generate_vector_data_with_offset_from_x(x_test, i_offset, j_offset)\n",
    "values = [v]\n",
    "\n",
    "mu_test, std_test, hypo_test = sess.run([mu, std, hypo], feed_dict={x_input: values})\n",
    "print(mu_test)\n",
    "print(std_test)\n",
    "print(hypo_test)\n",
    "\n",
    "DIM1 = 0\n",
    "DIM2 = 1\n",
    "axe_x, axe_y = np.mgrid[-4:4:.1, -4:4:.1]\n",
    "q = multivariate_normal(np.fliplr(mu_test)[0], np.fliplr(std_test)[0]**2 * np.eye(LATENT_DIM))\n",
    "pos = np.empty(axe_x.shape + (LATENT_DIM,))\n",
    "pos[:, :, DIM1] = axe_x; pos[:, :, DIM2] = axe_y\n",
    "\n",
    "plt.figure(figsize = (15, 8))\n",
    "\n",
    "plt.subplot(1,2,1)\n",
    "plt.imshow(w.get_image(), cmap = 'gray_r', interpolation = 'nearest')\n",
    "\n",
    "plt.subplot(1,2,2)\n",
    "plt.contourf(axe_x, axe_y, q.pdf(pos))\n",
    "\n",
    "plt.plot(hypo_test[0][DIM2], hypo_test[0][DIM1], 'xr', markersize = 10)\n",
    "plt.plot(coord_values[0][DIM2], coord_values[0][DIM1], 'xg', markersize = 10)\n",
    "\n",
    "plt.xlim(-4, 4)\n",
    "plt.ylim(-4, 4)\n",
    "\n",
    "plt.gca().invert_yaxis()\n",
    "\n"
   ]
  },
  {
   "cell_type": "code",
   "execution_count": 82,
   "metadata": {},
   "outputs": [
    {
     "data": {
      "text/plain": [
       "[(-20, 20)]"
      ]
     },
     "execution_count": 82,
     "metadata": {},
     "output_type": "execute_result"
    }
   ],
   "source": [
    "coord_values"
   ]
  },
  {
   "cell_type": "code",
   "execution_count": null,
   "metadata": {},
   "outputs": [],
   "source": []
  }
 ],
 "metadata": {
  "kernelspec": {
   "display_name": "Python 3",
   "language": "python",
   "name": "python3"
  },
  "language_info": {
   "codemirror_mode": {
    "name": "ipython",
    "version": 3
   },
   "file_extension": ".py",
   "mimetype": "text/x-python",
   "name": "python",
   "nbconvert_exporter": "python",
   "pygments_lexer": "ipython3",
   "version": "3.5.3"
  }
 },
 "nbformat": 4,
 "nbformat_minor": 2
}
